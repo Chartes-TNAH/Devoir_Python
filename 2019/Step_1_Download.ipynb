{
 "cells": [
  {
   "cell_type": "markdown",
   "metadata": {},
   "source": [
    "# TEI Conference 2019 #\n",
    "## Préambule ##\n",
    "\n",
    "Avant de proposer une analyse numérique des thèmes et sujets des Conférences TEI de l'année 2019, nous allons dans un premier temps télécharger toutes les données depuis le site web dédié, les trier et les stocker en local.\n",
    "\n",
    "Ensuite nous normaliserons les textes, pour enfin les analyser.\n",
    "\n",
    "\n",
    "\n",
    "## Etape 1 : Le Téléchargement ##\n",
    "\n",
    "### Les packages ###\n",
    "\n",
    "\n"
   ]
  },
  {
   "cell_type": "markdown",
   "metadata": {},
   "source": [
    "Il faut lancer la cellule ci-dessous à chaque fois."
   ]
  },
  {
   "cell_type": "code",
   "execution_count": 1,
   "metadata": {},
   "outputs": [],
   "source": [
    "from urllib.request import urlopen\n",
    "from bs4 import BeautifulSoup\n",
    "import csv\n",
    "import json\n",
    "import os\n",
    "from tqdm import tqdm\n",
    "#Créer un certificat SSL pour sécuriser l'accès au site internet.\n",
    "import ssl \n",
    "\n",
    "ssl._create_default_https_context = ssl._create_unverified_context "
   ]
  },
  {
   "cell_type": "markdown",
   "metadata": {},
   "source": [
    "### La récupération des liens internes ###\n",
    "\n",
    "Le site de la Conférence TEI 2019 a stocké les abstracts d'une manière particulière : Une page web renvoie grâce à des liens internes aux différents abstracts encodés en TEI. Ainsi, il faut grâce à la librairie BeautifulSoup parser le code HTML de la page, relever tous les liens internes vers les abstracts en XML, leur adjoindre l'adresse du site web pour obtenir l'URL et les stocker ensuite dans un document JSON en cache. "
   ]
  },
  {
   "cell_type": "code",
   "execution_count": 2,
   "metadata": {},
   "outputs": [
    {
     "name": "stderr",
     "output_type": "stream",
     "text": [
      "100%|██████████| 110/110 [00:00<00:00, 42161.51it/s]\n",
      "100%|██████████| 46/46 [00:00<00:00, 182361.04it/s]"
     ]
    },
    {
     "name": "stdout",
     "output_type": "stream",
     "text": [
      "Saisie des liens\n",
      "Stockage des liens\n"
     ]
    },
    {
     "name": "stderr",
     "output_type": "stream",
     "text": [
      "\n"
     ]
    }
   ],
   "source": [
    "content = urlopen('https://gams.uni-graz.at/context:tei2019.papers?context=context:tei2019.papers')\n",
    "HTML = content.read()\n",
    "\n",
    "soup = BeautifulSoup(HTML, 'html.parser') # Je parse le code HTML de la page web ci-dessus pour pouvoir le traiter avec Python\n",
    "listLink = [] # J'instancie une liste dans laquelle j'ajouterai tous les liens internes.\n",
    "print(\"Saisie des liens\")\n",
    "for link in tqdm(soup.find_all('a')): # Je cherche dans le code HTML toutes les balises <a>, et cherche la valeur des\n",
    "    # attributs href, notamment en les triant sur la base d'un motif présent dans tous les liens internes concernés.\n",
    "    if 'TEI_SOURCE' in link.get('href'):\n",
    "        lien = link.get('href')\n",
    "        listLink.append(lien)\n",
    "\n",
    "# Je crée le dossier cache.\n",
    "if not os.path.exists(\"./cache2019\"):\n",
    "    os.makedirs(\"./cache2019\")\n",
    "if not os.path.exists(\"./cache2019/cacheXML\"):\n",
    "    os.makedirs(\"./cache2019/cacheXML\")\n",
    "\n",
    " #Dans le cache, je crée un fichier JSON dans lequel je stocke les URL des abstracts.\n",
    "with open('./cache2019/liste_des_liens_internet.json', 'w') as liste_des_liens_internet:\n",
    "    i = 0 # Je crée un compteur qui servira de clés \n",
    "    liste_lien = {} #Je stocke les URL dans un dictionnaire que je vais dump ensuite directement dans le JSON\n",
    "    print(\"Stockage des liens\")\n",
    "    for linky in tqdm(listLink):\n",
    "        lien = 'https://gams.uni-graz.at' + linky #Je rajoute l'adresse du site au lien interne\n",
    "        liste_lien[i] = lien\n",
    "        i += 1\n",
    "    json.dump(liste_lien, liste_des_liens_internet)\n"
   ]
  },
  {
   "cell_type": "markdown",
   "metadata": {},
   "source": [
    "### La récupération des contenus ###\n",
    "\n",
    "Ensuite, on utilise la liste des URL stockées dans le JSON pour télécharger les abstracts dans un dictionnaire qui a en clé un entier."
   ]
  },
  {
   "cell_type": "code",
   "execution_count": 3,
   "metadata": {},
   "outputs": [
    {
     "name": "stderr",
     "output_type": "stream",
     "text": [
      "\r",
      "  0%|          | 0/46 [00:00<?, ?it/s]"
     ]
    },
    {
     "name": "stdout",
     "output_type": "stream",
     "text": [
      "Téléchargement en cours...\n"
     ]
    },
    {
     "name": "stderr",
     "output_type": "stream",
     "text": [
      "\r",
      "  2%|▏         | 1/46 [00:00<00:43,  1.04it/s]"
     ]
    },
    {
     "name": "stdout",
     "output_type": "stream",
     "text": [
      "téléchargement accompli : 0/46\n"
     ]
    },
    {
     "name": "stderr",
     "output_type": "stream",
     "text": [
      "\r",
      "  4%|▍         | 2/46 [00:01<00:42,  1.04it/s]"
     ]
    },
    {
     "name": "stdout",
     "output_type": "stream",
     "text": [
      "téléchargement accompli : 1/46\n"
     ]
    },
    {
     "name": "stderr",
     "output_type": "stream",
     "text": [
      "\r",
      "  7%|▋         | 3/46 [00:02<00:42,  1.02it/s]"
     ]
    },
    {
     "name": "stdout",
     "output_type": "stream",
     "text": [
      "téléchargement accompli : 2/46\n"
     ]
    },
    {
     "name": "stderr",
     "output_type": "stream",
     "text": [
      "\r",
      "  9%|▊         | 4/46 [00:04<00:48,  1.15s/it]"
     ]
    },
    {
     "name": "stdout",
     "output_type": "stream",
     "text": [
      "téléchargement accompli : 3/46\n"
     ]
    },
    {
     "name": "stderr",
     "output_type": "stream",
     "text": [
      "\r",
      " 11%|█         | 5/46 [00:05<00:44,  1.09s/it]"
     ]
    },
    {
     "name": "stdout",
     "output_type": "stream",
     "text": [
      "téléchargement accompli : 4/46\n"
     ]
    },
    {
     "name": "stderr",
     "output_type": "stream",
     "text": [
      "\r",
      " 13%|█▎        | 6/46 [00:06<00:43,  1.10s/it]"
     ]
    },
    {
     "name": "stdout",
     "output_type": "stream",
     "text": [
      "téléchargement accompli : 5/46\n"
     ]
    },
    {
     "name": "stderr",
     "output_type": "stream",
     "text": [
      "\r",
      " 15%|█▌        | 7/46 [00:07<00:42,  1.09s/it]"
     ]
    },
    {
     "name": "stdout",
     "output_type": "stream",
     "text": [
      "téléchargement accompli : 6/46\n"
     ]
    },
    {
     "name": "stderr",
     "output_type": "stream",
     "text": [
      "\r",
      " 17%|█▋        | 8/46 [00:08<00:42,  1.11s/it]"
     ]
    },
    {
     "name": "stdout",
     "output_type": "stream",
     "text": [
      "téléchargement accompli : 7/46\n"
     ]
    },
    {
     "name": "stderr",
     "output_type": "stream",
     "text": [
      "\r",
      " 20%|█▉        | 9/46 [00:09<00:40,  1.10s/it]"
     ]
    },
    {
     "name": "stdout",
     "output_type": "stream",
     "text": [
      "téléchargement accompli : 8/46\n"
     ]
    },
    {
     "name": "stderr",
     "output_type": "stream",
     "text": [
      "\r",
      " 22%|██▏       | 10/46 [00:10<00:38,  1.06s/it]"
     ]
    },
    {
     "name": "stdout",
     "output_type": "stream",
     "text": [
      "téléchargement accompli : 9/46\n"
     ]
    },
    {
     "name": "stderr",
     "output_type": "stream",
     "text": [
      "\r",
      " 24%|██▍       | 11/46 [00:11<00:35,  1.01s/it]"
     ]
    },
    {
     "name": "stdout",
     "output_type": "stream",
     "text": [
      "téléchargement accompli : 10/46\n"
     ]
    },
    {
     "name": "stderr",
     "output_type": "stream",
     "text": [
      "\r",
      " 26%|██▌       | 12/46 [00:12<00:34,  1.02s/it]"
     ]
    },
    {
     "name": "stdout",
     "output_type": "stream",
     "text": [
      "téléchargement accompli : 11/46\n"
     ]
    },
    {
     "name": "stderr",
     "output_type": "stream",
     "text": [
      "\r",
      " 28%|██▊       | 13/46 [00:13<00:32,  1.00it/s]"
     ]
    },
    {
     "name": "stdout",
     "output_type": "stream",
     "text": [
      "téléchargement accompli : 12/46\n"
     ]
    },
    {
     "name": "stderr",
     "output_type": "stream",
     "text": [
      "\r",
      " 30%|███       | 14/46 [00:14<00:31,  1.02it/s]"
     ]
    },
    {
     "name": "stdout",
     "output_type": "stream",
     "text": [
      "téléchargement accompli : 13/46\n"
     ]
    },
    {
     "name": "stderr",
     "output_type": "stream",
     "text": [
      "\r",
      " 33%|███▎      | 15/46 [00:15<00:30,  1.03it/s]"
     ]
    },
    {
     "name": "stdout",
     "output_type": "stream",
     "text": [
      "téléchargement accompli : 14/46\n"
     ]
    },
    {
     "name": "stderr",
     "output_type": "stream",
     "text": [
      "\r",
      " 35%|███▍      | 16/46 [00:16<00:30,  1.01s/it]"
     ]
    },
    {
     "name": "stdout",
     "output_type": "stream",
     "text": [
      "téléchargement accompli : 15/46\n"
     ]
    },
    {
     "name": "stderr",
     "output_type": "stream",
     "text": [
      "\r",
      " 37%|███▋      | 17/46 [00:18<00:33,  1.14s/it]"
     ]
    },
    {
     "name": "stdout",
     "output_type": "stream",
     "text": [
      "téléchargement accompli : 16/46\n"
     ]
    },
    {
     "name": "stderr",
     "output_type": "stream",
     "text": [
      "\r",
      " 39%|███▉      | 18/46 [00:19<00:30,  1.09s/it]"
     ]
    },
    {
     "name": "stdout",
     "output_type": "stream",
     "text": [
      "téléchargement accompli : 17/46\n"
     ]
    },
    {
     "name": "stderr",
     "output_type": "stream",
     "text": [
      "\r",
      " 41%|████▏     | 19/46 [00:20<00:28,  1.04s/it]"
     ]
    },
    {
     "name": "stdout",
     "output_type": "stream",
     "text": [
      "téléchargement accompli : 18/46\n"
     ]
    },
    {
     "name": "stderr",
     "output_type": "stream",
     "text": [
      "\r",
      " 43%|████▎     | 20/46 [00:21<00:27,  1.04s/it]"
     ]
    },
    {
     "name": "stdout",
     "output_type": "stream",
     "text": [
      "téléchargement accompli : 19/46\n"
     ]
    },
    {
     "name": "stderr",
     "output_type": "stream",
     "text": [
      "\r",
      " 46%|████▌     | 21/46 [00:22<00:26,  1.08s/it]"
     ]
    },
    {
     "name": "stdout",
     "output_type": "stream",
     "text": [
      "téléchargement accompli : 20/46\n"
     ]
    },
    {
     "name": "stderr",
     "output_type": "stream",
     "text": [
      "\r",
      " 48%|████▊     | 22/46 [00:23<00:25,  1.05s/it]"
     ]
    },
    {
     "name": "stdout",
     "output_type": "stream",
     "text": [
      "téléchargement accompli : 21/46\n"
     ]
    },
    {
     "name": "stderr",
     "output_type": "stream",
     "text": [
      "\r",
      " 50%|█████     | 23/46 [00:24<00:26,  1.14s/it]"
     ]
    },
    {
     "name": "stdout",
     "output_type": "stream",
     "text": [
      "téléchargement accompli : 22/46\n"
     ]
    },
    {
     "name": "stderr",
     "output_type": "stream",
     "text": [
      "\r",
      " 52%|█████▏    | 24/46 [00:25<00:26,  1.20s/it]"
     ]
    },
    {
     "name": "stdout",
     "output_type": "stream",
     "text": [
      "téléchargement accompli : 23/46\n"
     ]
    },
    {
     "name": "stderr",
     "output_type": "stream",
     "text": [
      "\r",
      " 54%|█████▍    | 25/46 [00:27<00:25,  1.22s/it]"
     ]
    },
    {
     "name": "stdout",
     "output_type": "stream",
     "text": [
      "téléchargement accompli : 24/46\n"
     ]
    },
    {
     "name": "stderr",
     "output_type": "stream",
     "text": [
      "\r",
      " 57%|█████▋    | 26/46 [00:28<00:22,  1.14s/it]"
     ]
    },
    {
     "name": "stdout",
     "output_type": "stream",
     "text": [
      "téléchargement accompli : 25/46\n"
     ]
    },
    {
     "name": "stderr",
     "output_type": "stream",
     "text": [
      "\r",
      " 59%|█████▊    | 27/46 [00:29<00:21,  1.13s/it]"
     ]
    },
    {
     "name": "stdout",
     "output_type": "stream",
     "text": [
      "téléchargement accompli : 26/46\n"
     ]
    },
    {
     "name": "stderr",
     "output_type": "stream",
     "text": [
      "\r",
      " 61%|██████    | 28/46 [00:30<00:19,  1.11s/it]"
     ]
    },
    {
     "name": "stdout",
     "output_type": "stream",
     "text": [
      "téléchargement accompli : 27/46\n"
     ]
    },
    {
     "name": "stderr",
     "output_type": "stream",
     "text": [
      "\r",
      " 63%|██████▎   | 29/46 [00:31<00:19,  1.13s/it]"
     ]
    },
    {
     "name": "stdout",
     "output_type": "stream",
     "text": [
      "téléchargement accompli : 28/46\n"
     ]
    },
    {
     "name": "stderr",
     "output_type": "stream",
     "text": [
      "\r",
      " 65%|██████▌   | 30/46 [00:32<00:17,  1.07s/it]"
     ]
    },
    {
     "name": "stdout",
     "output_type": "stream",
     "text": [
      "téléchargement accompli : 29/46\n"
     ]
    },
    {
     "name": "stderr",
     "output_type": "stream",
     "text": [
      "\r",
      " 67%|██████▋   | 31/46 [00:33<00:15,  1.03s/it]"
     ]
    },
    {
     "name": "stdout",
     "output_type": "stream",
     "text": [
      "téléchargement accompli : 30/46\n"
     ]
    },
    {
     "name": "stderr",
     "output_type": "stream",
     "text": [
      "\r",
      " 70%|██████▉   | 32/46 [00:34<00:13,  1.00it/s]"
     ]
    },
    {
     "name": "stdout",
     "output_type": "stream",
     "text": [
      "téléchargement accompli : 31/46\n"
     ]
    },
    {
     "name": "stderr",
     "output_type": "stream",
     "text": [
      "\r",
      " 72%|███████▏  | 33/46 [00:35<00:14,  1.10s/it]"
     ]
    },
    {
     "name": "stdout",
     "output_type": "stream",
     "text": [
      "téléchargement accompli : 32/46\n"
     ]
    },
    {
     "name": "stderr",
     "output_type": "stream",
     "text": [
      "\r",
      " 74%|███████▍  | 34/46 [00:36<00:14,  1.18s/it]"
     ]
    },
    {
     "name": "stdout",
     "output_type": "stream",
     "text": [
      "téléchargement accompli : 33/46\n"
     ]
    },
    {
     "name": "stderr",
     "output_type": "stream",
     "text": [
      "\r",
      " 76%|███████▌  | 35/46 [00:38<00:12,  1.15s/it]"
     ]
    },
    {
     "name": "stdout",
     "output_type": "stream",
     "text": [
      "téléchargement accompli : 34/46\n"
     ]
    },
    {
     "name": "stderr",
     "output_type": "stream",
     "text": [
      "\r",
      " 78%|███████▊  | 36/46 [00:39<00:11,  1.12s/it]"
     ]
    },
    {
     "name": "stdout",
     "output_type": "stream",
     "text": [
      "téléchargement accompli : 35/46\n"
     ]
    },
    {
     "name": "stderr",
     "output_type": "stream",
     "text": [
      "\r",
      " 80%|████████  | 37/46 [00:40<00:09,  1.07s/it]"
     ]
    },
    {
     "name": "stdout",
     "output_type": "stream",
     "text": [
      "téléchargement accompli : 36/46\n"
     ]
    },
    {
     "name": "stderr",
     "output_type": "stream",
     "text": [
      "\r",
      " 83%|████████▎ | 38/46 [00:41<00:08,  1.04s/it]"
     ]
    },
    {
     "name": "stdout",
     "output_type": "stream",
     "text": [
      "téléchargement accompli : 37/46\n"
     ]
    },
    {
     "name": "stderr",
     "output_type": "stream",
     "text": [
      "\r",
      " 85%|████████▍ | 39/46 [00:41<00:07,  1.01s/it]"
     ]
    },
    {
     "name": "stdout",
     "output_type": "stream",
     "text": [
      "téléchargement accompli : 38/46\n"
     ]
    },
    {
     "name": "stderr",
     "output_type": "stream",
     "text": [
      "\r",
      " 87%|████████▋ | 40/46 [00:42<00:05,  1.03it/s]"
     ]
    },
    {
     "name": "stdout",
     "output_type": "stream",
     "text": [
      "téléchargement accompli : 39/46\n"
     ]
    },
    {
     "name": "stderr",
     "output_type": "stream",
     "text": [
      "\r",
      " 89%|████████▉ | 41/46 [00:43<00:04,  1.01it/s]"
     ]
    },
    {
     "name": "stdout",
     "output_type": "stream",
     "text": [
      "téléchargement accompli : 40/46\n"
     ]
    },
    {
     "name": "stderr",
     "output_type": "stream",
     "text": [
      "\r",
      " 91%|█████████▏| 42/46 [00:44<00:03,  1.03it/s]"
     ]
    },
    {
     "name": "stdout",
     "output_type": "stream",
     "text": [
      "téléchargement accompli : 41/46\n"
     ]
    },
    {
     "name": "stderr",
     "output_type": "stream",
     "text": [
      "\r",
      " 93%|█████████▎| 43/46 [00:45<00:03,  1.01s/it]"
     ]
    },
    {
     "name": "stdout",
     "output_type": "stream",
     "text": [
      "téléchargement accompli : 42/46\n"
     ]
    },
    {
     "name": "stderr",
     "output_type": "stream",
     "text": [
      "\r",
      " 96%|█████████▌| 44/46 [00:46<00:01,  1.02it/s]"
     ]
    },
    {
     "name": "stdout",
     "output_type": "stream",
     "text": [
      "téléchargement accompli : 43/46\n"
     ]
    },
    {
     "name": "stderr",
     "output_type": "stream",
     "text": [
      "\r",
      " 98%|█████████▊| 45/46 [00:47<00:01,  1.01s/it]"
     ]
    },
    {
     "name": "stdout",
     "output_type": "stream",
     "text": [
      "téléchargement accompli : 44/46\n"
     ]
    },
    {
     "name": "stderr",
     "output_type": "stream",
     "text": [
      "100%|██████████| 46/46 [00:49<00:00,  1.07s/it]"
     ]
    },
    {
     "name": "stdout",
     "output_type": "stream",
     "text": [
      "téléchargement accompli : 45/46\n",
      "Téléchargement terminé.\n"
     ]
    },
    {
     "name": "stderr",
     "output_type": "stream",
     "text": [
      "\n"
     ]
    }
   ],
   "source": [
    "i = 0\n",
    "with open('./cache2019/liste_des_liens_internet.json', 'r') as liste_des_liens_internet:\n",
    "    dicoXML = {}\n",
    "    liste_liens_lisible = liste_des_liens_internet.read()\n",
    "    dico_liens = json.loads(liste_liens_lisible)\n",
    "    print(\"Téléchargement en cours...\")\n",
    "    for link in tqdm(dico_liens):\n",
    "        lien = dico_liens[link]\n",
    "        XML = urlopen(lien).read()\n",
    "        XML = XML.decode(\"UTF-8\")\n",
    "        dicoXML[i] = XML\n",
    "        print(\"téléchargement accompli : {0}/46\".format(i))\n",
    "        i += 1\n",
    "    print(\"Téléchargement terminé.\")\n"
   ]
  },
  {
   "cell_type": "markdown",
   "metadata": {},
   "source": [
    "### Extraction de données ###\n",
    "\n",
    "Dans cette dernière partie, je vais d'abord extraire les noms des auteurs, les titres des abstracts, les mots-clés donnés et les institutions d'origine des auteurs et les stocker dans un fichier csv. J'utilise notamment la librairie BeautifulSoup pour parser les abstracts en XML.\n",
    "\n",
    "L'objectif pour remplir le fichier csv va être de constituer des listes d'un seul élément (pour chaque case : un élément regroupant tous les noms, un autre regroupant toutes institutions, etc...) et où l'élément à l'intérieur doit être une str, car c'est un format convenable pour remplir du csv."
   ]
  },
  {
   "cell_type": "code",
   "execution_count": 4,
   "metadata": {},
   "outputs": [
    {
     "name": "stderr",
     "output_type": "stream",
     "text": [
      "100%|██████████| 1/1 [00:00<00:00, 50.58it/s]\n",
      "100%|██████████| 11/11 [00:00<00:00, 3935.29it/s]\n",
      " 36%|███▋      | 4/11 [00:00<00:00, 35.16it/s]"
     ]
    },
    {
     "name": "stdout",
     "output_type": "stream",
     "text": [
      "Récupération des autorités...\n",
      "Récupération des mots-clés...\n",
      "Récupération des autorités...\n"
     ]
    },
    {
     "name": "stderr",
     "output_type": "stream",
     "text": [
      "100%|██████████| 11/11 [00:00<00:00, 34.98it/s]\n",
      "100%|██████████| 11/11 [00:00<00:00, 2969.13it/s]\n",
      "100%|██████████| 1/1 [00:00<00:00, 44.32it/s]\n",
      "100%|██████████| 9/9 [00:00<00:00, 2666.81it/s]\n",
      " 50%|█████     | 2/4 [00:00<00:00, 17.25it/s]"
     ]
    },
    {
     "name": "stdout",
     "output_type": "stream",
     "text": [
      "Récupération des mots-clés...\n",
      "Récupération des autorités...\n",
      "Récupération des mots-clés...\n",
      "Récupération des autorités...\n"
     ]
    },
    {
     "name": "stderr",
     "output_type": "stream",
     "text": [
      "100%|██████████| 4/4 [00:00<00:00, 16.90it/s]\n",
      "100%|██████████| 13/13 [00:00<00:00, 1736.00it/s]\n",
      "100%|██████████| 1/1 [00:00<00:00, 53.48it/s]\n",
      "100%|██████████| 7/7 [00:00<00:00, 4427.71it/s]\n",
      "100%|██████████| 1/1 [00:00<00:00, 53.48it/s]\n",
      "100%|██████████| 11/11 [00:00<00:00, 3795.44it/s]\n",
      "100%|██████████| 1/1 [00:00<00:00, 38.04it/s]\n",
      "100%|██████████| 9/9 [00:00<00:00, 2630.39it/s]\n",
      "  0%|          | 0/10 [00:00<?, ?it/s]"
     ]
    },
    {
     "name": "stdout",
     "output_type": "stream",
     "text": [
      "Récupération des mots-clés...\n",
      "Récupération des autorités...\n",
      "Récupération des mots-clés...\n",
      "Récupération des autorités...\n",
      "Récupération des mots-clés...\n",
      "Récupération des autorités...\n",
      "Récupération des mots-clés...\n",
      "Récupération des autorités...\n"
     ]
    },
    {
     "name": "stderr",
     "output_type": "stream",
     "text": [
      "100%|██████████| 10/10 [00:00<00:00, 53.25it/s]\n",
      "100%|██████████| 5/5 [00:00<00:00, 2768.15it/s]\n",
      "100%|██████████| 1/1 [00:00<00:00, 70.49it/s]\n",
      "100%|██████████| 9/9 [00:00<00:00, 4281.36it/s]\n",
      "100%|██████████| 1/1 [00:00<00:00, 77.84it/s]\n",
      "100%|██████████| 11/11 [00:00<00:00, 4517.51it/s]\n",
      "100%|██████████| 2/2 [00:00<00:00, 44.85it/s]\n",
      "100%|██████████| 9/9 [00:00<00:00, 3182.06it/s]\n",
      "100%|██████████| 1/1 [00:00<00:00, 38.62it/s]\n",
      "100%|██████████| 7/7 [00:00<00:00, 2118.49it/s]\n",
      "100%|██████████| 1/1 [00:00<00:00, 58.23it/s]\n",
      "100%|██████████| 7/7 [00:00<00:00, 3706.15it/s]\n"
     ]
    },
    {
     "name": "stdout",
     "output_type": "stream",
     "text": [
      "Récupération des mots-clés...\n",
      "Récupération des autorités...\n",
      "Récupération des mots-clés...\n",
      "Récupération des autorités...\n",
      "Récupération des mots-clés...\n",
      "Récupération des autorités...\n",
      "Récupération des mots-clés...\n",
      "Récupération des autorités...\n",
      "Récupération des mots-clés...\n",
      "Récupération des autorités...\n",
      "Récupération des mots-clés...\n",
      "Récupération des autorités...\n"
     ]
    },
    {
     "name": "stderr",
     "output_type": "stream",
     "text": [
      "100%|██████████| 3/3 [00:00<00:00, 56.30it/s]\n",
      "100%|██████████| 7/7 [00:00<00:00, 4462.03it/s]\n",
      "100%|██████████| 1/1 [00:00<00:00, 67.08it/s]\n",
      "100%|██████████| 9/9 [00:00<00:00, 3673.84it/s]\n",
      "100%|██████████| 1/1 [00:00<00:00, 72.45it/s]\n",
      "100%|██████████| 9/9 [00:00<00:00, 2527.20it/s]\n",
      "  0%|          | 0/7 [00:00<?, ?it/s]"
     ]
    },
    {
     "name": "stdout",
     "output_type": "stream",
     "text": [
      "Récupération des mots-clés...\n",
      "Récupération des autorités...\n",
      "Récupération des mots-clés...\n",
      "Récupération des autorités...\n",
      "Récupération des mots-clés...\n",
      "Récupération des autorités...\n"
     ]
    },
    {
     "name": "stderr",
     "output_type": "stream",
     "text": [
      "100%|██████████| 7/7 [00:00<00:00, 18.33it/s]\n",
      "100%|██████████| 11/11 [00:00<00:00, 1549.48it/s]\n",
      "100%|██████████| 4/4 [00:00<00:00, 45.11it/s]\n",
      "100%|██████████| 11/11 [00:00<00:00, 1751.34it/s]\n",
      "100%|██████████| 2/2 [00:00<00:00, 48.71it/s]\n",
      "100%|██████████| 9/9 [00:00<00:00, 3453.68it/s]\n",
      "  0%|          | 0/1 [00:00<?, ?it/s]"
     ]
    },
    {
     "name": "stdout",
     "output_type": "stream",
     "text": [
      "Récupération des mots-clés...\n",
      "Récupération des autorités...\n",
      "Récupération des mots-clés...\n",
      "Récupération des autorités...\n",
      "Récupération des mots-clés...\n",
      "Récupération des autorités...\n"
     ]
    },
    {
     "name": "stderr",
     "output_type": "stream",
     "text": [
      "100%|██████████| 1/1 [00:00<00:00, 62.86it/s]\n",
      "100%|██████████| 11/11 [00:00<00:00, 3555.32it/s]\n",
      "100%|██████████| 1/1 [00:00<00:00, 58.41it/s]\n",
      "100%|██████████| 11/11 [00:00<00:00, 3192.67it/s]\n",
      "100%|██████████| 1/1 [00:00<00:00, 81.04it/s]\n",
      "100%|██████████| 11/11 [00:00<00:00, 2456.47it/s]\n",
      "100%|██████████| 1/1 [00:00<00:00, 26.38it/s]\n",
      "100%|██████████| 11/11 [00:00<00:00, 2424.58it/s]\n",
      "  0%|          | 0/15 [00:00<?, ?it/s]"
     ]
    },
    {
     "name": "stdout",
     "output_type": "stream",
     "text": [
      "Récupération des mots-clés...\n",
      "Récupération des autorités...\n",
      "Récupération des mots-clés...\n",
      "Récupération des autorités...\n",
      "Récupération des mots-clés...\n",
      "Récupération des autorités...\n",
      "Récupération des mots-clés...\n",
      "Récupération des autorités...\n"
     ]
    },
    {
     "name": "stderr",
     "output_type": "stream",
     "text": [
      "100%|██████████| 15/15 [00:00<00:00, 22.03it/s]\n",
      "100%|██████████| 9/9 [00:00<00:00, 1492.40it/s]\n",
      " 57%|█████▋    | 4/7 [00:00<00:00, 38.24it/s]"
     ]
    },
    {
     "name": "stdout",
     "output_type": "stream",
     "text": [
      "Récupération des mots-clés...\n",
      "Récupération des autorités...\n"
     ]
    },
    {
     "name": "stderr",
     "output_type": "stream",
     "text": [
      "100%|██████████| 7/7 [00:00<00:00, 37.21it/s]\n",
      "100%|██████████| 7/7 [00:00<00:00, 2825.81it/s]\n",
      "100%|██████████| 1/1 [00:00<00:00, 80.39it/s]\n",
      "100%|██████████| 9/9 [00:00<00:00, 3807.24it/s]\n",
      "100%|██████████| 4/4 [00:00<00:00, 57.12it/s]\n",
      "100%|██████████| 11/11 [00:00<00:00, 4063.17it/s]\n",
      "100%|██████████| 1/1 [00:00<00:00, 61.71it/s]\n",
      "100%|██████████| 7/7 [00:00<00:00, 3375.12it/s]\n",
      "100%|██████████| 1/1 [00:00<00:00, 62.84it/s]\n",
      "100%|██████████| 9/9 [00:00<00:00, 4173.90it/s]\n",
      "  0%|          | 0/1 [00:00<?, ?it/s]"
     ]
    },
    {
     "name": "stdout",
     "output_type": "stream",
     "text": [
      "Récupération des mots-clés...\n",
      "Récupération des autorités...\n",
      "Récupération des mots-clés...\n",
      "Récupération des autorités...\n",
      "Récupération des mots-clés...\n",
      "Récupération des autorités...\n",
      "Récupération des mots-clés...\n",
      "Récupération des autorités...\n",
      "Récupération des mots-clés...\n",
      "Récupération des autorités...\n"
     ]
    },
    {
     "name": "stderr",
     "output_type": "stream",
     "text": [
      "100%|██████████| 1/1 [00:00<00:00, 53.82it/s]\n",
      "100%|██████████| 9/9 [00:00<00:00, 1653.11it/s]\n",
      "100%|██████████| 1/1 [00:00<00:00, 69.08it/s]\n",
      "100%|██████████| 9/9 [00:00<00:00, 3000.93it/s]\n",
      "100%|██████████| 1/1 [00:00<00:00, 47.84it/s]\n",
      "100%|██████████| 7/7 [00:00<00:00, 3403.68it/s]\n",
      "  0%|          | 0/11 [00:00<?, ?it/s]"
     ]
    },
    {
     "name": "stdout",
     "output_type": "stream",
     "text": [
      "Récupération des mots-clés...\n",
      "Récupération des autorités...\n",
      "Récupération des mots-clés...\n",
      "Récupération des autorités...\n",
      "Récupération des mots-clés...\n",
      "Récupération des autorités...\n"
     ]
    },
    {
     "name": "stderr",
     "output_type": "stream",
     "text": [
      "100%|██████████| 11/11 [00:00<00:00, 26.66it/s]\n",
      "100%|██████████| 13/13 [00:00<00:00, 1981.25it/s]\n",
      "100%|██████████| 6/6 [00:00<00:00, 38.42it/s]\n",
      "100%|██████████| 11/11 [00:00<00:00, 2887.01it/s]\n",
      "  0%|          | 0/7 [00:00<?, ?it/s]"
     ]
    },
    {
     "name": "stdout",
     "output_type": "stream",
     "text": [
      "Récupération des mots-clés...\n",
      "Récupération des autorités...\n",
      "Récupération des mots-clés...\n",
      "Récupération des autorités...\n"
     ]
    },
    {
     "name": "stderr",
     "output_type": "stream",
     "text": [
      "100%|██████████| 7/7 [00:00<00:00, 46.75it/s]\n",
      "100%|██████████| 9/9 [00:00<00:00, 2409.60it/s]\n",
      " 21%|██▏       | 3/14 [00:00<00:00, 27.11it/s]"
     ]
    },
    {
     "name": "stdout",
     "output_type": "stream",
     "text": [
      "Récupération des mots-clés...\n",
      "Récupération des autorités...\n"
     ]
    },
    {
     "name": "stderr",
     "output_type": "stream",
     "text": [
      "100%|██████████| 14/14 [00:00<00:00, 26.74it/s]\n",
      "100%|██████████| 7/7 [00:00<00:00, 1868.76it/s]\n",
      "100%|██████████| 1/1 [00:00<00:00, 47.31it/s]\n",
      "100%|██████████| 11/11 [00:00<00:00, 3515.76it/s]\n",
      "100%|██████████| 1/1 [00:00<00:00, 35.27it/s]\n",
      "100%|██████████| 11/11 [00:00<00:00, 3173.13it/s]\n",
      "100%|██████████| 1/1 [00:00<00:00, 49.54it/s]\n",
      "100%|██████████| 9/9 [00:00<00:00, 2961.85it/s]\n",
      "100%|██████████| 1/1 [00:00<00:00, 55.08it/s]\n",
      "100%|██████████| 7/7 [00:00<00:00, 3823.43it/s]\n",
      "  0%|          | 0/19 [00:00<?, ?it/s]"
     ]
    },
    {
     "name": "stdout",
     "output_type": "stream",
     "text": [
      "Récupération des mots-clés...\n",
      "Récupération des autorités...\n",
      "Récupération des mots-clés...\n",
      "Récupération des autorités...\n",
      "Récupération des mots-clés...\n",
      "Récupération des autorités...\n",
      "Récupération des mots-clés...\n",
      "Récupération des autorités...\n",
      "Récupération des mots-clés...\n",
      "Récupération des autorités...\n"
     ]
    },
    {
     "name": "stderr",
     "output_type": "stream",
     "text": [
      "100%|██████████| 19/19 [00:00<00:00, 23.23it/s]\n",
      "100%|██████████| 7/7 [00:00<00:00, 1991.60it/s]\n",
      "100%|██████████| 1/1 [00:00<00:00, 63.26it/s]\n",
      "100%|██████████| 9/9 [00:00<00:00, 2999.74it/s]\n",
      "100%|██████████| 1/1 [00:00<00:00, 51.93it/s]\n",
      "100%|██████████| 11/11 [00:00<00:00, 4350.53it/s]\n",
      "100%|██████████| 2/2 [00:00<00:00, 53.76it/s]\n",
      "100%|██████████| 7/7 [00:00<00:00, 3294.45it/s]\n",
      "100%|██████████| 1/1 [00:00<00:00, 81.50it/s]\n",
      "100%|██████████| 7/7 [00:00<00:00, 5260.73it/s]\n",
      "100%|██████████| 1/1 [00:00<00:00, 59.07it/s]\n",
      "100%|██████████| 9/9 [00:00<00:00, 3870.08it/s]"
     ]
    },
    {
     "name": "stdout",
     "output_type": "stream",
     "text": [
      "Récupération des mots-clés...\n",
      "Récupération des autorités...\n",
      "Récupération des mots-clés...\n",
      "Récupération des autorités...\n",
      "Récupération des mots-clés...\n",
      "Récupération des autorités...\n",
      "Récupération des mots-clés...\n",
      "Récupération des autorités...\n",
      "Récupération des mots-clés...\n",
      "Récupération des autorités...\n",
      "Récupération des mots-clés...\n"
     ]
    },
    {
     "name": "stderr",
     "output_type": "stream",
     "text": [
      "\n"
     ]
    }
   ],
   "source": [
    "with open('./cache2019/TEI2019.csv', 'w', newline='') as csvfile:\n",
    "    writer = csv.writer(csvfile, delimiter=',')\n",
    "    i = 0\n",
    "    for key in dicoXML:\n",
    "        value = dicoXML[i]\n",
    "        soup = BeautifulSoup(value, 'xml')\n",
    "        print(\"Récupération des autorités...\")\n",
    "        for contributeur in tqdm(soup.find_all('author')): #Je récupère tous les noeuds \"author\"\n",
    "            for elem in soup.name: #Je vais récupérer ici les éléments de prénom et de nom de chaque auteur\n",
    "                liste_noms_balise = soup.find_all(['forename', 'surname'])\n",
    "                noms_a_rassembler = [] #j'instancie une liste dans lequel je vais ranger chaque élément de nom ou de prénom de tous les auteurs d'un seul abstract\n",
    "                for nom in liste_noms_balise: #ici, je vais normaliser en les transformant en str et en retirant les balises manuellement.\n",
    "                    nom = str(nom)\n",
    "                    nom = nom.replace(\"<forename>\", \"\")\n",
    "                    nom = nom.replace('<forename full=\"yes\">', \"\")\n",
    "                    nom = nom.replace(\"</forename>\", \"\")\n",
    "                    nom = nom.replace(\"</surname>\", \"\")\n",
    "                    nom = nom.replace(\"<surname>\", \"\")\n",
    "                    nom = nom.replace('<surname full=\"yes\">', \"\")\n",
    "                    nom = nom.replace('<surname  full=\"init\">', \"\")\n",
    "                    nom = nom.replace('<forename full=\"init\">', \"\")\n",
    "                    nom = nom.replace('<forename full=\"abb\">', \"\")\n",
    "                    noms_a_rassembler.append(nom)\n",
    "            for elem in soup.publisher: #Ici je récupere directement une str grâce à la méthode .contents.\n",
    "                organisation = soup.orgName.contents\n",
    "                orga = organisation[0].split() #Pour éliminer les sauts de lignes, tab et autres espaces gênants, la solution la plus simple fut d'enchaîner un .split et un .join\n",
    "                orga = ' '.join(orga)\n",
    "                orga = [orga]\n",
    "            for elem in soup.titleStmt:\n",
    "                titre = soup.title.contents #grâce à la méthode .contents, je récupère directement une str, sous condition qu'il n'y ait pas de balises imbriquées (comme pour les noms)\n",
    "                if len(titre) > 1:\n",
    "                    titre = titre[0]\n",
    "                    titre = [titre]\n",
    "        print(\"Récupération des mots-clés...\")\n",
    "        for elem in tqdm(soup.keywords):\n",
    "            liste_motcles = soup.find_all('term') #je récupère tous les mots clés dans une liste\n",
    "            retypage_liste = [str(i) for i in liste_motcles] #je transforme le type des éléments de la liste en str chacun\n",
    "            motcles = str(\" | \".join(retypage_liste)) #je transforme la liste en str\n",
    "            motcles = motcles.replace(\"<term>\", \"\") #je nettoie la str\n",
    "            motcles = motcles.replace(\"</term>\", \"\")\n",
    "            motcles = [motcles] #je passe cette grande str en une liste avec 1 seul élément\n",
    "        abstract = soup(\"body\") #ici, j'enregistre le contenu de l'abstract, et je ne garde que le premier élément, car les autres éléments capturés sont trop compliqués à traiter, et trop peu intéressants.\n",
    "        abstract = abstract[0]\n",
    "        titre_dans_cache = titre[0] #je nomme les abstracts d'après leur titre, cela est utile dans l'étape 2.\n",
    "        titre_dans_cache = titre_dans_cache.replace(\" \", \"_\") #je supprime les espaces dans les noms de fichier, car ça gêne Python\n",
    "        with open('./cache2019/cacheXML/%s.xml' % titre_dans_cache, 'w', encoding='UTF-8') as docXML:\n",
    "            docXML.write(str(abstract))\n",
    "        titre_dans_cache = titre_dans_cache + \".xml\"\n",
    "        noms_rassembles = ' '.join(noms_a_rassembler) #tous les noms saisis plus haut, chacun étant un élément d'une grande liste, sont rassemblés dans une str, qui est ensuite transformée en une liste d'un seul élément\n",
    "        noms = [noms_rassembles]\n",
    "        masterList = noms + orga + titre + motcles #j'assemble chacune des listes composées d'un seul élément en une nested liste. Logiquement, cela ressemble à : [[str], [str], [str], [str]]\n",
    "        writer.writerow(masterList)\n",
    "        i += 1 #ceci est le compteur permettant de trouver les clés du dictionnaire, où la valeur est l'abstract en XML\n"
   ]
  }
 ],
 "metadata": {
  "kernelspec": {
   "display_name": "Python 3",
   "language": "python",
   "name": "python3"
  },
  "language_info": {
   "codemirror_mode": {
    "name": "ipython",
    "version": 3
   },
   "file_extension": ".py",
   "mimetype": "text/x-python",
   "name": "python",
   "nbconvert_exporter": "python",
   "pygments_lexer": "ipython3",
   "version": "3.6.9"
  }
 },
 "nbformat": 4,
 "nbformat_minor": 2
}

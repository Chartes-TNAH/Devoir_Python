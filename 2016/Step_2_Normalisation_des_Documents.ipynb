{
 "cells": [
  {
   "cell_type": "code",
   "execution_count": 1,
   "metadata": {},
   "outputs": [],
   "source": [
    "import os\n",
    "import csv\n",
    "from bs4 import BeautifulSoup\n",
    "from tqdm import tqdm"
   ]
  },
  {
   "cell_type": "code",
   "execution_count": 2,
   "metadata": {},
   "outputs": [],
   "source": [
    "Path = \"./cache2016/cacheXML/\"\n",
    "Path_output = \"./cache2016/cacheTXT/\"\n",
    "filelist = os.listdir(Path)\n",
    "if not os.path.exists(\"./cache2016/cacheTXT\"):\n",
    "    os.makedirs(\"./cache2016/cacheTXT\")"
   ]
  },
  {
   "cell_type": "code",
   "execution_count": 3,
   "metadata": {},
   "outputs": [],
   "source": [
    "import re\n",
    "\n",
    "def nettoyage_balises(texte):\n",
    "  p = re.compile(r'<.*?>')\n",
    "  return p.sub('', texte)"
   ]
  },
  {
   "cell_type": "code",
   "execution_count": 5,
   "metadata": {},
   "outputs": [
    {
     "name": "stderr",
     "output_type": "stream",
     "text": [
      "  0%|          | 0/2 [00:00<?, ?it/s]\n",
      "100%|██████████| 3/3 [00:00<00:00, 2523.14it/s]\n",
      "\n",
      "100%|██████████| 3/3 [00:00<00:00, 2261.89it/s]\n",
      "100%|██████████| 2/2 [00:00<00:00, 20.03it/s]\n",
      "  0%|          | 0/14 [00:00<?, ?it/s]\n"
     ]
    },
    {
     "name": "stdout",
     "output_type": "stream",
     "text": [
      "Récupération des autorités...\n",
      "Récupération des mots-clés...\n",
      "Récupération des mots-clés...\n",
      "Récupération des autorités...\n",
      "Récupération des mots-clés...\n"
     ]
    },
    {
     "name": "stderr",
     "output_type": "stream",
     "text": [
      "100%|██████████| 3/3 [00:00<00:00, 1515.47it/s]\n",
      "\n",
      "100%|██████████| 3/3 [00:00<00:00, 1430.36it/s]\n",
      " 14%|█▍        | 2/14 [00:00<00:01, 10.62it/s]\n",
      "100%|██████████| 3/3 [00:00<00:00, 1582.56it/s]\n",
      "\n",
      "100%|██████████| 3/3 [00:00<00:00, 1646.98it/s]\n",
      " 29%|██▊       | 4/14 [00:00<00:00, 10.79it/s]"
     ]
    },
    {
     "name": "stdout",
     "output_type": "stream",
     "text": [
      "Récupération des mots-clés...\n",
      "Récupération des mots-clés...\n",
      "Récupération des mots-clés...\n"
     ]
    },
    {
     "name": "stderr",
     "output_type": "stream",
     "text": [
      "\n",
      "100%|██████████| 3/3 [00:00<00:00, 1486.46it/s]\n",
      "\n",
      "100%|██████████| 3/3 [00:00<00:00, 1698.33it/s]\n",
      " 43%|████▎     | 6/14 [00:00<00:00, 10.76it/s]\n",
      "100%|██████████| 3/3 [00:00<00:00, 1672.59it/s]"
     ]
    },
    {
     "name": "stdout",
     "output_type": "stream",
     "text": [
      "Récupération des mots-clés...\n",
      "Récupération des mots-clés...\n",
      "Récupération des mots-clés...\n"
     ]
    },
    {
     "name": "stderr",
     "output_type": "stream",
     "text": [
      "\n",
      "\n",
      "100%|██████████| 3/3 [00:00<00:00, 1431.67it/s]\n",
      " 57%|█████▋    | 8/14 [00:00<00:00, 11.07it/s]\n",
      "100%|██████████| 3/3 [00:00<00:00, 1630.76it/s]\n",
      "\n",
      "100%|██████████| 3/3 [00:00<00:00, 1694.44it/s]\n",
      " 71%|███████▏  | 10/14 [00:00<00:00, 11.14it/s]"
     ]
    },
    {
     "name": "stdout",
     "output_type": "stream",
     "text": [
      "Récupération des mots-clés...\n",
      "Récupération des mots-clés...\n",
      "Récupération des mots-clés...\n"
     ]
    },
    {
     "name": "stderr",
     "output_type": "stream",
     "text": [
      "\n",
      "100%|██████████| 3/3 [00:00<00:00, 1647.84it/s]\n",
      "\n",
      "100%|██████████| 3/3 [00:00<00:00, 1651.73it/s]\n",
      " 86%|████████▌ | 12/14 [00:01<00:00, 11.00it/s]\n",
      "100%|██████████| 3/3 [00:00<00:00, 1526.87it/s]"
     ]
    },
    {
     "name": "stdout",
     "output_type": "stream",
     "text": [
      "Récupération des mots-clés...\n",
      "Récupération des mots-clés...\n",
      "Récupération des mots-clés...\n"
     ]
    },
    {
     "name": "stderr",
     "output_type": "stream",
     "text": [
      "\n",
      " 93%|█████████▎| 13/14 [00:01<00:00, 10.67it/s]\n",
      "100%|██████████| 3/3 [00:00<00:00, 1574.24it/s]\n",
      "100%|██████████| 14/14 [00:01<00:00, 10.95it/s]\n",
      "  0%|          | 0/2 [00:00<?, ?it/s]\n",
      "100%|██████████| 3/3 [00:00<00:00, 2656.30it/s]\n",
      "\n",
      "100%|██████████| 3/3 [00:00<00:00, 2619.80it/s]\n",
      "100%|██████████| 2/2 [00:00<00:00, 23.06it/s]\n",
      "  0%|          | 0/2 [00:00<?, ?it/s]\n",
      "100%|██████████| 3/3 [00:00<00:00, 2291.97it/s]"
     ]
    },
    {
     "name": "stdout",
     "output_type": "stream",
     "text": [
      "Récupération des mots-clés...\n",
      "Récupération des autorités...\n",
      "Récupération des mots-clés...\n",
      "Récupération des mots-clés...\n",
      "Récupération des autorités...\n",
      "Récupération des mots-clés...\n"
     ]
    },
    {
     "name": "stderr",
     "output_type": "stream",
     "text": [
      "\n",
      "\n",
      "100%|██████████| 3/3 [00:00<00:00, 2316.02it/s]\n",
      "100%|██████████| 2/2 [00:00<00:00, 22.09it/s]\n",
      "  0%|          | 0/2 [00:00<?, ?it/s]\n",
      "100%|██████████| 3/3 [00:00<00:00, 2707.17it/s]\n",
      "\n",
      "100%|██████████| 3/3 [00:00<00:00, 2776.46it/s]\n",
      "100%|██████████| 2/2 [00:00<00:00, 22.16it/s]\n",
      "  0%|          | 0/2 [00:00<?, ?it/s]\n",
      "100%|██████████| 3/3 [00:00<00:00, 2369.66it/s]"
     ]
    },
    {
     "name": "stdout",
     "output_type": "stream",
     "text": [
      "Récupération des mots-clés...\n",
      "Récupération des autorités...\n",
      "Récupération des mots-clés...\n",
      "Récupération des mots-clés...\n",
      "Récupération des autorités...\n",
      "Récupération des mots-clés...\n"
     ]
    },
    {
     "name": "stderr",
     "output_type": "stream",
     "text": [
      "\n",
      "\n",
      "100%|██████████| 3/3 [00:00<00:00, 2268.01it/s]\n",
      "100%|██████████| 2/2 [00:00<00:00, 18.62it/s]\n",
      "  0%|          | 0/2 [00:00<?, ?it/s]\n",
      "100%|██████████| 3/3 [00:00<00:00, 2536.88it/s]\n",
      "\n",
      "100%|██████████| 3/3 [00:00<00:00, 2578.99it/s]\n",
      "100%|██████████| 2/2 [00:00<00:00, 25.77it/s]\n",
      "  0%|          | 0/12 [00:00<?, ?it/s]\n",
      "100%|██████████| 3/3 [00:00<00:00, 1683.11it/s]"
     ]
    },
    {
     "name": "stdout",
     "output_type": "stream",
     "text": [
      "Récupération des mots-clés...\n",
      "Récupération des autorités...\n",
      "Récupération des mots-clés...\n",
      "Récupération des mots-clés...\n",
      "Récupération des autorités...\n",
      "Récupération des mots-clés...\n"
     ]
    },
    {
     "name": "stderr",
     "output_type": "stream",
     "text": [
      "\n",
      "\n",
      "100%|██████████| 3/3 [00:00<00:00, 1518.03it/s]\n",
      " 17%|█▋        | 2/12 [00:00<00:00, 12.01it/s]\n",
      "100%|██████████| 3/3 [00:00<00:00, 1852.88it/s]\n",
      "\n",
      "100%|██████████| 3/3 [00:00<00:00, 1932.56it/s]\n",
      " 33%|███▎      | 4/12 [00:00<00:00, 12.22it/s]"
     ]
    },
    {
     "name": "stdout",
     "output_type": "stream",
     "text": [
      "Récupération des mots-clés...\n",
      "Récupération des mots-clés...\n",
      "Récupération des mots-clés...\n"
     ]
    },
    {
     "name": "stderr",
     "output_type": "stream",
     "text": [
      "\n",
      "100%|██████████| 3/3 [00:00<00:00, 1934.34it/s]\n",
      "\n",
      "100%|██████████| 3/3 [00:00<00:00, 1690.12it/s]\n",
      " 50%|█████     | 6/12 [00:00<00:00, 12.25it/s]\n",
      "100%|██████████| 3/3 [00:00<00:00, 1919.00it/s]"
     ]
    },
    {
     "name": "stdout",
     "output_type": "stream",
     "text": [
      "Récupération des mots-clés...\n",
      "Récupération des mots-clés...\n",
      "Récupération des mots-clés...\n"
     ]
    },
    {
     "name": "stderr",
     "output_type": "stream",
     "text": [
      "\n",
      "\n",
      "100%|██████████| 3/3 [00:00<00:00, 1661.11it/s]\n",
      " 67%|██████▋   | 8/12 [00:00<00:00, 12.28it/s]\n",
      "100%|██████████| 3/3 [00:00<00:00, 1940.61it/s]\n",
      "\n",
      "100%|██████████| 3/3 [00:00<00:00, 1866.35it/s]\n",
      " 83%|████████▎ | 10/12 [00:00<00:00, 12.37it/s]"
     ]
    },
    {
     "name": "stdout",
     "output_type": "stream",
     "text": [
      "Récupération des mots-clés...\n",
      "Récupération des mots-clés...\n",
      "Récupération des mots-clés...\n"
     ]
    },
    {
     "name": "stderr",
     "output_type": "stream",
     "text": [
      "\n",
      "100%|██████████| 3/3 [00:00<00:00, 1685.14it/s]\n",
      "\n",
      "100%|██████████| 3/3 [00:00<00:00, 1471.17it/s]\n",
      "100%|██████████| 12/12 [00:00<00:00, 12.26it/s]\n",
      "  0%|          | 0/2 [00:00<?, ?it/s]\n",
      "100%|██████████| 3/3 [00:00<00:00, 2736.61it/s]\n",
      "\n"
     ]
    },
    {
     "name": "stdout",
     "output_type": "stream",
     "text": [
      "Récupération des mots-clés...\n",
      "Récupération des mots-clés...\n",
      "Récupération des autorités...\n",
      "Récupération des mots-clés...\n",
      "Récupération des mots-clés...\n"
     ]
    },
    {
     "name": "stderr",
     "output_type": "stream",
     "text": [
      "100%|██████████| 3/3 [00:00<00:00, 2593.35it/s]\n",
      "100%|██████████| 2/2 [00:00<00:00, 19.92it/s]\n",
      "  0%|          | 0/2 [00:00<?, ?it/s]\n",
      "100%|██████████| 3/3 [00:00<00:00, 2827.62it/s]\n",
      "\n",
      "100%|██████████| 3/3 [00:00<00:00, 1614.02it/s]\n",
      "100%|██████████| 2/2 [00:00<00:00, 24.91it/s]\n",
      "  0%|          | 0/2 [00:00<?, ?it/s]\n",
      "100%|██████████| 3/3 [00:00<00:00, 2277.86it/s]\n",
      "\n",
      "100%|██████████| 3/3 [00:00<00:00, 2891.96it/s]\n",
      "100%|██████████| 2/2 [00:00<00:00, 22.16it/s]\n"
     ]
    },
    {
     "name": "stdout",
     "output_type": "stream",
     "text": [
      "Récupération des autorités...\n",
      "Récupération des mots-clés...\n",
      "Récupération des mots-clés...\n",
      "Récupération des autorités...\n",
      "Récupération des mots-clés...\n",
      "Récupération des mots-clés...\n",
      "Récupération des autorités...\n"
     ]
    },
    {
     "name": "stderr",
     "output_type": "stream",
     "text": [
      "  0%|          | 0/2 [00:00<?, ?it/s]\n",
      "100%|██████████| 3/3 [00:00<00:00, 1690.34it/s]\n",
      "\n",
      "100%|██████████| 3/3 [00:00<00:00, 2764.26it/s]\n",
      "100%|██████████| 2/2 [00:00<00:00, 20.93it/s]\n",
      "  0%|          | 0/2 [00:00<?, ?it/s]\n",
      "100%|██████████| 3/3 [00:00<00:00, 2919.47it/s]\n",
      "\n",
      "100%|██████████| 3/3 [00:00<00:00, 2677.22it/s]\n",
      "100%|██████████| 2/2 [00:00<00:00, 22.93it/s]\n",
      "  0%|          | 0/2 [00:00<?, ?it/s]"
     ]
    },
    {
     "name": "stdout",
     "output_type": "stream",
     "text": [
      "Récupération des mots-clés...\n",
      "Récupération des mots-clés...\n",
      "Récupération des autorités...\n",
      "Récupération des mots-clés...\n",
      "Récupération des mots-clés...\n",
      "Récupération des autorités...\n"
     ]
    },
    {
     "name": "stderr",
     "output_type": "stream",
     "text": [
      "\n",
      "100%|██████████| 3/3 [00:00<00:00, 2290.72it/s]\n",
      "\n",
      "100%|██████████| 3/3 [00:00<00:00, 1617.13it/s]\n",
      "100%|██████████| 2/2 [00:00<00:00, 24.69it/s]\n",
      "  0%|          | 0/9 [00:00<?, ?it/s]\n",
      "100%|██████████| 3/3 [00:00<00:00, 665.83it/s]\n",
      "\n",
      "100%|██████████| 3/3 [00:00<00:00, 2347.56it/s]\n",
      " 22%|██▏       | 2/9 [00:00<00:00, 16.85it/s]"
     ]
    },
    {
     "name": "stdout",
     "output_type": "stream",
     "text": [
      "Récupération des mots-clés...\n",
      "Récupération des mots-clés...\n",
      "Récupération des autorités...\n",
      "Récupération des mots-clés...\n",
      "Récupération des mots-clés...\n"
     ]
    },
    {
     "name": "stderr",
     "output_type": "stream",
     "text": [
      "\n",
      "100%|██████████| 3/3 [00:00<00:00, 1085.39it/s]\n",
      "\n",
      "100%|██████████| 3/3 [00:00<00:00, 1933.45it/s]\n",
      " 44%|████▍     | 4/9 [00:00<00:00, 16.72it/s]\n",
      "100%|██████████| 3/3 [00:00<00:00, 2334.06it/s]\n",
      "\n",
      "100%|██████████| 3/3 [00:00<00:00, 1911.13it/s]\n",
      " 67%|██████▋   | 6/9 [00:00<00:00, 17.38it/s]"
     ]
    },
    {
     "name": "stdout",
     "output_type": "stream",
     "text": [
      "Récupération des mots-clés...\n",
      "Récupération des mots-clés...\n",
      "Récupération des mots-clés...\n",
      "Récupération des mots-clés...\n"
     ]
    },
    {
     "name": "stderr",
     "output_type": "stream",
     "text": [
      "\n",
      "100%|██████████| 3/3 [00:00<00:00, 2378.62it/s]\n",
      "\n",
      "100%|██████████| 3/3 [00:00<00:00, 1933.45it/s]\n",
      " 89%|████████▉ | 8/9 [00:00<00:00, 17.42it/s]\n",
      "100%|██████████| 3/3 [00:00<00:00, 2232.99it/s]\n",
      "100%|██████████| 9/9 [00:00<00:00, 17.52it/s]\n",
      "  0%|          | 0/2 [00:00<?, ?it/s]\n",
      "100%|██████████| 3/3 [00:00<00:00, 3010.27it/s]\n",
      "\n"
     ]
    },
    {
     "name": "stdout",
     "output_type": "stream",
     "text": [
      "Récupération des mots-clés...\n",
      "Récupération des mots-clés...\n",
      "Récupération des mots-clés...\n",
      "Récupération des autorités...\n",
      "Récupération des mots-clés...\n",
      "Récupération des mots-clés...\n"
     ]
    },
    {
     "name": "stderr",
     "output_type": "stream",
     "text": [
      "100%|██████████| 3/3 [00:00<00:00, 2596.02it/s]\n",
      "100%|██████████| 2/2 [00:00<00:00, 22.67it/s]\n",
      "  0%|          | 0/4 [00:00<?, ?it/s]\n",
      "100%|██████████| 3/3 [00:00<00:00, 2348.87it/s]\n",
      "\n",
      "100%|██████████| 3/3 [00:00<00:00, 2845.53it/s]\n",
      "\n",
      "100%|██████████| 3/3 [00:00<00:00, 2299.51it/s]\n",
      " 75%|███████▌  | 3/4 [00:00<00:00, 21.21it/s]\n",
      "100%|██████████| 3/3 [00:00<00:00, 2297.83it/s]\n",
      "100%|██████████| 4/4 [00:00<00:00, 19.98it/s]"
     ]
    },
    {
     "name": "stdout",
     "output_type": "stream",
     "text": [
      "Récupération des autorités...\n",
      "Récupération des mots-clés...\n",
      "Récupération des mots-clés...\n",
      "Récupération des mots-clés...\n",
      "Récupération des mots-clés...\n"
     ]
    },
    {
     "name": "stderr",
     "output_type": "stream",
     "text": [
      "\n",
      "  0%|          | 0/2 [00:00<?, ?it/s]\n",
      "100%|██████████| 3/3 [00:00<00:00, 2663.61it/s]\n",
      "\n",
      "100%|██████████| 3/3 [00:00<00:00, 2813.71it/s]\n",
      "100%|██████████| 2/2 [00:00<00:00, 22.08it/s]\n",
      "  0%|          | 0/2 [00:00<?, ?it/s]\n",
      "100%|██████████| 3/3 [00:00<00:00, 2962.08it/s]\n",
      "\n",
      "100%|██████████| 3/3 [00:00<00:00, 3100.00it/s]\n",
      "100%|██████████| 2/2 [00:00<00:00, 21.92it/s]"
     ]
    },
    {
     "name": "stdout",
     "output_type": "stream",
     "text": [
      "Récupération des autorités...\n",
      "Récupération des mots-clés...\n",
      "Récupération des mots-clés...\n",
      "Récupération des autorités...\n",
      "Récupération des mots-clés...\n",
      "Récupération des mots-clés...\n"
     ]
    },
    {
     "name": "stderr",
     "output_type": "stream",
     "text": [
      "\n",
      "  0%|          | 0/7 [00:00<?, ?it/s]\n",
      "100%|██████████| 3/3 [00:00<00:00, 2645.14it/s]\n",
      "\n",
      "100%|██████████| 3/3 [00:00<00:00, 2659.67it/s]\n",
      "\n",
      "100%|██████████| 3/3 [00:00<00:00, 2695.57it/s]\n",
      " 43%|████▎     | 3/7 [00:00<00:00, 20.92it/s]\n",
      "100%|██████████| 3/3 [00:00<00:00, 2113.00it/s]"
     ]
    },
    {
     "name": "stdout",
     "output_type": "stream",
     "text": [
      "Récupération des autorités...\n",
      "Récupération des mots-clés...\n",
      "Récupération des mots-clés...\n",
      "Récupération des mots-clés...\n",
      "Récupération des mots-clés...\n"
     ]
    },
    {
     "name": "stderr",
     "output_type": "stream",
     "text": [
      "\n",
      "\n",
      "100%|██████████| 3/3 [00:00<00:00, 2140.32it/s]\n",
      " 71%|███████▏  | 5/7 [00:00<00:00, 20.03it/s]\n",
      "100%|██████████| 3/3 [00:00<00:00, 2516.58it/s]\n",
      "\n",
      "100%|██████████| 3/3 [00:00<00:00, 2197.12it/s]\n",
      "100%|██████████| 7/7 [00:00<00:00, 19.54it/s]\n",
      "  0%|          | 0/2 [00:00<?, ?it/s]\n",
      "100%|██████████| 3/3 [00:00<00:00, 2383.58it/s]"
     ]
    },
    {
     "name": "stdout",
     "output_type": "stream",
     "text": [
      "Récupération des mots-clés...\n",
      "Récupération des mots-clés...\n",
      "Récupération des mots-clés...\n",
      "Récupération des autorités...\n",
      "Récupération des mots-clés...\n"
     ]
    },
    {
     "name": "stderr",
     "output_type": "stream",
     "text": [
      "\n",
      "\n",
      "100%|██████████| 3/3 [00:00<00:00, 2240.15it/s]\n",
      "100%|██████████| 2/2 [00:00<00:00, 22.17it/s]\n",
      "  0%|          | 0/7 [00:00<?, ?it/s]\n",
      "100%|██████████| 3/3 [00:00<00:00, 2181.50it/s]\n",
      "\n",
      "100%|██████████| 3/3 [00:00<00:00, 2022.98it/s]\n",
      " 29%|██▊       | 2/7 [00:00<00:00, 16.59it/s]\n",
      "100%|██████████| 3/3 [00:00<00:00, 1590.76it/s]"
     ]
    },
    {
     "name": "stdout",
     "output_type": "stream",
     "text": [
      "Récupération des mots-clés...\n",
      "Récupération des autorités...\n",
      "Récupération des mots-clés...\n",
      "Récupération des mots-clés...\n",
      "Récupération des mots-clés...\n"
     ]
    },
    {
     "name": "stderr",
     "output_type": "stream",
     "text": [
      "\n",
      "\n",
      "100%|██████████| 3/3 [00:00<00:00, 2020.38it/s]\n",
      " 57%|█████▋    | 4/7 [00:00<00:00, 16.08it/s]\n",
      "100%|██████████| 3/3 [00:00<00:00, 2118.34it/s]\n",
      "\n",
      "100%|██████████| 3/3 [00:00<00:00, 1942.41it/s]\n",
      " 86%|████████▌ | 6/7 [00:00<00:00, 15.86it/s]\n",
      "  0%|          | 0/3 [00:00<?, ?it/s]\u001b[A"
     ]
    },
    {
     "name": "stdout",
     "output_type": "stream",
     "text": [
      "Récupération des mots-clés...\n",
      "Récupération des mots-clés...\n",
      "Récupération des mots-clés...\n",
      "Récupération des mots-clés...\n"
     ]
    },
    {
     "name": "stderr",
     "output_type": "stream",
     "text": [
      "100%|██████████| 3/3 [00:00<00:00, 2162.38it/s]\n",
      "100%|██████████| 7/7 [00:00<00:00, 15.33it/s]\n",
      "  0%|          | 0/8 [00:00<?, ?it/s]\n",
      "100%|██████████| 3/3 [00:00<00:00, 1315.65it/s]\n",
      "\n",
      "100%|██████████| 3/3 [00:00<00:00, 2181.13it/s]\n",
      " 25%|██▌       | 2/8 [00:00<00:00, 18.30it/s]\n",
      "100%|██████████| 3/3 [00:00<00:00, 2573.72it/s]\n",
      "\n"
     ]
    },
    {
     "name": "stdout",
     "output_type": "stream",
     "text": [
      "Récupération des autorités...\n",
      "Récupération des mots-clés...\n",
      "Récupération des mots-clés...\n",
      "Récupération des mots-clés...\n",
      "Récupération des mots-clés...\n"
     ]
    },
    {
     "name": "stderr",
     "output_type": "stream",
     "text": [
      "100%|██████████| 3/3 [00:00<00:00, 2578.47it/s]\n",
      " 50%|█████     | 4/8 [00:00<00:00, 18.58it/s]\n",
      "100%|██████████| 3/3 [00:00<00:00, 2463.86it/s]\n",
      "\n",
      "100%|██████████| 3/3 [00:00<00:00, 2585.35it/s]\n",
      " 75%|███████▌  | 6/8 [00:00<00:00, 18.35it/s]\n",
      "100%|██████████| 3/3 [00:00<00:00, 2559.58it/s]\n",
      "\n",
      "100%|██████████| 3/3 [00:00<00:00, 1980.63it/s]\n",
      "100%|██████████| 8/8 [00:00<00:00, 18.02it/s]\n",
      "  0%|          | 0/2 [00:00<?, ?it/s]"
     ]
    },
    {
     "name": "stdout",
     "output_type": "stream",
     "text": [
      "Récupération des mots-clés...\n",
      "Récupération des mots-clés...\n",
      "Récupération des mots-clés...\n",
      "Récupération des mots-clés...\n",
      "Récupération des autorités...\n"
     ]
    },
    {
     "name": "stderr",
     "output_type": "stream",
     "text": [
      "\n",
      "100%|██████████| 3/3 [00:00<00:00, 3093.91it/s]\n",
      "\n",
      "100%|██████████| 3/3 [00:00<00:00, 1498.32it/s]\n",
      "100%|██████████| 2/2 [00:00<00:00, 21.71it/s]\n",
      "  0%|          | 0/7 [00:00<?, ?it/s]\n",
      "100%|██████████| 3/3 [00:00<00:00, 2070.58it/s]\n",
      "\n",
      "100%|██████████| 3/3 [00:00<00:00, 2522.13it/s]\n",
      " 29%|██▊       | 2/7 [00:00<00:00, 18.51it/s]"
     ]
    },
    {
     "name": "stdout",
     "output_type": "stream",
     "text": [
      "Récupération des mots-clés...\n",
      "Récupération des mots-clés...\n",
      "Récupération des autorités...\n",
      "Récupération des mots-clés...\n",
      "Récupération des mots-clés...\n"
     ]
    },
    {
     "name": "stderr",
     "output_type": "stream",
     "text": [
      "\n",
      "100%|██████████| 3/3 [00:00<00:00, 2355.91it/s]\n",
      "\n",
      "100%|██████████| 3/3 [00:00<00:00, 2529.74it/s]\n",
      " 57%|█████▋    | 4/7 [00:00<00:00, 18.20it/s]\n",
      "100%|██████████| 3/3 [00:00<00:00, 2108.40it/s]\n",
      "\n",
      "100%|██████████| 3/3 [00:00<00:00, 2359.44it/s]\n",
      " 86%|████████▌ | 6/7 [00:00<00:00, 18.35it/s]"
     ]
    },
    {
     "name": "stdout",
     "output_type": "stream",
     "text": [
      "Récupération des mots-clés...\n",
      "Récupération des mots-clés...\n",
      "Récupération des mots-clés...\n",
      "Récupération des mots-clés...\n"
     ]
    },
    {
     "name": "stderr",
     "output_type": "stream",
     "text": [
      "\n",
      "100%|██████████| 3/3 [00:00<00:00, 2418.86it/s]\n",
      "100%|██████████| 7/7 [00:00<00:00, 18.10it/s]\n",
      "  0%|          | 0/3 [00:00<?, ?it/s]\n",
      "100%|██████████| 3/3 [00:00<00:00, 2706.00it/s]\n",
      "\n",
      "100%|██████████| 3/3 [00:00<00:00, 2910.69it/s]\n",
      "\n",
      "100%|██████████| 3/3 [00:00<00:00, 2082.23it/s]\n",
      "100%|██████████| 3/3 [00:00<00:00, 21.96it/s]\n",
      "  0%|          | 0/2 [00:00<?, ?it/s]"
     ]
    },
    {
     "name": "stdout",
     "output_type": "stream",
     "text": [
      "Récupération des mots-clés...\n",
      "Récupération des autorités...\n",
      "Récupération des mots-clés...\n",
      "Récupération des mots-clés...\n",
      "Récupération des mots-clés...\n",
      "Récupération des autorités...\n"
     ]
    },
    {
     "name": "stderr",
     "output_type": "stream",
     "text": [
      "\n",
      "100%|██████████| 3/3 [00:00<00:00, 2483.31it/s]\n",
      "\n",
      "100%|██████████| 3/3 [00:00<00:00, 1022.75it/s]\n",
      "100%|██████████| 2/2 [00:00<00:00, 21.89it/s]\n",
      "  0%|          | 0/16 [00:00<?, ?it/s]\n",
      "100%|██████████| 3/3 [00:00<00:00, 1738.45it/s]\n"
     ]
    },
    {
     "name": "stdout",
     "output_type": "stream",
     "text": [
      "Récupération des mots-clés...\n",
      "Récupération des mots-clés...\n",
      "Récupération des autorités...\n",
      "Récupération des mots-clés...\n"
     ]
    },
    {
     "name": "stderr",
     "output_type": "stream",
     "text": [
      "\n",
      "100%|██████████| 3/3 [00:00<00:00, 1625.70it/s]\n",
      " 12%|█▎        | 2/16 [00:00<00:01, 13.39it/s]\n",
      "100%|██████████| 3/3 [00:00<00:00, 1768.26it/s]\n",
      "\n",
      "100%|██████████| 3/3 [00:00<00:00, 1856.16it/s]\n",
      " 25%|██▌       | 4/16 [00:00<00:00, 13.56it/s]"
     ]
    },
    {
     "name": "stdout",
     "output_type": "stream",
     "text": [
      "Récupération des mots-clés...\n",
      "Récupération des mots-clés...\n",
      "Récupération des mots-clés...\n"
     ]
    },
    {
     "name": "stderr",
     "output_type": "stream",
     "text": [
      "\n",
      "100%|██████████| 3/3 [00:00<00:00, 1902.75it/s]\n",
      "\n",
      "100%|██████████| 3/3 [00:00<00:00, 1880.29it/s]\n",
      " 38%|███▊      | 6/16 [00:00<00:00, 13.53it/s]\n",
      "100%|██████████| 3/3 [00:00<00:00, 1796.02it/s]"
     ]
    },
    {
     "name": "stdout",
     "output_type": "stream",
     "text": [
      "Récupération des mots-clés...\n",
      "Récupération des mots-clés...\n",
      "Récupération des mots-clés...\n"
     ]
    },
    {
     "name": "stderr",
     "output_type": "stream",
     "text": [
      "\n",
      "\n",
      "100%|██████████| 3/3 [00:00<00:00, 1437.55it/s]\n",
      " 50%|█████     | 8/16 [00:00<00:00, 13.47it/s]\n",
      "100%|██████████| 3/3 [00:00<00:00, 1256.28it/s]\n",
      "\n",
      "100%|██████████| 3/3 [00:00<00:00, 1824.14it/s]\n",
      " 62%|██████▎   | 10/16 [00:00<00:00, 13.49it/s]"
     ]
    },
    {
     "name": "stdout",
     "output_type": "stream",
     "text": [
      "Récupération des mots-clés...\n",
      "Récupération des mots-clés...\n",
      "Récupération des mots-clés...\n"
     ]
    },
    {
     "name": "stderr",
     "output_type": "stream",
     "text": [
      "\n",
      "100%|██████████| 3/3 [00:00<00:00, 1689.44it/s]\n",
      "\n",
      "100%|██████████| 3/3 [00:00<00:00, 1766.77it/s]\n",
      " 75%|███████▌  | 12/16 [00:00<00:00, 13.42it/s]\n",
      "100%|██████████| 3/3 [00:00<00:00, 1921.64it/s]"
     ]
    },
    {
     "name": "stdout",
     "output_type": "stream",
     "text": [
      "Récupération des mots-clés...\n",
      "Récupération des mots-clés...\n",
      "Récupération des mots-clés...\n"
     ]
    },
    {
     "name": "stderr",
     "output_type": "stream",
     "text": [
      "\n",
      "\n",
      "100%|██████████| 3/3 [00:00<00:00, 1447.48it/s]\n",
      " 88%|████████▊ | 14/16 [00:01<00:00, 13.23it/s]\n",
      "100%|██████████| 3/3 [00:00<00:00, 1879.17it/s]\n",
      "\n",
      "100%|██████████| 3/3 [00:00<00:00, 1925.76it/s]\n",
      "100%|██████████| 16/16 [00:01<00:00, 13.38it/s]\n",
      "  0%|          | 0/2 [00:00<?, ?it/s]\n"
     ]
    },
    {
     "name": "stdout",
     "output_type": "stream",
     "text": [
      "Récupération des mots-clés...\n",
      "Récupération des mots-clés...\n",
      "Récupération des mots-clés...\n",
      "Récupération des autorités...\n",
      "Récupération des mots-clés...\n"
     ]
    },
    {
     "name": "stderr",
     "output_type": "stream",
     "text": [
      "100%|██████████| 3/3 [00:00<00:00, 3125.41it/s]\n",
      "\n",
      "100%|██████████| 3/3 [00:00<00:00, 3146.51it/s]\n",
      "100%|██████████| 2/2 [00:00<00:00, 23.85it/s]\n",
      "  0%|          | 0/5 [00:00<?, ?it/s]\n",
      "100%|██████████| 3/3 [00:00<00:00, 2733.04it/s]\n",
      "\n",
      "100%|██████████| 3/3 [00:00<00:00, 2749.76it/s]\n",
      "\n",
      "100%|██████████| 3/3 [00:00<00:00, 2692.68it/s]\n",
      " 60%|██████    | 3/5 [00:00<00:00, 20.95it/s]"
     ]
    },
    {
     "name": "stdout",
     "output_type": "stream",
     "text": [
      "Récupération des mots-clés...\n",
      "Récupération des autorités...\n",
      "Récupération des mots-clés...\n",
      "Récupération des mots-clés...\n",
      "Récupération des mots-clés...\n"
     ]
    },
    {
     "name": "stderr",
     "output_type": "stream",
     "text": [
      "\n",
      "100%|██████████| 3/3 [00:00<00:00, 2825.72it/s]\n",
      "\n",
      "100%|██████████| 3/3 [00:00<00:00, 2730.67it/s]\n",
      "100%|██████████| 5/5 [00:00<00:00, 20.42it/s]\n",
      "  0%|          | 0/2 [00:00<?, ?it/s]\n",
      "100%|██████████| 3/3 [00:00<00:00, 2925.58it/s]\n",
      "\n",
      "100%|██████████| 3/3 [00:00<00:00, 2878.73it/s]\n",
      "100%|██████████| 2/2 [00:00<00:00, 24.99it/s]\n",
      "  0%|          | 0/3 [00:00<?, ?it/s]"
     ]
    },
    {
     "name": "stdout",
     "output_type": "stream",
     "text": [
      "Récupération des mots-clés...\n",
      "Récupération des mots-clés...\n",
      "Récupération des autorités...\n",
      "Récupération des mots-clés...\n",
      "Récupération des mots-clés...\n",
      "Récupération des autorités...\n",
      "Récupération des mots-clés...\n"
     ]
    },
    {
     "name": "stderr",
     "output_type": "stream",
     "text": [
      "\n",
      "100%|██████████| 3/3 [00:00<00:00, 2552.83it/s]\n",
      "\n",
      "100%|██████████| 3/3 [00:00<00:00, 2652.94it/s]\n",
      " 67%|██████▋   | 2/3 [00:00<00:00, 19.31it/s]\n",
      "100%|██████████| 3/3 [00:00<00:00, 2755.78it/s]\n",
      "100%|██████████| 3/3 [00:00<00:00, 20.17it/s]\n",
      "  0%|          | 0/2 [00:00<?, ?it/s]\n",
      "100%|██████████| 3/3 [00:00<00:00, 2508.06it/s]\n",
      "\n",
      "100%|██████████| 3/3 [00:00<00:00, 2861.05it/s]\n",
      "100%|██████████| 2/2 [00:00<00:00, 22.74it/s]\n",
      "  0%|          | 0/14 [00:00<?, ?it/s]"
     ]
    },
    {
     "name": "stdout",
     "output_type": "stream",
     "text": [
      "Récupération des mots-clés...\n",
      "Récupération des mots-clés...\n",
      "Récupération des autorités...\n",
      "Récupération des mots-clés...\n",
      "Récupération des mots-clés...\n",
      "Récupération des autorités...\n"
     ]
    },
    {
     "name": "stderr",
     "output_type": "stream",
     "text": [
      "\n",
      "100%|██████████| 3/3 [00:00<00:00, 2138.86it/s]\n",
      "\n",
      "100%|██████████| 3/3 [00:00<00:00, 2301.19it/s]\n",
      " 14%|█▍        | 2/14 [00:00<00:00, 14.62it/s]\n",
      "100%|██████████| 3/3 [00:00<00:00, 1981.56it/s]"
     ]
    },
    {
     "name": "stdout",
     "output_type": "stream",
     "text": [
      "Récupération des mots-clés...\n",
      "Récupération des mots-clés...\n",
      "Récupération des mots-clés...\n"
     ]
    },
    {
     "name": "stderr",
     "output_type": "stream",
     "text": [
      "\n",
      "\n",
      "100%|██████████| 3/3 [00:00<00:00, 2276.21it/s]\n",
      " 29%|██▊       | 4/14 [00:00<00:00, 14.65it/s]\n",
      "100%|██████████| 3/3 [00:00<00:00, 2138.13it/s]\n",
      "\n",
      "100%|██████████| 3/3 [00:00<00:00, 2209.85it/s]\n",
      " 43%|████▎     | 6/14 [00:00<00:00, 14.80it/s]"
     ]
    },
    {
     "name": "stdout",
     "output_type": "stream",
     "text": [
      "Récupération des mots-clés...\n",
      "Récupération des mots-clés...\n",
      "Récupération des mots-clés...\n"
     ]
    },
    {
     "name": "stderr",
     "output_type": "stream",
     "text": [
      "\n",
      "100%|██████████| 3/3 [00:00<00:00, 2197.89it/s]\n",
      "\n",
      "100%|██████████| 3/3 [00:00<00:00, 2302.88it/s]\n",
      " 57%|█████▋    | 8/14 [00:00<00:00, 14.90it/s]\n",
      "100%|██████████| 3/3 [00:00<00:00, 2286.14it/s]\n",
      "\n",
      "100%|██████████| 3/3 [00:00<00:00, 2270.05it/s]\n",
      " 71%|███████▏  | 10/14 [00:00<00:00, 15.10it/s]\n",
      "100%|██████████| 3/3 [00:00<00:00, 2125.85it/s]"
     ]
    },
    {
     "name": "stdout",
     "output_type": "stream",
     "text": [
      "Récupération des mots-clés...\n",
      "Récupération des mots-clés...\n",
      "Récupération des mots-clés...\n",
      "Récupération des mots-clés...\n",
      "Récupération des mots-clés...\n"
     ]
    },
    {
     "name": "stderr",
     "output_type": "stream",
     "text": [
      "\n",
      "\n",
      "100%|██████████| 3/3 [00:00<00:00, 2284.48it/s]\n",
      " 86%|████████▌ | 12/14 [00:00<00:00, 15.01it/s]\n",
      "100%|██████████| 3/3 [00:00<00:00, 2224.70it/s]\n",
      "\n",
      "100%|██████████| 3/3 [00:00<00:00, 2212.57it/s]\n",
      "100%|██████████| 14/14 [00:00<00:00, 14.95it/s]\n",
      "  0%|          | 0/2 [00:00<?, ?it/s]\n",
      "100%|██████████| 3/3 [00:00<00:00, 2864.96it/s]\n",
      "\n"
     ]
    },
    {
     "name": "stdout",
     "output_type": "stream",
     "text": [
      "Récupération des mots-clés...\n",
      "Récupération des mots-clés...\n",
      "Récupération des mots-clés...\n",
      "Récupération des autorités...\n",
      "Récupération des mots-clés...\n",
      "Récupération des mots-clés...\n"
     ]
    },
    {
     "name": "stderr",
     "output_type": "stream",
     "text": [
      "100%|██████████| 3/3 [00:00<00:00, 2688.08it/s]\n",
      "100%|██████████| 2/2 [00:00<00:00, 24.59it/s]\n",
      "  0%|          | 0/12 [00:00<?, ?it/s]\n",
      "100%|██████████| 3/3 [00:00<00:00, 2013.27it/s]\n",
      "\n",
      "100%|██████████| 3/3 [00:00<00:00, 1943.01it/s]\n",
      " 17%|█▋        | 2/12 [00:00<00:00, 14.99it/s]\n",
      "100%|██████████| 3/3 [00:00<00:00, 1971.01it/s]"
     ]
    },
    {
     "name": "stdout",
     "output_type": "stream",
     "text": [
      "Récupération des autorités...\n",
      "Récupération des mots-clés...\n",
      "Récupération des mots-clés...\n",
      "Récupération des mots-clés...\n"
     ]
    },
    {
     "name": "stderr",
     "output_type": "stream",
     "text": [
      "\n",
      "\n",
      "100%|██████████| 3/3 [00:00<00:00, 1756.16it/s]\n",
      " 33%|███▎      | 4/12 [00:00<00:00, 14.95it/s]\n",
      "100%|██████████| 3/3 [00:00<00:00, 2023.63it/s]\n",
      "\n",
      "100%|██████████| 3/3 [00:00<00:00, 1979.69it/s]\n",
      " 50%|█████     | 6/12 [00:00<00:00, 15.05it/s]"
     ]
    },
    {
     "name": "stdout",
     "output_type": "stream",
     "text": [
      "Récupération des mots-clés...\n",
      "Récupération des mots-clés...\n",
      "Récupération des mots-clés...\n"
     ]
    },
    {
     "name": "stderr",
     "output_type": "stream",
     "text": [
      "\n",
      "100%|██████████| 3/3 [00:00<00:00, 1964.24it/s]\n",
      "\n",
      "100%|██████████| 3/3 [00:00<00:00, 1855.89it/s]\n",
      " 67%|██████▋   | 8/12 [00:00<00:00, 14.95it/s]\n",
      "100%|██████████| 3/3 [00:00<00:00, 1841.49it/s]\n",
      "\n"
     ]
    },
    {
     "name": "stdout",
     "output_type": "stream",
     "text": [
      "Récupération des mots-clés...\n",
      "Récupération des mots-clés...\n",
      "Récupération des mots-clés...\n",
      "Récupération des mots-clés...\n"
     ]
    },
    {
     "name": "stderr",
     "output_type": "stream",
     "text": [
      "100%|██████████| 3/3 [00:00<00:00, 1945.11it/s]\n",
      " 83%|████████▎ | 10/12 [00:00<00:00, 14.86it/s]\n",
      "100%|██████████| 3/3 [00:00<00:00, 1824.67it/s]\n",
      "\n",
      "100%|██████████| 3/3 [00:00<00:00, 1956.30it/s]\n",
      "100%|██████████| 12/12 [00:00<00:00, 14.67it/s]\n",
      "  0%|          | 0/8 [00:00<?, ?it/s]\n",
      "100%|██████████| 3/3 [00:00<00:00, 2394.92it/s]\n",
      "\n",
      "100%|██████████| 3/3 [00:00<00:00, 2284.48it/s]"
     ]
    },
    {
     "name": "stdout",
     "output_type": "stream",
     "text": [
      "Récupération des mots-clés...\n",
      "Récupération des mots-clés...\n",
      "Récupération des autorités...\n",
      "Récupération des mots-clés...\n",
      "Récupération des mots-clés...\n",
      "Récupération des mots-clés...\n"
     ]
    },
    {
     "name": "stderr",
     "output_type": "stream",
     "text": [
      "\n",
      "\n",
      "100%|██████████| 3/3 [00:00<00:00, 2385.84it/s]\n",
      " 38%|███▊      | 3/8 [00:00<00:00, 21.17it/s]\n",
      "100%|██████████| 3/3 [00:00<00:00, 2121.19it/s]\n",
      "\n",
      "100%|██████████| 3/3 [00:00<00:00, 2442.81it/s]\n",
      "\n",
      "100%|██████████| 3/3 [00:00<00:00, 1395.00it/s]\n",
      " 75%|███████▌  | 6/8 [00:00<00:00, 20.92it/s]\n",
      "100%|██████████| 3/3 [00:00<00:00, 1958.73it/s]\n",
      "\n",
      "100%|██████████| 3/3 [00:00<00:00, 2373.69it/s]\n",
      "100%|██████████| 8/8 [00:00<00:00, 20.88it/s]"
     ]
    },
    {
     "name": "stdout",
     "output_type": "stream",
     "text": [
      "Récupération des mots-clés...\n",
      "Récupération des mots-clés...\n",
      "Récupération des mots-clés...\n",
      "Récupération des mots-clés...\n",
      "Récupération des mots-clés...\n"
     ]
    },
    {
     "name": "stderr",
     "output_type": "stream",
     "text": [
      "\n",
      "  0%|          | 0/2 [00:00<?, ?it/s]\n",
      "100%|██████████| 3/3 [00:00<00:00, 2506.56it/s]\n",
      "\n",
      "100%|██████████| 3/3 [00:00<00:00, 3021.83it/s]\n",
      "100%|██████████| 2/2 [00:00<00:00, 22.30it/s]\n",
      "  0%|          | 0/2 [00:00<?, ?it/s]\n",
      "100%|██████████| 3/3 [00:00<00:00, 2300.77it/s]\n",
      "\n",
      "100%|██████████| 3/3 [00:00<00:00, 1563.09it/s]\n",
      "100%|██████████| 2/2 [00:00<00:00, 23.71it/s]"
     ]
    },
    {
     "name": "stdout",
     "output_type": "stream",
     "text": [
      "Récupération des autorités...\n",
      "Récupération des mots-clés...\n",
      "Récupération des mots-clés...\n",
      "Récupération des autorités...\n",
      "Récupération des mots-clés...\n",
      "Récupération des mots-clés...\n"
     ]
    },
    {
     "name": "stderr",
     "output_type": "stream",
     "text": [
      "\n",
      "  0%|          | 0/2 [00:00<?, ?it/s]\n",
      "100%|██████████| 3/3 [00:00<00:00, 2551.28it/s]\n",
      "\n",
      "100%|██████████| 3/3 [00:00<00:00, 2549.21it/s]\n",
      "100%|██████████| 2/2 [00:00<00:00, 25.10it/s]\n"
     ]
    },
    {
     "name": "stdout",
     "output_type": "stream",
     "text": [
      "Récupération des autorités...\n",
      "Récupération des mots-clés...\n",
      "Récupération des mots-clés...\n"
     ]
    },
    {
     "ename": "TypeError",
     "evalue": "write() argument must be str, not Tag",
     "output_type": "error",
     "traceback": [
      "\u001b[0;31m---------------------------------------------------------------------------\u001b[0m",
      "\u001b[0;31mTypeError\u001b[0m                                 Traceback (most recent call last)",
      "\u001b[0;32m<ipython-input-5-3de82349ea5f>\u001b[0m in \u001b[0;36m<module>\u001b[0;34m\u001b[0m\n\u001b[1;32m     41\u001b[0m                 \u001b[0mtexte\u001b[0m \u001b[0;34m=\u001b[0m \u001b[0;34m\" \"\u001b[0m\u001b[0;34m.\u001b[0m\u001b[0mjoin\u001b[0m\u001b[0;34m(\u001b[0m\u001b[0mlist_mots\u001b[0m\u001b[0;34m)\u001b[0m\u001b[0;34m\u001b[0m\u001b[0;34m\u001b[0m\u001b[0m\n\u001b[1;32m     42\u001b[0m                 \u001b[0;32mfor\u001b[0m \u001b[0melem\u001b[0m \u001b[0;32min\u001b[0m \u001b[0mtitre\u001b[0m\u001b[0;34m:\u001b[0m\u001b[0;31m#c'est important de noter le titre\u001b[0m\u001b[0;34m\u001b[0m\u001b[0;34m\u001b[0m\u001b[0m\n\u001b[0;32m---> 43\u001b[0;31m                     \u001b[0mdocTXT\u001b[0m\u001b[0;34m.\u001b[0m\u001b[0mwrite\u001b[0m\u001b[0;34m(\u001b[0m\u001b[0melem\u001b[0m\u001b[0;34m)\u001b[0m\u001b[0;34m\u001b[0m\u001b[0;34m\u001b[0m\u001b[0m\n\u001b[0m\u001b[1;32m     44\u001b[0m                 \u001b[0mdocTXT\u001b[0m\u001b[0;34m.\u001b[0m\u001b[0mwrite\u001b[0m\u001b[0;34m(\u001b[0m\u001b[0;34m\"\\n\"\u001b[0m\u001b[0;34m)\u001b[0m\u001b[0;34m\u001b[0m\u001b[0;34m\u001b[0m\u001b[0m\n\u001b[1;32m     45\u001b[0m                 \u001b[0mdocTXT\u001b[0m\u001b[0;34m.\u001b[0m\u001b[0mwrite\u001b[0m\u001b[0;34m(\u001b[0m\u001b[0mtexte\u001b[0m\u001b[0;34m)\u001b[0m\u001b[0;34m\u001b[0m\u001b[0;34m\u001b[0m\u001b[0m\n",
      "\u001b[0;31mTypeError\u001b[0m: write() argument must be str, not Tag"
     ]
    }
   ],
   "source": [
    "i = 0 #compteur permettant de numéroter le nom des abstracts sous une forme normalisée\n",
    "year = 2016 #variable permettant de nommer les abstracts sous une forme normalisée.\n",
    "with open('./cache2016/TEI2016.csv', 'w', newline='') as csvfile:\n",
    "    writer = csv.writer(csvfile, delimiter=',')\n",
    "    for abstract in filelist:\n",
    "        with open(Path + abstract, 'r', encoding=\"UTF-8\") as y:\n",
    "            value = y.read()\n",
    "            soup = BeautifulSoup(value, 'xml')\n",
    "            print(\"Récupération des autorités...\")\n",
    "            for contributeur in tqdm(soup.find_all('author')): #Je récupère tous les noeuds \"author\"\n",
    "                for elem in soup.name: #Je vais récupérer ici les éléments de prénom et de nom de chaque auteur\n",
    "                    liste_noms_balise = soup.find_all(['forename', 'surname'])\n",
    "                    noms_a_rassembler = [] #j'instancie une liste dans lequel je vais ranger chaque élément de nom ou de prénom de tous les auteurs d'un seul abstract\n",
    "                    for nom in liste_noms_balise: #ici, je vais normaliser en les transformant en str et en retirant les balises manuellement.\n",
    "                        nom = nettoyage_balises(str(nom))\n",
    "                        noms_a_rassembler.append(nom)\n",
    "                for elem in soup.titleStmt:\n",
    "                    titre = soup.title.contents #grâce à la méthode .contents, je récupère directement une str, sous condition qu'il n'y ait pas de balises imbriquées (comme pour les noms)\n",
    "                    if len(titre) > 1:\n",
    "                        titre = titre[0]\n",
    "                        titre = [titre]\n",
    "                for elem in soup.publicationStmt: #Ici je récupere directement une str grâce à la méthode .contents.\n",
    "                    organisation = soup.publisher.contents\n",
    "                    orga = organisation[0].split() #Pour éliminer les sauts de lignes, tab et autres espaces gênants, la solution la plus simple fut d'enchaîner un .split et un .join\n",
    "                    orga = ' '.join(orga)\n",
    "                    orga = [orga]\n",
    "                print(\"Récupération des mots-clés...\")\n",
    "                for elem in tqdm(soup.keywords):\n",
    "                    liste_motcles = soup.find_all('term') #je récupère tous les mots clés dans une liste\n",
    "                    retypage_liste = [str(i) for i in liste_motcles] #je transforme le type des éléments de la liste en str chacun\n",
    "                    motcles = str(\" | \".join(retypage_liste)) #je transforme la liste en str\n",
    "                    motcles = motcles.replace(\"<term>\", \"\") #je nettoie la str\n",
    "                    motcles = motcles.replace(\"</term>\", \"\")\n",
    "                    motcles = [motcles] #je passe cette grande str en une liste avec 1 seul élément\n",
    "            abstract = soup(\"body\") #ici, j'enregistre le contenu de l'abstract, et je ne garde que le premier élément, car les autres éléments capturés sont trop compliqués à traiter, et trop peu intéressants.\n",
    "            abstract = abstract[0]\n",
    "            titre_dans_cache = \"paper-{0}-{1}.txt\".format(year, i)\n",
    "            with open('./cache2016/cacheTXT/%s.txt' % titre_dans_cache, 'w', encoding='UTF-8') as docTXT:#stockage des textes en cache\n",
    "                text = nettoyage_balises(str(abstract)) #permet de retirer toutes les balises\n",
    "                list_mots = text.split()#permet, avec la ligne suivante, de supprimer tous les espaces parasites laissés par la suppression des balises\n",
    "                texte = \" \".join(list_mots)\n",
    "                for elem in titre:#c'est important de noter le titre\n",
    "                    docTXT.write(elem)\n",
    "                docTXT.write(\"\\n\")\n",
    "                docTXT.write(texte)\n",
    "            titre_dans_cache = titre_dans_cache + \".xml\"\n",
    "            noms_rassembles = ' '.join(noms_a_rassembler) #tous les noms saisis plus haut, chacun étant un élément d'une grande liste, sont rassemblés dans une str, qui est ensuite transformée en une liste d'un seul élément\n",
    "            noms = [noms_rassembles]\n",
    "            titre_dans_cache = [titre_dans_cache]\n",
    "            masterList = noms + titre + orga + motcles + titre_dans_cache #j'assemble chacune des listes composées d'un seul élément en une nested liste. Logiquement, cela ressemble à : [[str], [str], [str], [str]]\n",
    "            writer.writerow(masterList)\n",
    "        i += 1\n",
    "        "
   ]
  }
 ],
 "metadata": {
  "kernelspec": {
   "display_name": "Python 3",
   "language": "python",
   "name": "python3"
  },
  "language_info": {
   "codemirror_mode": {
    "name": "ipython",
    "version": 3
   },
   "file_extension": ".py",
   "mimetype": "text/x-python",
   "name": "python",
   "nbconvert_exporter": "python",
   "pygments_lexer": "ipython3",
   "version": "3.6.9"
  }
 },
 "nbformat": 4,
 "nbformat_minor": 4
}

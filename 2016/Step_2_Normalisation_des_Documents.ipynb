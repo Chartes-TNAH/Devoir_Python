{
 "cells": [
  {
   "cell_type": "markdown",
   "metadata": {},
   "source": [
    "# TEI Conference 2016 #\n",
    "\n",
    "## Etape 2 : Normalisation des documents ##\n",
    "\n",
    "Dans cette étape, nous allons d'une part nettoyer les abstracts de leur encodage pour produire des textes bruts, et d'autre part nous allons créer un fichier csv qui réunira toutes les informations et les métadonnées de chaque abstract. Celui-ci fonctionne comme un index."
   ]
  },
  {
   "cell_type": "markdown",
   "metadata": {},
   "source": [
    "## Les packages ## \n",
    "\n",
    "Le package OS permet de naviguer dans le cache.\n",
    "\n",
    "Le package csv permet de créer le document csv contenant les métadonnées des abstracts.\n",
    "\n",
    "La librairie beautifulsoup permet de naviguer dans l'arbre XML de chaque abstract et de sélectionner les informations que nous recherchons : les métadonnées d'abord, le texte de l'abstract ensuite.\n",
    "\n",
    "La librairie TQDM permet d'afficher les logs de chargement, ce qui est un peu plus joli.\n",
    "\n",
    "Le package \" re \" permet d'utiliser des regex, que nous utiliserons pour nettoyer les balises."
   ]
  },
  {
   "cell_type": "code",
   "execution_count": 1,
   "metadata": {},
   "outputs": [],
   "source": [
    "import os\n",
    "import csv\n",
    "from bs4 import BeautifulSoup\n",
    "from tqdm import tqdm\n",
    "import re"
   ]
  },
  {
   "cell_type": "markdown",
   "metadata": {},
   "source": [
    "## Travail sur le texte ## \n",
    "\n",
    "Nous allons maintenant travailler le texte.\n",
    "\n",
    "Tout d'abord, la cellule ci-dessous permet de créer le dossier cache accueillant les textes bruts, et d'initialiser les variables d'entrée et de sortie des fichiers."
   ]
  },
  {
   "cell_type": "code",
   "execution_count": 2,
   "metadata": {},
   "outputs": [],
   "source": [
    "Path = \"./cache2016/cacheXML/\"\n",
    "Path_output = \"./cache2016/cacheTXT/\"\n",
    "filelist = os.listdir(Path)\n",
    "if not os.path.exists(\"./cache2016/cacheTXT\"):\n",
    "    os.makedirs(\"./cache2016/cacheTXT\")"
   ]
  },
  {
   "cell_type": "markdown",
   "metadata": {},
   "source": [
    "La cellule suivante nous permet de créer une fonction qui supprime tout ce qui commence par un chevron ouvrant et qui se termine par un chevron fermant.\n",
    "\n",
    "La seule solution fiable que j'ai trouvé pour nettoyer le texte de ses balises est d'utiliser une regex.\n",
    "L'avantage de cette solution est qu'elle permet de faire fi des erreurs d'encodage et des erreurs de lecture par le parseur xml.\n",
    "L'inconvénient est qu'il supprime les balises d'exemple : parfois, un abstract mentionne une balise non pas en tant que balise encodant le texte, mais comme texte lui-même. La balise disparaît. \n",
    "\n",
    "Il a été choisi d'utiliser la regex ci-dessous car le trop grand nombre d'erreurs relevées par le parseur XML (lxml de etree) rendait son utilisation trop compliquée pour les gains potentiels."
   ]
  },
  {
   "cell_type": "code",
   "execution_count": 3,
   "metadata": {},
   "outputs": [],
   "source": [
    "def nettoyage_balises(texte):\n",
    "    p = re.compile(r'<.*?>')\n",
    "    return p.sub('', texte)"
   ]
  },
  {
   "cell_type": "markdown",
   "metadata": {},
   "source": [
    "Dans le programme ci-dessous, j'ouvre chaque abstract un par un et je stocke en variable à chaque fois les éléments que je souhaite récupérer (titre, auteur(es), université de rattachement). \n",
    "Je stocke en variable le corps de texte de l'abstract, je le nettoie de ses balises et j'ouvre un fichier texte brut dans lequel j'écris le titre de l'abstract (cela fait à mes yeux partie du texte, et pour une étude de texte le titre est un morceau de choix) et le texte.\n",
    "J'attribue à ce fichier texte brut un titre normalisé (Papers + année + numéro unique) que je stocke en variable.\n",
    "\n",
    "Finalement, j'écris dans le csv le nom des auteurs, le titre original de l'abstract, l'université de rattachement, les mots-clés donnés dans les métadonnées et le titre normalisé attribué dans le cache."
   ]
  },
  {
   "cell_type": "code",
   "execution_count": 4,
   "metadata": {},
   "outputs": [
    {
     "name": "stderr",
     "output_type": "stream",
     "text": [
      "  0%|          | 0/2 [00:00<?, ?it/s]\n",
      "100%|██████████| 3/3 [00:00<00:00, 2565.85it/s]\n",
      "\n",
      "100%|██████████| 3/3 [00:00<00:00, 3152.03it/s]\n",
      "100%|██████████| 2/2 [00:00<00:00, 20.08it/s]\n",
      "  0%|          | 0/14 [00:00<?, ?it/s]"
     ]
    },
    {
     "name": "stdout",
     "output_type": "stream",
     "text": [
      "Récupération des autorités...\n",
      "Récupération des mots-clés...\n",
      "Récupération des mots-clés...\n",
      "Récupération des autorités...\n"
     ]
    },
    {
     "name": "stderr",
     "output_type": "stream",
     "text": [
      "\n",
      "100%|██████████| 3/3 [00:00<00:00, 626.02it/s]\n",
      "\n",
      "100%|██████████| 3/3 [00:00<00:00, 1584.95it/s]\n",
      " 14%|█▍        | 2/14 [00:00<00:01, 10.86it/s]\n",
      "100%|██████████| 3/3 [00:00<00:00, 1537.31it/s]"
     ]
    },
    {
     "name": "stdout",
     "output_type": "stream",
     "text": [
      "Récupération des mots-clés...\n",
      "Récupération des mots-clés...\n",
      "Récupération des mots-clés...\n"
     ]
    },
    {
     "name": "stderr",
     "output_type": "stream",
     "text": [
      "\n",
      "\n",
      "100%|██████████| 3/3 [00:00<00:00, 1582.96it/s]\n",
      " 29%|██▊       | 4/14 [00:00<00:00, 10.96it/s]\n",
      "100%|██████████| 3/3 [00:00<00:00, 748.72it/s]\n",
      "\n",
      "100%|██████████| 3/3 [00:00<00:00, 1652.60it/s]\n",
      " 43%|████▎     | 6/14 [00:00<00:00, 10.98it/s]"
     ]
    },
    {
     "name": "stdout",
     "output_type": "stream",
     "text": [
      "Récupération des mots-clés...\n",
      "Récupération des mots-clés...\n",
      "Récupération des mots-clés...\n"
     ]
    },
    {
     "name": "stderr",
     "output_type": "stream",
     "text": [
      "\n",
      "100%|██████████| 3/3 [00:00<00:00, 1521.15it/s]\n",
      "\n",
      "100%|██████████| 3/3 [00:00<00:00, 1602.10it/s]\n",
      " 57%|█████▋    | 8/14 [00:00<00:00, 10.81it/s]\n",
      "100%|██████████| 3/3 [00:00<00:00, 1537.50it/s]"
     ]
    },
    {
     "name": "stdout",
     "output_type": "stream",
     "text": [
      "Récupération des mots-clés...\n",
      "Récupération des mots-clés...\n",
      "Récupération des mots-clés...\n"
     ]
    },
    {
     "name": "stderr",
     "output_type": "stream",
     "text": [
      "\n",
      "\n",
      "100%|██████████| 3/3 [00:00<00:00, 1453.83it/s]\n",
      " 71%|███████▏  | 10/14 [00:00<00:00, 10.81it/s]\n",
      "100%|██████████| 3/3 [00:00<00:00, 1434.44it/s]\n",
      "\n",
      "100%|██████████| 3/3 [00:00<00:00, 1737.49it/s]\n",
      " 86%|████████▌ | 12/14 [00:01<00:00, 10.78it/s]"
     ]
    },
    {
     "name": "stdout",
     "output_type": "stream",
     "text": [
      "Récupération des mots-clés...\n",
      "Récupération des mots-clés...\n",
      "Récupération des mots-clés...\n"
     ]
    },
    {
     "name": "stderr",
     "output_type": "stream",
     "text": [
      "\n",
      "100%|██████████| 3/3 [00:00<00:00, 1180.16it/s]\n",
      " 93%|█████████▎| 13/14 [00:01<00:00, 10.15it/s]\n",
      "100%|██████████| 3/3 [00:00<00:00, 1523.17it/s]\n",
      "100%|██████████| 14/14 [00:01<00:00, 10.63it/s]\n",
      "  0%|          | 0/2 [00:00<?, ?it/s]\n",
      "100%|██████████| 3/3 [00:00<00:00, 1217.03it/s]"
     ]
    },
    {
     "name": "stdout",
     "output_type": "stream",
     "text": [
      "Récupération des mots-clés...\n",
      "Récupération des mots-clés...\n",
      "Récupération des autorités...\n",
      "Récupération des mots-clés...\n"
     ]
    },
    {
     "name": "stderr",
     "output_type": "stream",
     "text": [
      "\n",
      "\n",
      "100%|██████████| 3/3 [00:00<00:00, 2456.16it/s]\n",
      "100%|██████████| 2/2 [00:00<00:00, 19.39it/s]\n",
      "  0%|          | 0/2 [00:00<?, ?it/s]\n",
      "100%|██████████| 3/3 [00:00<00:00, 2615.99it/s]\n",
      "\n",
      "100%|██████████| 3/3 [00:00<00:00, 2555.42it/s]\n",
      "100%|██████████| 2/2 [00:00<00:00, 16.82it/s]\n",
      "  0%|          | 0/2 [00:00<?, ?it/s]"
     ]
    },
    {
     "name": "stdout",
     "output_type": "stream",
     "text": [
      "Récupération des mots-clés...\n",
      "Récupération des autorités...\n",
      "Récupération des mots-clés...\n",
      "Récupération des mots-clés...\n",
      "Récupération des autorités...\n",
      "Récupération des mots-clés...\n"
     ]
    },
    {
     "name": "stderr",
     "output_type": "stream",
     "text": [
      "\n",
      "100%|██████████| 3/3 [00:00<00:00, 2722.98it/s]\n",
      "\n",
      "100%|██████████| 3/3 [00:00<00:00, 2730.07it/s]\n",
      "100%|██████████| 2/2 [00:00<00:00, 21.26it/s]\n",
      "  0%|          | 0/2 [00:00<?, ?it/s]\n",
      "100%|██████████| 3/3 [00:00<00:00, 1805.04it/s]\n",
      "\n",
      "100%|██████████| 3/3 [00:00<00:00, 2375.48it/s]\n",
      "100%|██████████| 2/2 [00:00<00:00, 17.24it/s]\n",
      "  0%|          | 0/2 [00:00<?, ?it/s]\n",
      "100%|██████████| 3/3 [00:00<00:00, 2648.48it/s]"
     ]
    },
    {
     "name": "stdout",
     "output_type": "stream",
     "text": [
      "Récupération des mots-clés...\n",
      "Récupération des autorités...\n",
      "Récupération des mots-clés...\n",
      "Récupération des mots-clés...\n",
      "Récupération des autorités...\n",
      "Récupération des mots-clés...\n"
     ]
    },
    {
     "name": "stderr",
     "output_type": "stream",
     "text": [
      "\n",
      "\n",
      "100%|██████████| 3/3 [00:00<00:00, 2634.06it/s]\n",
      "100%|██████████| 2/2 [00:00<00:00, 20.01it/s]\n",
      "  0%|          | 0/12 [00:00<?, ?it/s]\n",
      "100%|██████████| 3/3 [00:00<00:00, 1681.76it/s]\n",
      "\n",
      "  0%|          | 0/3 [00:00<?, ?it/s]\u001b[A"
     ]
    },
    {
     "name": "stdout",
     "output_type": "stream",
     "text": [
      "Récupération des mots-clés...\n",
      "Récupération des autorités...\n",
      "Récupération des mots-clés...\n",
      "Récupération des mots-clés...\n"
     ]
    },
    {
     "name": "stderr",
     "output_type": "stream",
     "text": [
      "100%|██████████| 3/3 [00:00<00:00, 1260.31it/s]\n",
      " 17%|█▋        | 2/12 [00:00<00:00, 11.43it/s]\n",
      "100%|██████████| 3/3 [00:00<00:00, 1831.31it/s]\n",
      "\n",
      "100%|██████████| 3/3 [00:00<00:00, 1645.04it/s]\n",
      " 33%|███▎      | 4/12 [00:00<00:00, 11.72it/s]\n",
      "100%|██████████| 3/3 [00:00<00:00, 748.85it/s]"
     ]
    },
    {
     "name": "stdout",
     "output_type": "stream",
     "text": [
      "Récupération des mots-clés...\n",
      "Récupération des mots-clés...\n",
      "Récupération des mots-clés...\n"
     ]
    },
    {
     "name": "stderr",
     "output_type": "stream",
     "text": [
      "\n",
      "\n",
      "100%|██████████| 3/3 [00:00<00:00, 1697.64it/s]\n",
      " 50%|█████     | 6/12 [00:00<00:00, 11.72it/s]\n",
      "100%|██████████| 3/3 [00:00<00:00, 1710.56it/s]\n",
      "\n",
      "100%|██████████| 3/3 [00:00<00:00, 1737.73it/s]\n",
      " 67%|██████▋   | 8/12 [00:00<00:00, 11.81it/s]"
     ]
    },
    {
     "name": "stdout",
     "output_type": "stream",
     "text": [
      "Récupération des mots-clés...\n",
      "Récupération des mots-clés...\n",
      "Récupération des mots-clés...\n"
     ]
    },
    {
     "name": "stderr",
     "output_type": "stream",
     "text": [
      "\n",
      "100%|██████████| 3/3 [00:00<00:00, 1682.88it/s]\n",
      "\n",
      "100%|██████████| 3/3 [00:00<00:00, 1849.88it/s]\n",
      " 83%|████████▎ | 10/12 [00:00<00:00, 11.91it/s]\n",
      "100%|██████████| 3/3 [00:00<00:00, 909.43it/s]"
     ]
    },
    {
     "name": "stdout",
     "output_type": "stream",
     "text": [
      "Récupération des mots-clés...\n",
      "Récupération des mots-clés...\n",
      "Récupération des mots-clés...\n"
     ]
    },
    {
     "name": "stderr",
     "output_type": "stream",
     "text": [
      "\n",
      "\n",
      "100%|██████████| 3/3 [00:00<00:00, 857.73it/s]\n",
      "100%|██████████| 12/12 [00:01<00:00, 11.87it/s]\n",
      "  0%|          | 0/2 [00:00<?, ?it/s]\n",
      "100%|██████████| 3/3 [00:00<00:00, 2629.11it/s]\n",
      "\n",
      "100%|██████████| 3/3 [00:00<00:00, 1669.04it/s]\n",
      "100%|██████████| 2/2 [00:00<00:00, 18.21it/s]\n",
      "  0%|          | 0/2 [00:00<?, ?it/s]\n",
      "100%|██████████| 3/3 [00:00<00:00, 2526.69it/s]"
     ]
    },
    {
     "name": "stdout",
     "output_type": "stream",
     "text": [
      "Récupération des mots-clés...\n",
      "Récupération des autorités...\n",
      "Récupération des mots-clés...\n",
      "Récupération des mots-clés...\n",
      "Récupération des autorités...\n",
      "Récupération des mots-clés...\n"
     ]
    },
    {
     "name": "stderr",
     "output_type": "stream",
     "text": [
      "\n",
      "\n",
      "100%|██████████| 3/3 [00:00<00:00, 2972.58it/s]\n",
      "100%|██████████| 2/2 [00:00<00:00, 21.60it/s]\n",
      "  0%|          | 0/2 [00:00<?, ?it/s]\n",
      "100%|██████████| 3/3 [00:00<00:00, 1323.82it/s]\n",
      "\n",
      "100%|██████████| 3/3 [00:00<00:00, 2565.85it/s]\n",
      "100%|██████████| 2/2 [00:00<00:00, 24.43it/s]\n",
      "  0%|          | 0/2 [00:00<?, ?it/s]\n",
      "100%|██████████| 3/3 [00:00<00:00, 2602.46it/s]\n",
      "\n",
      "100%|██████████| 3/3 [00:00<00:00, 2928.30it/s]"
     ]
    },
    {
     "name": "stdout",
     "output_type": "stream",
     "text": [
      "Récupération des mots-clés...\n",
      "Récupération des autorités...\n",
      "Récupération des mots-clés...\n",
      "Récupération des mots-clés...\n",
      "Récupération des autorités...\n",
      "Récupération des mots-clés...\n",
      "Récupération des mots-clés...\n"
     ]
    },
    {
     "name": "stderr",
     "output_type": "stream",
     "text": [
      "\n",
      "100%|██████████| 2/2 [00:00<00:00, 22.58it/s]\n",
      "  0%|          | 0/2 [00:00<?, ?it/s]\n",
      "100%|██████████| 3/3 [00:00<00:00, 2270.46it/s]\n",
      "\n",
      "100%|██████████| 3/3 [00:00<00:00, 2427.26it/s]\n",
      "100%|██████████| 2/2 [00:00<00:00, 18.77it/s]\n",
      "  0%|          | 0/2 [00:00<?, ?it/s]\n",
      "100%|██████████| 3/3 [00:00<00:00, 2561.67it/s]\n",
      "\n",
      "100%|██████████| 3/3 [00:00<00:00, 3075.00it/s]"
     ]
    },
    {
     "name": "stdout",
     "output_type": "stream",
     "text": [
      "Récupération des autorités...\n",
      "Récupération des mots-clés...\n",
      "Récupération des mots-clés...\n",
      "Récupération des autorités...\n",
      "Récupération des mots-clés...\n",
      "Récupération des mots-clés...\n"
     ]
    },
    {
     "name": "stderr",
     "output_type": "stream",
     "text": [
      "\n",
      "100%|██████████| 2/2 [00:00<00:00, 24.58it/s]\n",
      "  0%|          | 0/9 [00:00<?, ?it/s]\n",
      "100%|██████████| 3/3 [00:00<00:00, 1369.64it/s]\n",
      "\n",
      "100%|██████████| 3/3 [00:00<00:00, 2132.70it/s]\n",
      " 22%|██▏       | 2/9 [00:00<00:00, 16.63it/s]\n",
      "100%|██████████| 3/3 [00:00<00:00, 1465.00it/s]\n"
     ]
    },
    {
     "name": "stdout",
     "output_type": "stream",
     "text": [
      "Récupération des autorités...\n",
      "Récupération des mots-clés...\n",
      "Récupération des mots-clés...\n",
      "Récupération des mots-clés...\n"
     ]
    },
    {
     "name": "stderr",
     "output_type": "stream",
     "text": [
      "\n",
      "100%|██████████| 3/3 [00:00<00:00, 1277.06it/s]\n",
      " 44%|████▍     | 4/9 [00:00<00:00, 16.90it/s]\n",
      "100%|██████████| 3/3 [00:00<00:00, 2029.17it/s]\n",
      "\n",
      "100%|██████████| 3/3 [00:00<00:00, 2289.47it/s]\n",
      " 67%|██████▋   | 6/9 [00:00<00:00, 17.17it/s]\n",
      "100%|██████████| 3/3 [00:00<00:00, 1558.26it/s]"
     ]
    },
    {
     "name": "stdout",
     "output_type": "stream",
     "text": [
      "Récupération des mots-clés...\n",
      "Récupération des mots-clés...\n",
      "Récupération des mots-clés...\n",
      "Récupération des mots-clés...\n"
     ]
    },
    {
     "name": "stderr",
     "output_type": "stream",
     "text": [
      "\n",
      "\n",
      "100%|██████████| 3/3 [00:00<00:00, 1239.09it/s]\n",
      " 89%|████████▉ | 8/9 [00:00<00:00, 17.33it/s]\n",
      "100%|██████████| 3/3 [00:00<00:00, 2173.97it/s]\n",
      "100%|██████████| 9/9 [00:00<00:00, 17.45it/s]\n",
      "  0%|          | 0/2 [00:00<?, ?it/s]\n",
      "100%|██████████| 3/3 [00:00<00:00, 2082.23it/s]\n",
      "\n",
      "100%|██████████| 3/3 [00:00<00:00, 2388.10it/s]\n",
      "100%|██████████| 2/2 [00:00<00:00, 26.41it/s]\n",
      "  0%|          | 0/4 [00:00<?, ?it/s]\n",
      "  0%|          | 0/3 [00:00<?, ?it/s]"
     ]
    },
    {
     "name": "stdout",
     "output_type": "stream",
     "text": [
      "Récupération des mots-clés...\n",
      "Récupération des mots-clés...\n",
      "Récupération des autorités...\n",
      "Récupération des mots-clés...\n",
      "Récupération des mots-clés...\n",
      "Récupération des autorités...\n",
      "Récupération des mots-clés...\n"
     ]
    },
    {
     "name": "stderr",
     "output_type": "stream",
     "text": [
      "100%|██████████| 3/3 [00:00<00:00, 1543.54it/s]\n",
      "\n",
      "100%|██████████| 3/3 [00:00<00:00, 1486.11it/s]\n",
      "\n",
      "100%|██████████| 3/3 [00:00<00:00, 2804.93it/s]\n",
      " 75%|███████▌  | 3/4 [00:00<00:00, 23.26it/s]\n",
      "100%|██████████| 3/3 [00:00<00:00, 2507.06it/s]\n",
      "100%|██████████| 4/4 [00:00<00:00, 22.32it/s]\n",
      "  0%|          | 0/2 [00:00<?, ?it/s]\n",
      "100%|██████████| 3/3 [00:00<00:00, 2056.03it/s]\n",
      "\n",
      "100%|██████████| 3/3 [00:00<00:00, 2509.06it/s]"
     ]
    },
    {
     "name": "stdout",
     "output_type": "stream",
     "text": [
      "Récupération des mots-clés...\n",
      "Récupération des mots-clés...\n",
      "Récupération des mots-clés...\n",
      "Récupération des autorités...\n",
      "Récupération des mots-clés...\n",
      "Récupération des mots-clés...\n"
     ]
    },
    {
     "name": "stderr",
     "output_type": "stream",
     "text": [
      "\n",
      "100%|██████████| 2/2 [00:00<00:00, 21.24it/s]\n",
      "  0%|          | 0/2 [00:00<?, ?it/s]\n",
      "100%|██████████| 3/3 [00:00<00:00, 2573.19it/s]\n",
      "\n",
      "100%|██████████| 3/3 [00:00<00:00, 2945.44it/s]\n",
      "100%|██████████| 2/2 [00:00<00:00, 22.51it/s]\n",
      "  0%|          | 0/7 [00:00<?, ?it/s]\n",
      "100%|██████████| 3/3 [00:00<00:00, 2123.70it/s]\n",
      "\n",
      "  0%|          | 0/3 [00:00<?, ?it/s]"
     ]
    },
    {
     "name": "stdout",
     "output_type": "stream",
     "text": [
      "Récupération des autorités...\n",
      "Récupération des mots-clés...\n",
      "Récupération des mots-clés...\n",
      "Récupération des autorités...\n",
      "Récupération des mots-clés...\n",
      "Récupération des mots-clés...\n"
     ]
    },
    {
     "name": "stderr",
     "output_type": "stream",
     "text": [
      "100%|██████████| 3/3 [00:00<00:00, 2093.31it/s]\n",
      " 29%|██▊       | 2/7 [00:00<00:00, 19.68it/s]\n",
      "100%|██████████| 3/3 [00:00<00:00, 2006.20it/s]\n",
      "\n",
      "100%|██████████| 3/3 [00:00<00:00, 2378.17it/s]\n",
      "\n",
      "100%|██████████| 3/3 [00:00<00:00, 2677.79it/s]\n",
      " 71%|███████▏  | 5/7 [00:00<00:00, 19.97it/s]\n",
      "100%|██████████| 3/3 [00:00<00:00, 2713.59it/s]\n",
      "\n",
      "100%|██████████| 3/3 [00:00<00:00, 2556.98it/s]"
     ]
    },
    {
     "name": "stdout",
     "output_type": "stream",
     "text": [
      "Récupération des mots-clés...\n",
      "Récupération des mots-clés...\n",
      "Récupération des mots-clés...\n",
      "Récupération des mots-clés...\n",
      "Récupération des mots-clés...\n"
     ]
    },
    {
     "name": "stderr",
     "output_type": "stream",
     "text": [
      "\n",
      "100%|██████████| 7/7 [00:00<00:00, 20.18it/s]\n",
      "  0%|          | 0/2 [00:00<?, ?it/s]\n",
      "100%|██████████| 3/3 [00:00<00:00, 3000.22it/s]\n",
      "\n",
      "100%|██████████| 3/3 [00:00<00:00, 2764.26it/s]\n",
      "100%|██████████| 2/2 [00:00<00:00, 21.88it/s]\n",
      "  0%|          | 0/7 [00:00<?, ?it/s]\n",
      "100%|██████████| 3/3 [00:00<00:00, 1958.13it/s]\n"
     ]
    },
    {
     "name": "stdout",
     "output_type": "stream",
     "text": [
      "Récupération des autorités...\n",
      "Récupération des mots-clés...\n",
      "Récupération des mots-clés...\n",
      "Récupération des autorités...\n",
      "Récupération des mots-clés...\n"
     ]
    },
    {
     "name": "stderr",
     "output_type": "stream",
     "text": [
      "\n",
      "100%|██████████| 3/3 [00:00<00:00, 1930.49it/s]\n",
      " 29%|██▊       | 2/7 [00:00<00:00, 15.30it/s]\n",
      "100%|██████████| 3/3 [00:00<00:00, 2163.13it/s]\n",
      "\n",
      "100%|██████████| 3/3 [00:00<00:00, 1865.79it/s]\n",
      " 57%|█████▋    | 4/7 [00:00<00:00, 15.32it/s]"
     ]
    },
    {
     "name": "stdout",
     "output_type": "stream",
     "text": [
      "Récupération des mots-clés...\n",
      "Récupération des mots-clés...\n",
      "Récupération des mots-clés...\n"
     ]
    },
    {
     "name": "stderr",
     "output_type": "stream",
     "text": [
      "\n",
      "100%|██████████| 3/3 [00:00<00:00, 2025.26it/s]\n",
      "\n",
      "100%|██████████| 3/3 [00:00<00:00, 2076.73it/s]\n",
      " 86%|████████▌ | 6/7 [00:00<00:00, 15.41it/s]\n",
      "100%|██████████| 3/3 [00:00<00:00, 2134.14it/s]\n",
      "100%|██████████| 7/7 [00:00<00:00, 15.40it/s]\n",
      "  0%|          | 0/8 [00:00<?, ?it/s]\n",
      "100%|██████████| 3/3 [00:00<00:00, 2581.64it/s]"
     ]
    },
    {
     "name": "stdout",
     "output_type": "stream",
     "text": [
      "Récupération des mots-clés...\n",
      "Récupération des mots-clés...\n",
      "Récupération des mots-clés...\n",
      "Récupération des autorités...\n",
      "Récupération des mots-clés...\n"
     ]
    },
    {
     "name": "stderr",
     "output_type": "stream",
     "text": [
      "\n",
      "\n",
      "100%|██████████| 3/3 [00:00<00:00, 2264.34it/s]\n",
      " 25%|██▌       | 2/8 [00:00<00:00, 18.95it/s]\n",
      "100%|██████████| 3/3 [00:00<00:00, 2169.47it/s]\n",
      "\n",
      "100%|██████████| 3/3 [00:00<00:00, 2291.13it/s]\n",
      " 50%|█████     | 4/8 [00:00<00:00, 19.06it/s]\n",
      "100%|██████████| 3/3 [00:00<00:00, 2549.73it/s]\n"
     ]
    },
    {
     "name": "stdout",
     "output_type": "stream",
     "text": [
      "Récupération des mots-clés...\n",
      "Récupération des mots-clés...\n",
      "Récupération des mots-clés...\n",
      "Récupération des mots-clés...\n"
     ]
    },
    {
     "name": "stderr",
     "output_type": "stream",
     "text": [
      "\n",
      "100%|██████████| 3/3 [00:00<00:00, 1913.46it/s]\n",
      " 75%|███████▌  | 6/8 [00:00<00:00, 18.62it/s]\n",
      "100%|██████████| 3/3 [00:00<00:00, 1978.76it/s]\n",
      "\n",
      "100%|██████████| 3/3 [00:00<00:00, 2104.17it/s]\n",
      "100%|██████████| 8/8 [00:00<00:00, 18.49it/s]\n",
      "  0%|          | 0/2 [00:00<?, ?it/s]\n",
      "100%|██████████| 3/3 [00:00<00:00, 1710.80it/s]\n"
     ]
    },
    {
     "name": "stdout",
     "output_type": "stream",
     "text": [
      "Récupération des mots-clés...\n",
      "Récupération des mots-clés...\n",
      "Récupération des mots-clés...\n",
      "Récupération des autorités...\n",
      "Récupération des mots-clés...\n"
     ]
    },
    {
     "name": "stderr",
     "output_type": "stream",
     "text": [
      "\n",
      "100%|██████████| 3/3 [00:00<00:00, 1502.44it/s]\n",
      "100%|██████████| 2/2 [00:00<00:00, 23.13it/s]\n",
      "  0%|          | 0/7 [00:00<?, ?it/s]\n",
      "100%|██████████| 3/3 [00:00<00:00, 2109.10it/s]\n",
      "\n",
      "100%|██████████| 3/3 [00:00<00:00, 2373.24it/s]\n",
      " 29%|██▊       | 2/7 [00:00<00:00, 18.92it/s]\n",
      "100%|██████████| 3/3 [00:00<00:00, 2455.20it/s]\n",
      "\n"
     ]
    },
    {
     "name": "stdout",
     "output_type": "stream",
     "text": [
      "Récupération des mots-clés...\n",
      "Récupération des autorités...\n",
      "Récupération des mots-clés...\n",
      "Récupération des mots-clés...\n",
      "Récupération des mots-clés...\n",
      "Récupération des mots-clés...\n"
     ]
    },
    {
     "name": "stderr",
     "output_type": "stream",
     "text": [
      "100%|██████████| 3/3 [00:00<00:00, 2123.34it/s]\n",
      " 57%|█████▋    | 4/7 [00:00<00:00, 18.22it/s]\n",
      "100%|██████████| 3/3 [00:00<00:00, 894.44it/s]\n",
      "\n",
      "100%|██████████| 3/3 [00:00<00:00, 2379.52it/s]\n",
      " 86%|████████▌ | 6/7 [00:00<00:00, 17.91it/s]\n",
      "100%|██████████| 3/3 [00:00<00:00, 2463.86it/s]\n",
      "100%|██████████| 7/7 [00:00<00:00, 17.40it/s]\n",
      "  0%|          | 0/3 [00:00<?, ?it/s]\n",
      "100%|██████████| 3/3 [00:00<00:00, 3048.19it/s]"
     ]
    },
    {
     "name": "stdout",
     "output_type": "stream",
     "text": [
      "Récupération des mots-clés...\n",
      "Récupération des mots-clés...\n",
      "Récupération des mots-clés...\n",
      "Récupération des autorités...\n",
      "Récupération des mots-clés...\n",
      "Récupération des mots-clés...\n"
     ]
    },
    {
     "name": "stderr",
     "output_type": "stream",
     "text": [
      "\n",
      "\n",
      "100%|██████████| 3/3 [00:00<00:00, 2299.09it/s]\n",
      "\n",
      "100%|██████████| 3/3 [00:00<00:00, 2685.21it/s]\n",
      "100%|██████████| 3/3 [00:00<00:00, 21.53it/s]\n",
      "  0%|          | 0/2 [00:00<?, ?it/s]\n",
      "100%|██████████| 3/3 [00:00<00:00, 2722.40it/s]\n",
      "\n",
      "100%|██████████| 3/3 [00:00<00:00, 3201.76it/s]\n",
      "100%|██████████| 2/2 [00:00<00:00, 24.81it/s]\n",
      "  0%|          | 0/16 [00:00<?, ?it/s]\n",
      "100%|██████████| 3/3 [00:00<00:00, 1965.16it/s]\n"
     ]
    },
    {
     "name": "stdout",
     "output_type": "stream",
     "text": [
      "Récupération des mots-clés...\n",
      "Récupération des autorités...\n",
      "Récupération des mots-clés...\n",
      "Récupération des mots-clés...\n",
      "Récupération des autorités...\n",
      "Récupération des mots-clés...\n"
     ]
    },
    {
     "name": "stderr",
     "output_type": "stream",
     "text": [
      "\n",
      "100%|██████████| 3/3 [00:00<00:00, 1929.30it/s]\n",
      " 12%|█▎        | 2/16 [00:00<00:00, 14.17it/s]\n",
      "100%|██████████| 3/3 [00:00<00:00, 1892.74it/s]\n",
      "\n",
      "100%|██████████| 3/3 [00:00<00:00, 1900.45it/s]\n",
      " 25%|██▌       | 4/16 [00:00<00:00, 13.95it/s]"
     ]
    },
    {
     "name": "stdout",
     "output_type": "stream",
     "text": [
      "Récupération des mots-clés...\n",
      "Récupération des mots-clés...\n",
      "Récupération des mots-clés...\n"
     ]
    },
    {
     "name": "stderr",
     "output_type": "stream",
     "text": [
      "\n",
      "100%|██████████| 3/3 [00:00<00:00, 814.32it/s]\n",
      "\n",
      "100%|██████████| 3/3 [00:00<00:00, 1902.18it/s]\n",
      " 38%|███▊      | 6/16 [00:00<00:00, 13.64it/s]\n",
      "100%|██████████| 3/3 [00:00<00:00, 1966.08it/s]"
     ]
    },
    {
     "name": "stdout",
     "output_type": "stream",
     "text": [
      "Récupération des mots-clés...\n",
      "Récupération des mots-clés...\n",
      "Récupération des mots-clés...\n"
     ]
    },
    {
     "name": "stderr",
     "output_type": "stream",
     "text": [
      "\n",
      "\n",
      "100%|██████████| 3/3 [00:00<00:00, 1951.44it/s]\n",
      " 50%|█████     | 8/16 [00:00<00:00, 13.54it/s]\n",
      "100%|██████████| 3/3 [00:00<00:00, 1887.91it/s]\n",
      "\n",
      "100%|██████████| 3/3 [00:00<00:00, 1959.04it/s]\n",
      " 62%|██████▎   | 10/16 [00:00<00:00, 13.59it/s]"
     ]
    },
    {
     "name": "stdout",
     "output_type": "stream",
     "text": [
      "Récupération des mots-clés...\n",
      "Récupération des mots-clés...\n",
      "Récupération des mots-clés...\n"
     ]
    },
    {
     "name": "stderr",
     "output_type": "stream",
     "text": [
      "\n",
      "100%|██████████| 3/3 [00:00<00:00, 1535.25it/s]\n",
      "\n",
      "100%|██████████| 3/3 [00:00<00:00, 1887.63it/s]\n",
      " 75%|███████▌  | 12/16 [00:00<00:00, 13.34it/s]\n",
      "100%|██████████| 3/3 [00:00<00:00, 1844.19it/s]"
     ]
    },
    {
     "name": "stdout",
     "output_type": "stream",
     "text": [
      "Récupération des mots-clés...\n",
      "Récupération des mots-clés...\n",
      "Récupération des mots-clés...\n"
     ]
    },
    {
     "name": "stderr",
     "output_type": "stream",
     "text": [
      "\n",
      "\n",
      "100%|██████████| 3/3 [00:00<00:00, 1949.93it/s]\n",
      " 88%|████████▊ | 14/16 [00:01<00:00, 13.39it/s]\n",
      "100%|██████████| 3/3 [00:00<00:00, 1214.10it/s]\n",
      "\n",
      "100%|██████████| 3/3 [00:00<00:00, 1903.62it/s]\n",
      "100%|██████████| 16/16 [00:01<00:00, 13.34it/s]\n",
      "  0%|          | 0/2 [00:00<?, ?it/s]"
     ]
    },
    {
     "name": "stdout",
     "output_type": "stream",
     "text": [
      "Récupération des mots-clés...\n",
      "Récupération des mots-clés...\n",
      "Récupération des mots-clés...\n",
      "Récupération des autorités...\n"
     ]
    },
    {
     "name": "stderr",
     "output_type": "stream",
     "text": [
      "\n",
      "100%|██████████| 3/3 [00:00<00:00, 2630.21it/s]\n",
      "\n",
      "100%|██████████| 3/3 [00:00<00:00, 2504.06it/s]\n",
      "100%|██████████| 2/2 [00:00<00:00, 27.72it/s]\n",
      "  0%|          | 0/5 [00:00<?, ?it/s]\n",
      "100%|██████████| 3/3 [00:00<00:00, 2482.82it/s]\n",
      "\n",
      "100%|██████████| 3/3 [00:00<00:00, 2745.56it/s]\n",
      "\n",
      "100%|██████████| 3/3 [00:00<00:00, 2476.95it/s]"
     ]
    },
    {
     "name": "stdout",
     "output_type": "stream",
     "text": [
      "Récupération des mots-clés...\n",
      "Récupération des mots-clés...\n",
      "Récupération des autorités...\n",
      "Récupération des mots-clés...\n",
      "Récupération des mots-clés...\n",
      "Récupération des mots-clés...\n"
     ]
    },
    {
     "name": "stderr",
     "output_type": "stream",
     "text": [
      "\n",
      " 60%|██████    | 3/5 [00:00<00:00, 20.36it/s]\n",
      "100%|██████████| 3/3 [00:00<00:00, 2720.04it/s]\n",
      "\n",
      "100%|██████████| 3/3 [00:00<00:00, 2705.42it/s]\n",
      "100%|██████████| 5/5 [00:00<00:00, 19.43it/s]\n",
      "  0%|          | 0/2 [00:00<?, ?it/s]\n",
      "100%|██████████| 3/3 [00:00<00:00, 2461.45it/s]\n",
      "\n",
      "100%|██████████| 3/3 [00:00<00:00, 2377.72it/s]\n",
      "100%|██████████| 2/2 [00:00<00:00, 20.58it/s]\n",
      "  0%|          | 0/3 [00:00<?, ?it/s]"
     ]
    },
    {
     "name": "stdout",
     "output_type": "stream",
     "text": [
      "Récupération des mots-clés...\n",
      "Récupération des mots-clés...\n",
      "Récupération des autorités...\n",
      "Récupération des mots-clés...\n",
      "Récupération des mots-clés...\n",
      "Récupération des autorités...\n"
     ]
    },
    {
     "name": "stderr",
     "output_type": "stream",
     "text": [
      "\n",
      "100%|██████████| 3/3 [00:00<00:00, 2725.93it/s]\n",
      "\n",
      "100%|██████████| 3/3 [00:00<00:00, 2550.25it/s]\n",
      "\n",
      "100%|██████████| 3/3 [00:00<00:00, 2211.41it/s]\n",
      "100%|██████████| 3/3 [00:00<00:00, 21.43it/s]\n",
      "  0%|          | 0/2 [00:00<?, ?it/s]\n",
      "100%|██████████| 3/3 [00:00<00:00, 2447.56it/s]\n",
      "\n",
      "100%|██████████| 3/3 [00:00<00:00, 2957.21it/s]\n",
      "100%|██████████| 2/2 [00:00<00:00, 23.52it/s]"
     ]
    },
    {
     "name": "stdout",
     "output_type": "stream",
     "text": [
      "Récupération des mots-clés...\n",
      "Récupération des mots-clés...\n",
      "Récupération des mots-clés...\n",
      "Récupération des autorités...\n",
      "Récupération des mots-clés...\n",
      "Récupération des mots-clés...\n"
     ]
    },
    {
     "name": "stderr",
     "output_type": "stream",
     "text": [
      "\n",
      "  0%|          | 0/14 [00:00<?, ?it/s]\n",
      "100%|██████████| 3/3 [00:00<00:00, 2201.73it/s]\n",
      "\n",
      "100%|██████████| 3/3 [00:00<00:00, 2272.51it/s]\n",
      " 14%|█▍        | 2/14 [00:00<00:00, 15.65it/s]\n",
      "100%|██████████| 3/3 [00:00<00:00, 2278.27it/s]"
     ]
    },
    {
     "name": "stdout",
     "output_type": "stream",
     "text": [
      "Récupération des autorités...\n",
      "Récupération des mots-clés...\n",
      "Récupération des mots-clés...\n",
      "Récupération des mots-clés...\n"
     ]
    },
    {
     "name": "stderr",
     "output_type": "stream",
     "text": [
      "\n",
      "\n",
      "100%|██████████| 3/3 [00:00<00:00, 2274.16it/s]\n",
      " 29%|██▊       | 4/14 [00:00<00:00, 15.50it/s]\n",
      "100%|██████████| 3/3 [00:00<00:00, 2289.88it/s]\n",
      "\n",
      "100%|██████████| 3/3 [00:00<00:00, 2274.98it/s]\n",
      " 43%|████▎     | 6/14 [00:00<00:00, 15.60it/s]\n",
      "100%|██████████| 3/3 [00:00<00:00, 2284.89it/s]"
     ]
    },
    {
     "name": "stdout",
     "output_type": "stream",
     "text": [
      "Récupération des mots-clés...\n",
      "Récupération des mots-clés...\n",
      "Récupération des mots-clés...\n",
      "Récupération des mots-clés...\n"
     ]
    },
    {
     "name": "stderr",
     "output_type": "stream",
     "text": [
      "\n",
      "\n",
      "100%|██████████| 3/3 [00:00<00:00, 1234.10it/s]\n",
      " 57%|█████▋    | 8/14 [00:00<00:00, 15.39it/s]\n",
      "100%|██████████| 3/3 [00:00<00:00, 2219.21it/s]\n",
      "\n",
      "100%|██████████| 3/3 [00:00<00:00, 2038.05it/s]\n",
      " 71%|███████▏  | 10/14 [00:00<00:00, 15.22it/s]"
     ]
    },
    {
     "name": "stdout",
     "output_type": "stream",
     "text": [
      "Récupération des mots-clés...\n",
      "Récupération des mots-clés...\n",
      "Récupération des mots-clés...\n"
     ]
    },
    {
     "name": "stderr",
     "output_type": "stream",
     "text": [
      "\n",
      "100%|██████████| 3/3 [00:00<00:00, 2278.69it/s]\n",
      "\n",
      "100%|██████████| 3/3 [00:00<00:00, 1959.34it/s]\n",
      " 86%|████████▌ | 12/14 [00:00<00:00, 15.14it/s]\n",
      "100%|██████████| 3/3 [00:00<00:00, 1831.31it/s]\n",
      "\n",
      "  0%|          | 0/3 [00:00<?, ?it/s]\u001b[A"
     ]
    },
    {
     "name": "stdout",
     "output_type": "stream",
     "text": [
      "Récupération des mots-clés...\n",
      "Récupération des mots-clés...\n",
      "Récupération des mots-clés...\n",
      "Récupération des mots-clés...\n"
     ]
    },
    {
     "name": "stderr",
     "output_type": "stream",
     "text": [
      "100%|██████████| 3/3 [00:00<00:00, 1754.94it/s]\n",
      "100%|██████████| 14/14 [00:00<00:00, 15.07it/s]\n",
      "  0%|          | 0/2 [00:00<?, ?it/s]\n",
      "100%|██████████| 3/3 [00:00<00:00, 2543.54it/s]\n",
      "\n",
      "100%|██████████| 3/3 [00:00<00:00, 2796.82it/s]\n",
      "100%|██████████| 2/2 [00:00<00:00, 26.52it/s]\n",
      "  0%|          | 0/12 [00:00<?, ?it/s]\n",
      "100%|██████████| 3/3 [00:00<00:00, 1834.78it/s]\n",
      "\n"
     ]
    },
    {
     "name": "stdout",
     "output_type": "stream",
     "text": [
      "Récupération des autorités...\n",
      "Récupération des mots-clés...\n",
      "Récupération des mots-clés...\n",
      "Récupération des autorités...\n",
      "Récupération des mots-clés...\n",
      "Récupération des mots-clés...\n"
     ]
    },
    {
     "name": "stderr",
     "output_type": "stream",
     "text": [
      "100%|██████████| 3/3 [00:00<00:00, 2068.20it/s]\n",
      " 17%|█▋        | 2/12 [00:00<00:00, 15.27it/s]\n",
      "100%|██████████| 3/3 [00:00<00:00, 2003.65it/s]\n",
      "\n",
      "100%|██████████| 3/3 [00:00<00:00, 1982.50it/s]\n",
      " 33%|███▎      | 4/12 [00:00<00:00, 15.21it/s]\n",
      "100%|██████████| 3/3 [00:00<00:00, 1999.51it/s]\n",
      "\n",
      "  0%|          | 0/3 [00:00<?, ?it/s]"
     ]
    },
    {
     "name": "stdout",
     "output_type": "stream",
     "text": [
      "Récupération des mots-clés...\n",
      "Récupération des mots-clés...\n",
      "Récupération des mots-clés...\n",
      "Récupération des mots-clés...\n"
     ]
    },
    {
     "name": "stderr",
     "output_type": "stream",
     "text": [
      "100%|██████████| 3/3 [00:00<00:00, 2033.77it/s]\n",
      " 50%|█████     | 6/12 [00:00<00:00, 15.01it/s]\n",
      "100%|██████████| 3/3 [00:00<00:00, 2023.63it/s]\n",
      "\n",
      "100%|██████████| 3/3 [00:00<00:00, 2041.02it/s]\n",
      " 67%|██████▋   | 8/12 [00:00<00:00, 14.92it/s]\n",
      "100%|██████████| 3/3 [00:00<00:00, 2059.06it/s]\n",
      "\n"
     ]
    },
    {
     "name": "stdout",
     "output_type": "stream",
     "text": [
      "Récupération des mots-clés...\n",
      "Récupération des mots-clés...\n",
      "Récupération des mots-clés...\n",
      "Récupération des mots-clés...\n"
     ]
    },
    {
     "name": "stderr",
     "output_type": "stream",
     "text": [
      "100%|██████████| 3/3 [00:00<00:00, 1635.21it/s]\n",
      " 83%|████████▎ | 10/12 [00:00<00:00, 14.85it/s]\n",
      "100%|██████████| 3/3 [00:00<00:00, 2048.67it/s]\n",
      "\n",
      "100%|██████████| 3/3 [00:00<00:00, 1817.29it/s]\n",
      "100%|██████████| 12/12 [00:00<00:00, 14.84it/s]\n",
      "  0%|          | 0/8 [00:00<?, ?it/s]\n",
      "100%|██████████| 3/3 [00:00<00:00, 2076.05it/s]\n",
      "\n",
      "100%|██████████| 3/3 [00:00<00:00, 1970.70it/s]"
     ]
    },
    {
     "name": "stdout",
     "output_type": "stream",
     "text": [
      "Récupération des mots-clés...\n",
      "Récupération des mots-clés...\n",
      "Récupération des autorités...\n",
      "Récupération des mots-clés...\n",
      "Récupération des mots-clés...\n"
     ]
    },
    {
     "name": "stderr",
     "output_type": "stream",
     "text": [
      "\n",
      "\n",
      "100%|██████████| 3/3 [00:00<00:00, 2359.00it/s]\n",
      " 38%|███▊      | 3/8 [00:00<00:00, 20.27it/s]\n",
      "100%|██████████| 3/3 [00:00<00:00, 2373.24it/s]\n",
      "\n",
      "100%|██████████| 3/3 [00:00<00:00, 1989.71it/s]\n",
      "\n",
      "100%|██████████| 3/3 [00:00<00:00, 2433.36it/s]\n",
      " 75%|███████▌  | 6/8 [00:00<00:00, 20.47it/s]\n",
      "100%|██████████| 3/3 [00:00<00:00, 2330.60it/s]"
     ]
    },
    {
     "name": "stdout",
     "output_type": "stream",
     "text": [
      "Récupération des mots-clés...\n",
      "Récupération des mots-clés...\n",
      "Récupération des mots-clés...\n",
      "Récupération des mots-clés...\n",
      "Récupération des mots-clés...\n"
     ]
    },
    {
     "name": "stderr",
     "output_type": "stream",
     "text": [
      "\n",
      "\n",
      "100%|██████████| 3/3 [00:00<00:00, 685.94it/s]\n",
      "100%|██████████| 8/8 [00:00<00:00, 20.15it/s]\n",
      "  0%|          | 0/2 [00:00<?, ?it/s]\n",
      "100%|██████████| 3/3 [00:00<00:00, 2412.83it/s]\n",
      "\n",
      "100%|██████████| 3/3 [00:00<00:00, 2943.37it/s]\n",
      "100%|██████████| 2/2 [00:00<00:00, 21.94it/s]\n",
      "  0%|          | 0/2 [00:00<?, ?it/s]\n",
      "100%|██████████| 3/3 [00:00<00:00, 2783.21it/s]\n"
     ]
    },
    {
     "name": "stdout",
     "output_type": "stream",
     "text": [
      "Récupération des mots-clés...\n",
      "Récupération des autorités...\n",
      "Récupération des mots-clés...\n",
      "Récupération des mots-clés...\n",
      "Récupération des autorités...\n",
      "Récupération des mots-clés...\n"
     ]
    },
    {
     "name": "stderr",
     "output_type": "stream",
     "text": [
      "\n",
      "100%|██████████| 3/3 [00:00<00:00, 848.71it/s]\n",
      "100%|██████████| 2/2 [00:00<00:00, 20.72it/s]\n",
      "  0%|          | 0/2 [00:00<?, ?it/s]\n",
      "100%|██████████| 3/3 [00:00<00:00, 2472.57it/s]\n",
      "\n",
      "100%|██████████| 3/3 [00:00<00:00, 2482.33it/s]\n",
      "100%|██████████| 2/2 [00:00<00:00, 22.44it/s]\n",
      "  0%|          | 0/10 [00:00<?, ?it/s]\n",
      "100%|██████████| 3/3 [00:00<00:00, 1706.62it/s]\n"
     ]
    },
    {
     "name": "stdout",
     "output_type": "stream",
     "text": [
      "Récupération des mots-clés...\n",
      "Récupération des autorités...\n",
      "Récupération des mots-clés...\n",
      "Récupération des mots-clés...\n",
      "Récupération des autorités...\n",
      "Récupération des mots-clés...\n"
     ]
    },
    {
     "name": "stderr",
     "output_type": "stream",
     "text": [
      "\n",
      "100%|██████████| 3/3 [00:00<00:00, 1890.46it/s]\n",
      " 20%|██        | 2/10 [00:00<00:00, 13.93it/s]\n",
      "100%|██████████| 3/3 [00:00<00:00, 1932.56it/s]\n",
      "\n",
      "100%|██████████| 3/3 [00:00<00:00, 1873.29it/s]\n",
      " 40%|████      | 4/10 [00:00<00:00, 13.68it/s]"
     ]
    },
    {
     "name": "stdout",
     "output_type": "stream",
     "text": [
      "Récupération des mots-clés...\n",
      "Récupération des mots-clés...\n",
      "Récupération des mots-clés...\n"
     ]
    },
    {
     "name": "stderr",
     "output_type": "stream",
     "text": [
      "\n",
      "100%|██████████| 3/3 [00:00<00:00, 1876.65it/s]\n",
      "\n",
      "100%|██████████| 3/3 [00:00<00:00, 1978.76it/s]\n",
      " 60%|██████    | 6/10 [00:00<00:00, 13.68it/s]\n",
      "100%|██████████| 3/3 [00:00<00:00, 2043.01it/s]"
     ]
    },
    {
     "name": "stdout",
     "output_type": "stream",
     "text": [
      "Récupération des mots-clés...\n",
      "Récupération des mots-clés...\n",
      "Récupération des mots-clés...\n"
     ]
    },
    {
     "name": "stderr",
     "output_type": "stream",
     "text": [
      "\n",
      "\n",
      "100%|██████████| 3/3 [00:00<00:00, 1903.04it/s]\n",
      " 80%|████████  | 8/10 [00:00<00:00, 13.62it/s]\n",
      "100%|██████████| 3/3 [00:00<00:00, 1971.93it/s]\n",
      "\n",
      "100%|██████████| 3/3 [00:00<00:00, 1906.21it/s]\n",
      "100%|██████████| 10/10 [00:00<00:00, 13.61it/s]\n",
      "  0%|          | 0/2 [00:00<?, ?it/s]\n"
     ]
    },
    {
     "name": "stdout",
     "output_type": "stream",
     "text": [
      "Récupération des mots-clés...\n",
      "Récupération des mots-clés...\n",
      "Récupération des mots-clés...\n",
      "Récupération des autorités...\n",
      "Récupération des mots-clés...\n"
     ]
    },
    {
     "name": "stderr",
     "output_type": "stream",
     "text": [
      "100%|██████████| 3/3 [00:00<00:00, 2228.25it/s]\n",
      "\n",
      "100%|██████████| 3/3 [00:00<00:00, 2410.98it/s]\n",
      "100%|██████████| 2/2 [00:00<00:00, 24.00it/s]\n",
      "  0%|          | 0/2 [00:00<?, ?it/s]\n",
      "100%|██████████| 3/3 [00:00<00:00, 2634.06it/s]\n",
      "\n",
      "100%|██████████| 3/3 [00:00<00:00, 3005.23it/s]\n",
      "100%|██████████| 2/2 [00:00<00:00, 23.48it/s]\n",
      "  0%|          | 0/2 [00:00<?, ?it/s]\n",
      "100%|██████████| 3/3 [00:00<00:00, 2392.19it/s]\n",
      "\n"
     ]
    },
    {
     "name": "stdout",
     "output_type": "stream",
     "text": [
      "Récupération des mots-clés...\n",
      "Récupération des autorités...\n",
      "Récupération des mots-clés...\n",
      "Récupération des mots-clés...\n",
      "Récupération des autorités...\n",
      "Récupération des mots-clés...\n",
      "Récupération des mots-clés...\n"
     ]
    },
    {
     "name": "stderr",
     "output_type": "stream",
     "text": [
      "100%|██████████| 3/3 [00:00<00:00, 2276.21it/s]\n",
      "100%|██████████| 2/2 [00:00<00:00, 21.51it/s]\n",
      "  0%|          | 0/2 [00:00<?, ?it/s]\n",
      "100%|██████████| 3/3 [00:00<00:00, 2931.71it/s]\n",
      "\n",
      "100%|██████████| 3/3 [00:00<00:00, 2854.56it/s]\n",
      "100%|██████████| 2/2 [00:00<00:00, 22.64it/s]\n",
      "  0%|          | 0/2 [00:00<?, ?it/s]\n",
      "100%|██████████| 3/3 [00:00<00:00, 2439.02it/s]\n",
      "\n",
      "100%|██████████| 3/3 [00:00<00:00, 3304.34it/s]\n",
      "100%|██████████| 2/2 [00:00<00:00, 28.28it/s]\n",
      "  0%|          | 0/2 [00:00<?, ?it/s]"
     ]
    },
    {
     "name": "stdout",
     "output_type": "stream",
     "text": [
      "Récupération des autorités...\n",
      "Récupération des mots-clés...\n",
      "Récupération des mots-clés...\n",
      "Récupération des autorités...\n",
      "Récupération des mots-clés...\n",
      "Récupération des mots-clés...\n",
      "Récupération des autorités...\n"
     ]
    },
    {
     "name": "stderr",
     "output_type": "stream",
     "text": [
      "\n",
      "100%|██████████| 3/3 [00:00<00:00, 1922.82it/s]\n",
      "\n",
      "100%|██████████| 3/3 [00:00<00:00, 2612.73it/s]\n",
      "100%|██████████| 2/2 [00:00<00:00, 21.78it/s]\n",
      "  0%|          | 0/2 [00:00<?, ?it/s]\n",
      "100%|██████████| 3/3 [00:00<00:00, 3081.78it/s]\n",
      "\n",
      "100%|██████████| 3/3 [00:00<00:00, 1685.14it/s]\n",
      "100%|██████████| 2/2 [00:00<00:00, 23.72it/s]\n",
      "  0%|          | 0/2 [00:00<?, ?it/s]"
     ]
    },
    {
     "name": "stdout",
     "output_type": "stream",
     "text": [
      "Récupération des mots-clés...\n",
      "Récupération des mots-clés...\n",
      "Récupération des autorités...\n",
      "Récupération des mots-clés...\n",
      "Récupération des mots-clés...\n",
      "Récupération des autorités...\n",
      "Récupération des mots-clés...\n"
     ]
    },
    {
     "name": "stderr",
     "output_type": "stream",
     "text": [
      "\n",
      "100%|██████████| 3/3 [00:00<00:00, 2329.31it/s]\n",
      "\n",
      "100%|██████████| 3/3 [00:00<00:00, 1623.39it/s]\n",
      "100%|██████████| 2/2 [00:00<00:00, 23.75it/s]\n",
      "  0%|          | 0/2 [00:00<?, ?it/s]\n",
      "100%|██████████| 3/3 [00:00<00:00, 2626.36it/s]\n",
      "\n",
      "100%|██████████| 3/3 [00:00<00:00, 1396.86it/s]\n",
      "100%|██████████| 2/2 [00:00<00:00, 20.92it/s]\n",
      "  0%|          | 0/5 [00:00<?, ?it/s]"
     ]
    },
    {
     "name": "stdout",
     "output_type": "stream",
     "text": [
      "Récupération des mots-clés...\n",
      "Récupération des autorités...\n",
      "Récupération des mots-clés...\n",
      "Récupération des mots-clés...\n",
      "Récupération des autorités...\n"
     ]
    },
    {
     "name": "stderr",
     "output_type": "stream",
     "text": [
      "\n",
      "100%|██████████| 3/3 [00:00<00:00, 2019.08it/s]\n",
      "\n",
      "100%|██████████| 3/3 [00:00<00:00, 2455.68it/s]\n",
      " 40%|████      | 2/5 [00:00<00:00, 19.33it/s]\n",
      "100%|██████████| 3/3 [00:00<00:00, 2344.93it/s]\n",
      "\n",
      "100%|██████████| 3/3 [00:00<00:00, 2449.47it/s]"
     ]
    },
    {
     "name": "stdout",
     "output_type": "stream",
     "text": [
      "Récupération des mots-clés...\n",
      "Récupération des mots-clés...\n",
      "Récupération des mots-clés...\n",
      "Récupération des mots-clés...\n"
     ]
    },
    {
     "name": "stderr",
     "output_type": "stream",
     "text": [
      "\n",
      "\n",
      "100%|██████████| 3/3 [00:00<00:00, 2466.75it/s]\n",
      "100%|██████████| 5/5 [00:00<00:00, 19.16it/s]\n",
      "  0%|          | 0/2 [00:00<?, ?it/s]\n",
      "100%|██████████| 3/3 [00:00<00:00, 1619.42it/s]\n",
      "\n",
      "100%|██████████| 3/3 [00:00<00:00, 2801.81it/s]\n",
      "100%|██████████| 2/2 [00:00<00:00, 27.73it/s]\n",
      "  0%|          | 0/5 [00:00<?, ?it/s]\n",
      "100%|██████████| 3/3 [00:00<00:00, 2143.60it/s]\n"
     ]
    },
    {
     "name": "stdout",
     "output_type": "stream",
     "text": [
      "Récupération des mots-clés...\n",
      "Récupération des autorités...\n",
      "Récupération des mots-clés...\n",
      "Récupération des mots-clés...\n",
      "Récupération des autorités...\n",
      "Récupération des mots-clés...\n"
     ]
    },
    {
     "name": "stderr",
     "output_type": "stream",
     "text": [
      "\n",
      "100%|██████████| 3/3 [00:00<00:00, 2654.62it/s]\n",
      " 40%|████      | 2/5 [00:00<00:00, 19.88it/s]\n",
      "100%|██████████| 3/3 [00:00<00:00, 1886.21it/s]\n",
      "\n",
      "100%|██████████| 3/3 [00:00<00:00, 2537.90it/s]\n",
      " 80%|████████  | 4/5 [00:00<00:00, 19.53it/s]\n",
      "100%|██████████| 3/3 [00:00<00:00, 2672.67it/s]\n",
      "100%|██████████| 5/5 [00:00<00:00, 19.18it/s]\n",
      "  0%|          | 0/2 [00:00<?, ?it/s]\n"
     ]
    },
    {
     "name": "stdout",
     "output_type": "stream",
     "text": [
      "Récupération des mots-clés...\n",
      "Récupération des mots-clés...\n",
      "Récupération des mots-clés...\n",
      "Récupération des mots-clés...\n",
      "Récupération des autorités...\n",
      "Récupération des mots-clés...\n"
     ]
    },
    {
     "name": "stderr",
     "output_type": "stream",
     "text": [
      "100%|██████████| 3/3 [00:00<00:00, 2778.91it/s]\n",
      "\n",
      "100%|██████████| 3/3 [00:00<00:00, 2794.34it/s]\n",
      "100%|██████████| 2/2 [00:00<00:00, 22.76it/s]\n",
      "  0%|          | 0/5 [00:00<?, ?it/s]\n",
      "100%|██████████| 3/3 [00:00<00:00, 2313.89it/s]\n",
      "\n",
      "100%|██████████| 3/3 [00:00<00:00, 2069.22it/s]\n",
      " 40%|████      | 2/5 [00:00<00:00, 17.46it/s]\n",
      "100%|██████████| 3/3 [00:00<00:00, 2361.66it/s]"
     ]
    },
    {
     "name": "stdout",
     "output_type": "stream",
     "text": [
      "Récupération des mots-clés...\n",
      "Récupération des autorités...\n",
      "Récupération des mots-clés...\n",
      "Récupération des mots-clés...\n",
      "Récupération des mots-clés...\n"
     ]
    },
    {
     "name": "stderr",
     "output_type": "stream",
     "text": [
      "\n",
      "\n",
      "100%|██████████| 3/3 [00:00<00:00, 2375.03it/s]\n",
      " 80%|████████  | 4/5 [00:00<00:00, 17.90it/s]\n",
      "100%|██████████| 3/3 [00:00<00:00, 1190.10it/s]\n",
      "100%|██████████| 5/5 [00:00<00:00, 18.07it/s]\n",
      "  0%|          | 0/2 [00:00<?, ?it/s]\n",
      "100%|██████████| 3/3 [00:00<00:00, 2684.07it/s]\n",
      "\n",
      "100%|██████████| 3/3 [00:00<00:00, 2912.04it/s]\n",
      "100%|██████████| 2/2 [00:00<00:00, 22.65it/s]\n",
      "  0%|          | 0/8 [00:00<?, ?it/s]"
     ]
    },
    {
     "name": "stdout",
     "output_type": "stream",
     "text": [
      "Récupération des mots-clés...\n",
      "Récupération des mots-clés...\n",
      "Récupération des autorités...\n",
      "Récupération des mots-clés...\n",
      "Récupération des mots-clés...\n",
      "Récupération des autorités...\n"
     ]
    },
    {
     "name": "stderr",
     "output_type": "stream",
     "text": [
      "\n",
      "100%|██████████| 3/3 [00:00<00:00, 2089.49it/s]\n",
      "\n",
      "100%|██████████| 3/3 [00:00<00:00, 2090.88it/s]\n",
      " 25%|██▌       | 2/8 [00:00<00:00, 16.32it/s]\n",
      "100%|██████████| 3/3 [00:00<00:00, 1352.13it/s]\n",
      "\n",
      "100%|██████████| 3/3 [00:00<00:00, 2185.67it/s]\n",
      " 50%|█████     | 4/8 [00:00<00:00, 16.14it/s]"
     ]
    },
    {
     "name": "stdout",
     "output_type": "stream",
     "text": [
      "Récupération des mots-clés...\n",
      "Récupération des mots-clés...\n",
      "Récupération des mots-clés...\n",
      "Récupération des mots-clés...\n"
     ]
    },
    {
     "name": "stderr",
     "output_type": "stream",
     "text": [
      "\n",
      "100%|██████████| 3/3 [00:00<00:00, 2111.23it/s]\n",
      "\n",
      "100%|██████████| 3/3 [00:00<00:00, 2004.29it/s]\n",
      " 75%|███████▌  | 6/8 [00:00<00:00, 16.16it/s]\n",
      "100%|██████████| 3/3 [00:00<00:00, 1925.46it/s]\n",
      "\n",
      "100%|██████████| 3/3 [00:00<00:00, 2183.40it/s]\n",
      "100%|██████████| 8/8 [00:00<00:00, 15.87it/s]"
     ]
    },
    {
     "name": "stdout",
     "output_type": "stream",
     "text": [
      "Récupération des mots-clés...\n",
      "Récupération des mots-clés...\n",
      "Récupération des mots-clés...\n",
      "Récupération des mots-clés...\n"
     ]
    },
    {
     "name": "stderr",
     "output_type": "stream",
     "text": [
      "\n",
      "  0%|          | 0/17 [00:00<?, ?it/s]\n",
      "100%|██████████| 3/3 [00:00<00:00, 1701.77it/s]\n",
      "\n",
      "100%|██████████| 3/3 [00:00<00:00, 1970.08it/s]\n",
      " 12%|█▏        | 2/17 [00:00<00:01, 13.95it/s]"
     ]
    },
    {
     "name": "stdout",
     "output_type": "stream",
     "text": [
      "Récupération des autorités...\n",
      "Récupération des mots-clés...\n",
      "Récupération des mots-clés...\n"
     ]
    },
    {
     "name": "stderr",
     "output_type": "stream",
     "text": [
      "\n",
      "100%|██████████| 3/3 [00:00<00:00, 1831.31it/s]\n",
      "\n",
      "100%|██████████| 3/3 [00:00<00:00, 1975.03it/s]\n",
      " 24%|██▎       | 4/17 [00:00<00:00, 13.75it/s]\n",
      "100%|██████████| 3/3 [00:00<00:00, 1901.03it/s]"
     ]
    },
    {
     "name": "stdout",
     "output_type": "stream",
     "text": [
      "Récupération des mots-clés...\n",
      "Récupération des mots-clés...\n",
      "Récupération des mots-clés...\n"
     ]
    },
    {
     "name": "stderr",
     "output_type": "stream",
     "text": [
      "\n",
      "\n",
      "100%|██████████| 3/3 [00:00<00:00, 1867.73it/s]\n",
      " 35%|███▌      | 6/17 [00:00<00:00, 13.65it/s]\n",
      "100%|██████████| 3/3 [00:00<00:00, 2025.26it/s]\n",
      "\n",
      "100%|██████████| 3/3 [00:00<00:00, 2084.64it/s]\n",
      " 47%|████▋     | 8/17 [00:00<00:00, 13.54it/s]"
     ]
    },
    {
     "name": "stdout",
     "output_type": "stream",
     "text": [
      "Récupération des mots-clés...\n",
      "Récupération des mots-clés...\n",
      "Récupération des mots-clés...\n"
     ]
    },
    {
     "name": "stderr",
     "output_type": "stream",
     "text": [
      "\n",
      "100%|██████████| 3/3 [00:00<00:00, 1795.25it/s]\n",
      "\n",
      "100%|██████████| 3/3 [00:00<00:00, 1874.97it/s]\n",
      " 59%|█████▉    | 10/17 [00:00<00:00, 13.52it/s]\n",
      "100%|██████████| 3/3 [00:00<00:00, 1913.75it/s]"
     ]
    },
    {
     "name": "stdout",
     "output_type": "stream",
     "text": [
      "Récupération des mots-clés...\n",
      "Récupération des mots-clés...\n",
      "Récupération des mots-clés...\n"
     ]
    },
    {
     "name": "stderr",
     "output_type": "stream",
     "text": [
      "\n",
      "\n",
      "100%|██████████| 3/3 [00:00<00:00, 1682.88it/s]\n",
      " 71%|███████   | 12/17 [00:00<00:00, 13.52it/s]\n",
      "100%|██████████| 3/3 [00:00<00:00, 1941.21it/s]\n",
      "\n",
      "100%|██████████| 3/3 [00:00<00:00, 1752.49it/s]\n",
      " 82%|████████▏ | 14/17 [00:01<00:00, 13.61it/s]"
     ]
    },
    {
     "name": "stdout",
     "output_type": "stream",
     "text": [
      "Récupération des mots-clés...\n",
      "Récupération des mots-clés...\n",
      "Récupération des mots-clés...\n"
     ]
    },
    {
     "name": "stderr",
     "output_type": "stream",
     "text": [
      "\n",
      "100%|██████████| 3/3 [00:00<00:00, 1628.22it/s]\n",
      "\n",
      "100%|██████████| 3/3 [00:00<00:00, 1955.08it/s]\n",
      " 94%|█████████▍| 16/17 [00:01<00:00, 13.41it/s]\n",
      "100%|██████████| 3/3 [00:00<00:00, 2089.49it/s]\n",
      "100%|██████████| 17/17 [00:01<00:00, 13.44it/s]\n",
      "  0%|          | 0/10 [00:00<?, ?it/s]"
     ]
    },
    {
     "name": "stdout",
     "output_type": "stream",
     "text": [
      "Récupération des mots-clés...\n",
      "Récupération des mots-clés...\n",
      "Récupération des mots-clés...\n",
      "Récupération des autorités...\n"
     ]
    },
    {
     "name": "stderr",
     "output_type": "stream",
     "text": [
      "\n",
      "100%|██████████| 3/3 [00:00<00:00, 1692.84it/s]\n",
      "\n",
      "100%|██████████| 3/3 [00:00<00:00, 1943.61it/s]\n",
      " 20%|██        | 2/10 [00:00<00:00, 13.25it/s]\n",
      "100%|██████████| 3/3 [00:00<00:00, 1756.90it/s]"
     ]
    },
    {
     "name": "stdout",
     "output_type": "stream",
     "text": [
      "Récupération des mots-clés...\n",
      "Récupération des mots-clés...\n",
      "Récupération des mots-clés...\n"
     ]
    },
    {
     "name": "stderr",
     "output_type": "stream",
     "text": [
      "\n",
      "\n",
      "100%|██████████| 3/3 [00:00<00:00, 1782.28it/s]\n",
      " 40%|████      | 4/10 [00:00<00:00, 12.77it/s]\n",
      "100%|██████████| 3/3 [00:00<00:00, 1542.21it/s]\n",
      "\n",
      "100%|██████████| 3/3 [00:00<00:00, 1750.30it/s]\n",
      " 60%|██████    | 6/10 [00:00<00:00, 12.87it/s]"
     ]
    },
    {
     "name": "stdout",
     "output_type": "stream",
     "text": [
      "Récupération des mots-clés...\n",
      "Récupération des mots-clés...\n",
      "Récupération des mots-clés...\n"
     ]
    },
    {
     "name": "stderr",
     "output_type": "stream",
     "text": [
      "\n",
      "100%|██████████| 3/3 [00:00<00:00, 1848.80it/s]\n",
      "\n",
      "100%|██████████| 3/3 [00:00<00:00, 1881.42it/s]\n",
      " 80%|████████  | 8/10 [00:00<00:00, 12.94it/s]\n",
      "100%|██████████| 3/3 [00:00<00:00, 1977.82it/s]"
     ]
    },
    {
     "name": "stdout",
     "output_type": "stream",
     "text": [
      "Récupération des mots-clés...\n",
      "Récupération des mots-clés...\n",
      "Récupération des mots-clés...\n"
     ]
    },
    {
     "name": "stderr",
     "output_type": "stream",
     "text": [
      "\n",
      "\n",
      "100%|██████████| 3/3 [00:00<00:00, 1936.73it/s]\n",
      "100%|██████████| 10/10 [00:00<00:00, 12.63it/s]\n",
      "  0%|          | 0/2 [00:00<?, ?it/s]\n",
      "100%|██████████| 3/3 [00:00<00:00, 2328.44it/s]\n",
      "\n",
      "100%|██████████| 3/3 [00:00<00:00, 2350.63it/s]\n",
      "100%|██████████| 2/2 [00:00<00:00, 27.94it/s]\n",
      "  0%|          | 0/2 [00:00<?, ?it/s]\n",
      "100%|██████████| 3/3 [00:00<00:00, 1137.59it/s]\n",
      "\n",
      "100%|██████████| 3/3 [00:00<00:00, 1664.19it/s]\n",
      "100%|██████████| 2/2 [00:00<00:00, 21.89it/s]"
     ]
    },
    {
     "name": "stdout",
     "output_type": "stream",
     "text": [
      "Récupération des mots-clés...\n",
      "Récupération des autorités...\n",
      "Récupération des mots-clés...\n",
      "Récupération des mots-clés...\n",
      "Récupération des autorités...\n",
      "Récupération des mots-clés...\n",
      "Récupération des mots-clés...\n"
     ]
    },
    {
     "name": "stderr",
     "output_type": "stream",
     "text": [
      "\n",
      "  0%|          | 0/2 [00:00<?, ?it/s]\n",
      "100%|██████████| 3/3 [00:00<00:00, 2576.35it/s]\n",
      "\n",
      "100%|██████████| 3/3 [00:00<00:00, 2599.24it/s]\n",
      "100%|██████████| 2/2 [00:00<00:00, 25.82it/s]\n",
      "  0%|          | 0/2 [00:00<?, ?it/s]\n",
      "100%|██████████| 3/3 [00:00<00:00, 2542.00it/s]\n",
      "\n",
      "100%|██████████| 3/3 [00:00<00:00, 1582.56it/s]\n",
      "100%|██████████| 2/2 [00:00<00:00, 24.70it/s]"
     ]
    },
    {
     "name": "stdout",
     "output_type": "stream",
     "text": [
      "Récupération des autorités...\n",
      "Récupération des mots-clés...\n",
      "Récupération des mots-clés...\n",
      "Récupération des autorités...\n",
      "Récupération des mots-clés...\n",
      "Récupération des mots-clés...\n"
     ]
    },
    {
     "name": "stderr",
     "output_type": "stream",
     "text": [
      "\n"
     ]
    }
   ],
   "source": [
    "i = 0 #compteur permettant de numéroter le nom des abstracts sous une forme normalisée\n",
    "year = 2016 #variable permettant de nommer les abstracts sous une forme normalisée.\n",
    "with open('./cache2016/TEI2016.csv', 'w', newline='') as csvfile:\n",
    "    writer = csv.writer(csvfile, delimiter=',')\n",
    "    for abstract in filelist:\n",
    "        with open(Path + abstract, 'r', encoding=\"UTF-8\") as y:\n",
    "            value = y.read()\n",
    "            soup = BeautifulSoup(value, 'xml')\n",
    "            print(\"Récupération des autorités...\")\n",
    "            for contributeur in tqdm(soup.find_all('author')): #Je récupère tous les noeuds \"author\"\n",
    "                for elem in soup.name: #Je vais récupérer ici les éléments de prénom et de nom de chaque auteur\n",
    "                    liste_noms_balise = soup.find_all(['forename', 'surname'])\n",
    "                    noms_a_rassembler = [] #j'instancie une liste dans lequel je vais ranger chaque élément de nom ou de prénom de tous les auteurs d'un seul abstract\n",
    "                    for nom in liste_noms_balise: #ici, je vais normaliser en les transformant en str et en retirant les balises manuellement.\n",
    "                        nom = nettoyage_balises(str(nom))\n",
    "                        noms_a_rassembler.append(nom)\n",
    "                for elem in soup.titleStmt:\n",
    "                    titre = soup.title.contents #grâce à la méthode .contents, je récupère directement une str, sous condition qu'il n'y ait pas de balises imbriquées (comme pour les noms)\n",
    "                    if len(titre) > 1: #permet de récupérer un contenu si l'auteur a rajouté des balises dans le titre, ce qui perd le parseur\n",
    "                        titre = titre[0]\n",
    "                    titre = \"\".join(titre) #permet de nettoyer les espaces parasites, avec les deux lignes suivantes\n",
    "                    titre = titre.split()\n",
    "                    titre = \" \".join(titre)\n",
    "                    titre = [titre]\n",
    "                for elem in soup.publicationStmt: #Ici je récupere directement une str grâce à la méthode .contents.\n",
    "                    organisation = soup.publisher.contents\n",
    "                    orga = organisation[0].split() #Pour éliminer les sauts de lignes, tab et autres espaces gênants, la solution la plus simple fut d'enchaîner un .split et un .join\n",
    "                    orga = ' '.join(orga)\n",
    "                    orga = [orga]\n",
    "                print(\"Récupération des mots-clés...\")\n",
    "                for elem in tqdm(soup.keywords):\n",
    "                    liste_motcles = soup.find_all('term') #je récupère tous les mots clés dans une liste\n",
    "                    retypage_liste = [str(i) for i in liste_motcles] #je transforme le type des éléments de la liste en str chacun\n",
    "                    motcles = str(\" | \".join(retypage_liste)) #je transforme la liste en str\n",
    "                    motcles = motcles.replace(\"<term>\", \"\") #je nettoie la str\n",
    "                    motcles = motcles.replace(\"</term>\", \"\")\n",
    "                    motcles = [motcles] #je passe cette grande str en une liste avec 1 seul élément\n",
    "            abstract = soup(\"body\") #ici, j'enregistre le contenu de l'abstract, et je ne garde que le premier élément, car les autres éléments capturés sont trop compliqués à traiter, et trop peu intéressants.\n",
    "            abstract = abstract[0]\n",
    "            titre_dans_cache = \"paper-{0}-{1}.txt\".format(year, i)\n",
    "            with open('./cache2016/cacheTXT/%s.txt' % titre_dans_cache, 'w', encoding='UTF-8') as docTXT:#stockage des textes en cache\n",
    "                text = nettoyage_balises(str(abstract)) #permet de retirer toutes les balises\n",
    "                list_mots = text.split()#permet, avec la ligne suivante, de supprimer tous les espaces parasites laissés par la suppression des balises\n",
    "                texte = \" \".join(list_mots)\n",
    "                for elem in titre:#c'est important de noter le titre\n",
    "                    docTXT.write(elem)\n",
    "                docTXT.write(\"\\n\")\n",
    "                docTXT.write(texte)\n",
    "            titre_dans_cache = titre_dans_cache.replace(\".txt\", \"\")\n",
    "            noms_rassembles = ' '.join(noms_a_rassembler) #tous les noms saisis plus haut, chacun étant un élément d'une grande liste, sont rassemblés dans une str, qui est ensuite transformée en une liste d'un seul élément\n",
    "            noms = [noms_rassembles]\n",
    "            titre_dans_cache = [titre_dans_cache]\n",
    "            masterList = noms + titre + orga + motcles + titre_dans_cache #j'assemble chacune des listes composées d'un seul élément en une nested liste. Logiquement, cela ressemble à : [[str], [str], [str], [str]]\n",
    "            writer.writerow(masterList)\n",
    "        i += 1\n",
    "        "
   ]
  }
 ],
 "metadata": {
  "kernelspec": {
   "display_name": "Python 3",
   "language": "python",
   "name": "python3"
  },
  "language_info": {
   "codemirror_mode": {
    "name": "ipython",
    "version": 3
   },
   "file_extension": ".py",
   "mimetype": "text/x-python",
   "name": "python",
   "nbconvert_exporter": "python",
   "pygments_lexer": "ipython3",
   "version": "3.6.9"
  }
 },
 "nbformat": 4,
 "nbformat_minor": 4
}

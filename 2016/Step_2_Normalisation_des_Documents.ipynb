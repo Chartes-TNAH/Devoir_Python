{
 "cells": [
  {
   "cell_type": "code",
   "execution_count": 7,
   "metadata": {},
   "outputs": [],
   "source": [
    "import os\n",
    "import csv\n",
    "from lxml import etree\n",
    "from bs4 import BeautifulSoup\n",
    "from tqdm import tqdm"
   ]
  },
  {
   "cell_type": "code",
   "execution_count": 2,
   "metadata": {},
   "outputs": [],
   "source": [
    "Path = \"./cache2016/cacheXML/\"\n",
    "Path_output = \"./cache2016/cacheTXT/\"\n",
    "filelist = os.listdir(Path)\n",
    "if not os.path.exists(\"./cache2016/cacheTXT\"):\n",
    "    os.makedirs(\"./cache2016/cacheTXT\")"
   ]
  },
  {
   "cell_type": "code",
   "execution_count": 18,
   "metadata": {},
   "outputs": [
    {
     "name": "stderr",
     "output_type": "stream",
     "text": [
      "100%|██████████| 2/2 [00:00<00:00, 31.70it/s]\n",
      "  0%|          | 0/14 [00:00<?, ?it/s]"
     ]
    },
    {
     "name": "stdout",
     "output_type": "stream",
     "text": [
      "Récupération des autorités...\n",
      "Récupération des autorités...\n"
     ]
    },
    {
     "name": "stderr",
     "output_type": "stream",
     "text": [
      "100%|██████████| 14/14 [00:00<00:00, 14.61it/s]\n",
      "100%|██████████| 2/2 [00:00<00:00, 32.52it/s]\n",
      "100%|██████████| 2/2 [00:00<00:00, 26.69it/s]\n",
      "  0%|          | 0/2 [00:00<?, ?it/s]"
     ]
    },
    {
     "name": "stdout",
     "output_type": "stream",
     "text": [
      "Récupération des autorités...\n",
      "Récupération des autorités...\n",
      "Récupération des autorités...\n"
     ]
    },
    {
     "name": "stderr",
     "output_type": "stream",
     "text": [
      "100%|██████████| 2/2 [00:00<00:00, 29.68it/s]\n",
      "100%|██████████| 2/2 [00:00<00:00, 27.01it/s]\n",
      "100%|██████████| 2/2 [00:00<00:00, 29.11it/s]\n",
      "  0%|          | 0/12 [00:00<?, ?it/s]"
     ]
    },
    {
     "name": "stdout",
     "output_type": "stream",
     "text": [
      "Récupération des autorités...\n",
      "Récupération des autorités...\n",
      "Récupération des autorités...\n"
     ]
    },
    {
     "name": "stderr",
     "output_type": "stream",
     "text": [
      "100%|██████████| 12/12 [00:00<00:00, 14.52it/s]\n",
      "100%|██████████| 2/2 [00:00<00:00, 27.83it/s]\n",
      "100%|██████████| 2/2 [00:00<00:00, 34.57it/s]\n",
      "  0%|          | 0/2 [00:00<?, ?it/s]"
     ]
    },
    {
     "name": "stdout",
     "output_type": "stream",
     "text": [
      "Récupération des autorités...\n",
      "Récupération des autorités...\n",
      "Récupération des autorités...\n"
     ]
    },
    {
     "name": "stderr",
     "output_type": "stream",
     "text": [
      "100%|██████████| 2/2 [00:00<00:00, 37.85it/s]\n",
      "100%|██████████| 2/2 [00:00<00:00, 33.60it/s]\n",
      "100%|██████████| 2/2 [00:00<00:00, 29.54it/s]\n",
      "  0%|          | 0/2 [00:00<?, ?it/s]"
     ]
    },
    {
     "name": "stdout",
     "output_type": "stream",
     "text": [
      "Récupération des autorités...\n",
      "Récupération des autorités...\n",
      "Récupération des autorités...\n"
     ]
    },
    {
     "name": "stderr",
     "output_type": "stream",
     "text": [
      "100%|██████████| 2/2 [00:00<00:00, 25.41it/s]\n",
      " 33%|███▎      | 3/9 [00:00<00:00, 23.03it/s]"
     ]
    },
    {
     "name": "stdout",
     "output_type": "stream",
     "text": [
      "Récupération des autorités...\n"
     ]
    },
    {
     "name": "stderr",
     "output_type": "stream",
     "text": [
      "100%|██████████| 9/9 [00:00<00:00, 21.79it/s]\n",
      "100%|██████████| 2/2 [00:00<00:00, 24.14it/s]\n",
      "  0%|          | 0/4 [00:00<?, ?it/s]"
     ]
    },
    {
     "name": "stdout",
     "output_type": "stream",
     "text": [
      "Récupération des autorités...\n",
      "Récupération des autorités...\n"
     ]
    },
    {
     "name": "stderr",
     "output_type": "stream",
     "text": [
      "100%|██████████| 4/4 [00:00<00:00, 31.37it/s]\n",
      "100%|██████████| 2/2 [00:00<00:00, 25.70it/s]\n",
      "100%|██████████| 2/2 [00:00<00:00, 25.04it/s]\n",
      "  0%|          | 0/7 [00:00<?, ?it/s]"
     ]
    },
    {
     "name": "stdout",
     "output_type": "stream",
     "text": [
      "Récupération des autorités...\n",
      "Récupération des autorités...\n",
      "Récupération des autorités...\n"
     ]
    },
    {
     "name": "stderr",
     "output_type": "stream",
     "text": [
      "100%|██████████| 7/7 [00:00<00:00, 26.54it/s]\n",
      "100%|██████████| 2/2 [00:00<00:00, 36.28it/s]\n",
      "  0%|          | 0/7 [00:00<?, ?it/s]"
     ]
    },
    {
     "name": "stdout",
     "output_type": "stream",
     "text": [
      "Récupération des autorités...\n",
      "Récupération des autorités...\n"
     ]
    },
    {
     "name": "stderr",
     "output_type": "stream",
     "text": [
      "100%|██████████| 7/7 [00:00<00:00, 19.96it/s]\n",
      " 38%|███▊      | 3/8 [00:00<00:00, 25.98it/s]"
     ]
    },
    {
     "name": "stdout",
     "output_type": "stream",
     "text": [
      "Récupération des autorités...\n"
     ]
    },
    {
     "name": "stderr",
     "output_type": "stream",
     "text": [
      "100%|██████████| 8/8 [00:00<00:00, 24.95it/s]\n",
      "100%|██████████| 2/2 [00:00<00:00, 32.53it/s]\n",
      "  0%|          | 0/7 [00:00<?, ?it/s]"
     ]
    },
    {
     "name": "stdout",
     "output_type": "stream",
     "text": [
      "Récupération des autorités...\n",
      "Récupération des autorités...\n"
     ]
    },
    {
     "name": "stderr",
     "output_type": "stream",
     "text": [
      "100%|██████████| 7/7 [00:00<00:00, 24.56it/s]\n",
      "100%|██████████| 3/3 [00:00<00:00, 28.78it/s]\n",
      "100%|██████████| 2/2 [00:00<00:00, 31.79it/s]\n"
     ]
    },
    {
     "name": "stdout",
     "output_type": "stream",
     "text": [
      "Récupération des autorités...\n",
      "Récupération des autorités...\n"
     ]
    },
    {
     "name": "stderr",
     "output_type": "stream",
     "text": [
      " 12%|█▎        | 2/16 [00:00<00:00, 16.15it/s]"
     ]
    },
    {
     "name": "stdout",
     "output_type": "stream",
     "text": [
      "Récupération des autorités...\n"
     ]
    },
    {
     "name": "stderr",
     "output_type": "stream",
     "text": [
      "100%|██████████| 16/16 [00:00<00:00, 17.01it/s]\n",
      "100%|██████████| 2/2 [00:00<00:00, 36.94it/s]\n",
      " 60%|██████    | 3/5 [00:00<00:00, 28.90it/s]"
     ]
    },
    {
     "name": "stdout",
     "output_type": "stream",
     "text": [
      "Récupération des autorités...\n",
      "Récupération des autorités...\n"
     ]
    },
    {
     "name": "stderr",
     "output_type": "stream",
     "text": [
      "100%|██████████| 5/5 [00:00<00:00, 29.36it/s]\n",
      "100%|██████████| 2/2 [00:00<00:00, 34.29it/s]\n",
      "100%|██████████| 3/3 [00:00<00:00, 30.67it/s]\n",
      "  0%|          | 0/2 [00:00<?, ?it/s]"
     ]
    },
    {
     "name": "stdout",
     "output_type": "stream",
     "text": [
      "Récupération des autorités...\n",
      "Récupération des autorités...\n",
      "Récupération des autorités...\n"
     ]
    },
    {
     "name": "stderr",
     "output_type": "stream",
     "text": [
      "100%|██████████| 2/2 [00:00<00:00, 32.68it/s]\n",
      " 14%|█▍        | 2/14 [00:00<00:00, 19.07it/s]"
     ]
    },
    {
     "name": "stdout",
     "output_type": "stream",
     "text": [
      "Récupération des autorités...\n"
     ]
    },
    {
     "name": "stderr",
     "output_type": "stream",
     "text": [
      "100%|██████████| 14/14 [00:00<00:00, 20.14it/s]\n",
      "100%|██████████| 2/2 [00:00<00:00, 40.96it/s]\n",
      " 17%|█▋        | 2/12 [00:00<00:00, 19.80it/s]"
     ]
    },
    {
     "name": "stdout",
     "output_type": "stream",
     "text": [
      "Récupération des autorités...\n",
      "Récupération des autorités...\n"
     ]
    },
    {
     "name": "stderr",
     "output_type": "stream",
     "text": [
      "100%|██████████| 12/12 [00:00<00:00, 19.20it/s]\n",
      " 38%|███▊      | 3/8 [00:00<00:00, 26.42it/s]"
     ]
    },
    {
     "name": "stdout",
     "output_type": "stream",
     "text": [
      "Récupération des autorités...\n"
     ]
    },
    {
     "name": "stderr",
     "output_type": "stream",
     "text": [
      "100%|██████████| 8/8 [00:00<00:00, 27.13it/s]\n",
      "100%|██████████| 2/2 [00:00<00:00, 29.22it/s]\n",
      "100%|██████████| 2/2 [00:00<00:00, 36.59it/s]\n",
      "  0%|          | 0/2 [00:00<?, ?it/s]"
     ]
    },
    {
     "name": "stdout",
     "output_type": "stream",
     "text": [
      "Récupération des autorités...\n",
      "Récupération des autorités...\n",
      "Récupération des autorités...\n"
     ]
    },
    {
     "name": "stderr",
     "output_type": "stream",
     "text": [
      "100%|██████████| 2/2 [00:00<00:00, 33.29it/s]\n",
      " 20%|██        | 2/10 [00:00<00:00, 18.19it/s]"
     ]
    },
    {
     "name": "stdout",
     "output_type": "stream",
     "text": [
      "Récupération des autorités...\n"
     ]
    },
    {
     "name": "stderr",
     "output_type": "stream",
     "text": [
      "100%|██████████| 10/10 [00:00<00:00, 18.21it/s]\n",
      "100%|██████████| 2/2 [00:00<00:00, 39.96it/s]\n",
      "100%|██████████| 2/2 [00:00<00:00, 39.29it/s]\n",
      "100%|██████████| 2/2 [00:00<00:00, 31.87it/s]\n",
      "  0%|          | 0/2 [00:00<?, ?it/s]"
     ]
    },
    {
     "name": "stdout",
     "output_type": "stream",
     "text": [
      "Récupération des autorités...\n",
      "Récupération des autorités...\n",
      "Récupération des autorités...\n",
      "Récupération des autorités...\n"
     ]
    },
    {
     "name": "stderr",
     "output_type": "stream",
     "text": [
      "100%|██████████| 2/2 [00:00<00:00, 33.36it/s]\n",
      "100%|██████████| 2/2 [00:00<00:00, 40.39it/s]\n",
      "100%|██████████| 2/2 [00:00<00:00, 37.35it/s]\n",
      "100%|██████████| 2/2 [00:00<00:00, 38.78it/s]\n",
      "  0%|          | 0/2 [00:00<?, ?it/s]"
     ]
    },
    {
     "name": "stdout",
     "output_type": "stream",
     "text": [
      "Récupération des autorités...\n",
      "Récupération des autorités...\n",
      "Récupération des autorités...\n",
      "Récupération des autorités...\n"
     ]
    },
    {
     "name": "stderr",
     "output_type": "stream",
     "text": [
      "100%|██████████| 2/2 [00:00<00:00, 33.11it/s]\n",
      "100%|██████████| 2/2 [00:00<00:00, 32.15it/s]\n",
      "  0%|          | 0/5 [00:00<?, ?it/s]"
     ]
    },
    {
     "name": "stdout",
     "output_type": "stream",
     "text": [
      "Récupération des autorités...\n",
      "Récupération des autorités...\n"
     ]
    },
    {
     "name": "stderr",
     "output_type": "stream",
     "text": [
      "100%|██████████| 5/5 [00:00<00:00, 30.36it/s]\n",
      "100%|██████████| 2/2 [00:00<00:00, 41.62it/s]\n",
      " 60%|██████    | 3/5 [00:00<00:00, 29.19it/s]"
     ]
    },
    {
     "name": "stdout",
     "output_type": "stream",
     "text": [
      "Récupération des autorités...\n",
      "Récupération des autorités...\n"
     ]
    },
    {
     "name": "stderr",
     "output_type": "stream",
     "text": [
      "100%|██████████| 5/5 [00:00<00:00, 28.60it/s]\n",
      "100%|██████████| 2/2 [00:00<00:00, 32.94it/s]\n",
      " 60%|██████    | 3/5 [00:00<00:00, 25.69it/s]"
     ]
    },
    {
     "name": "stdout",
     "output_type": "stream",
     "text": [
      "Récupération des autorités...\n",
      "Récupération des autorités...\n"
     ]
    },
    {
     "name": "stderr",
     "output_type": "stream",
     "text": [
      "100%|██████████| 5/5 [00:00<00:00, 25.31it/s]\n",
      "100%|██████████| 2/2 [00:00<00:00, 37.55it/s]\n",
      "  0%|          | 0/8 [00:00<?, ?it/s]"
     ]
    },
    {
     "name": "stdout",
     "output_type": "stream",
     "text": [
      "Récupération des autorités...\n",
      "Récupération des autorités...\n"
     ]
    },
    {
     "name": "stderr",
     "output_type": "stream",
     "text": [
      "100%|██████████| 8/8 [00:00<00:00, 21.22it/s]\n",
      " 12%|█▏        | 2/17 [00:00<00:00, 17.97it/s]"
     ]
    },
    {
     "name": "stdout",
     "output_type": "stream",
     "text": [
      "Récupération des autorités...\n"
     ]
    },
    {
     "name": "stderr",
     "output_type": "stream",
     "text": [
      "100%|██████████| 17/17 [00:00<00:00, 17.97it/s]\n",
      " 20%|██        | 2/10 [00:00<00:00, 17.61it/s]"
     ]
    },
    {
     "name": "stdout",
     "output_type": "stream",
     "text": [
      "Récupération des autorités...\n"
     ]
    },
    {
     "name": "stderr",
     "output_type": "stream",
     "text": [
      "100%|██████████| 10/10 [00:00<00:00, 17.59it/s]\n",
      "100%|██████████| 2/2 [00:00<00:00, 39.34it/s]\n",
      "100%|██████████| 2/2 [00:00<00:00, 32.30it/s]\n",
      "100%|██████████| 2/2 [00:00<00:00, 37.86it/s]\n"
     ]
    },
    {
     "name": "stdout",
     "output_type": "stream",
     "text": [
      "Récupération des autorités...\n",
      "Récupération des autorités...\n",
      "Récupération des autorités...\n",
      "Récupération des autorités...\n"
     ]
    },
    {
     "name": "stderr",
     "output_type": "stream",
     "text": [
      "100%|██████████| 2/2 [00:00<00:00, 30.21it/s]\n"
     ]
    }
   ],
   "source": [
    "with open('./cache2016/TEI2016.csv', 'w', newline='') as csvfile:\n",
    "    writer = csv.writer(csvfile, delimiter=',')\n",
    "    i = 0\n",
    "    for abstract in filelist:\n",
    "        with open(Path + abstract, 'r', encoding=\"UTF-8\") as y:\n",
    "            value = y.read()\n",
    "            soup = BeautifulSoup(value, 'xml')\n",
    "            print(\"Récupération des autorités...\")\n",
    "            for contributeur in tqdm(soup.find_all('author')): #Je récupère tous les noeuds \"author\"\n",
    "                for elem in soup.name: #Je vais récupérer ici les éléments de prénom et de nom de chaque auteur\n",
    "                    liste_noms_balise = soup.find_all(['forename', 'surname'])\n",
    "                    noms_a_rassembler = [] #j'instancie une liste dans lequel je vais ranger chaque élément de nom ou de prénom de tous les auteurs d'un seul abstract\n",
    "                    for nom in liste_noms_balise: #ici, je vais normaliser en les transformant en str et en retirant les balises manuellement.\n",
    "                        nom = str(nom)\n",
    "                        nom = nom.replace(\"<forename>\", \"\")\n",
    "                        nom = nom.replace('<forename full=\"yes\">', \"\")\n",
    "                        nom = nom.replace(\"</forename>\", \"\")\n",
    "                        nom = nom.replace(\"</surname>\", \"\")\n",
    "                        nom = nom.replace(\"<surname>\", \"\")\n",
    "                        nom = nom.replace('<surname full=\"yes\">', \"\")\n",
    "                        nom = nom.replace('<surname  full=\"init\">', \"\")\n",
    "                        nom = nom.replace('<forename full=\"init\">', \"\")\n",
    "                        nom = nom.replace('<forename full=\"abb\">', \"\")\n",
    "                        noms_a_rassembler.append(nom)\n",
    "                for elem in soup.titleStmt:\n",
    "                    titre = soup.title.contents #grâce à la méthode .contents, je récupère directement une str, sous condition qu'il n'y ait pas de balises imbriquées (comme pour les noms)\n",
    "                    if len(titre) > 1:\n",
    "                        titre = titre[0]\n",
    "                        titre = [titre]\n",
    "            abstract = soup(\"body\") #ici, j'enregistre le contenu de l'abstract, et je ne garde que le premier élément, car les autres éléments capturés sont trop compliqués à traiter, et trop peu intéressants.\n",
    "            abstract = abstract[0]\n",
    "            titre_dans_cache = titre[0] #je nomme les abstracts d'après leur titre, cela est utile dans l'étape 2.\n",
    "            titre_dans_cache = str(titre_dans_cache)\n",
    "            titre_dans_cache = titre_dans_cache.replace(\" \", \"_\") #je supprime les espaces dans les noms de fichier, car ça gêne Python\n",
    "            titre_dans_cache = titre_dans_cache.replace(\"/\", \"_\")\n",
    "            titre_dans_cache = titre_dans_cache.replace(\"<\", \"_\")\n",
    "            titre_dans_cache = titre_dans_cache.replace(\">\", \"_\")\n",
    "            with open('./cache2016/cacheXML/%s.xml' % titre_dans_cache, 'w', encoding='UTF-8') as docXML:\n",
    "                docXML.write(str(abstract))\n",
    "            titre_dans_cache = titre_dans_cache + \".xml\"\n",
    "            noms_rassembles = ' '.join(noms_a_rassembler) #tous les noms saisis plus haut, chacun étant un élément d'une grande liste, sont rassemblés dans une str, qui est ensuite transformée en une liste d'un seul élément\n",
    "            noms = [noms_rassembles]\n",
    "            masterList = noms + titre #j'assemble chacune des listes composées d'un seul élément en une nested liste. Logiquement, cela ressemble à : [[str], [str], [str], [str]]\n",
    "            writer.writerow(masterList)\n",
    "            i += 1 #ceci est le compteur permettant de trouver les clés du dictionnaire, où la valeur est l'abstract en XML\n"
   ]
  },
  {
   "cell_type": "code",
   "execution_count": null,
   "metadata": {},
   "outputs": [],
   "source": [
    "\n",
    "                for elem in soup.publisher: #Ici je récupere directement une str grâce à la méthode .contents.\n",
    "                    organisation = soup.orgName.contents\n",
    "                    orga = organisation[0].split() #Pour éliminer les sauts de lignes, tab et autres espaces gênants, la solution la plus simple fut d'enchaîner un .split et un .join\n",
    "                    orga = ' '.join(orga)\n",
    "                    orga = [orga]\n",
    "                    \n",
    "            print(\"Récupération des mots-clés...\")\n",
    "            for elem in tqdm(soup.keywords):\n",
    "                liste_motcles = soup.find_all('term') #je récupère tous les mots clés dans une liste\n",
    "                retypage_liste = [str(i) for i in liste_motcles] #je transforme le type des éléments de la liste en str chacun\n",
    "                motcles = str(\" | \".join(retypage_liste)) #je transforme la liste en str\n",
    "                motcles = motcles.replace(\"<term>\", \"\") #je nettoie la str\n",
    "                motcles = motcles.replace(\"</term>\", \"\")\n",
    "                motcles = [motcles] #je passe cette grande str en une liste avec 1 seul élément"
   ]
  }
 ],
 "metadata": {
  "kernelspec": {
   "display_name": "Python 3",
   "language": "python",
   "name": "python3"
  },
  "language_info": {
   "codemirror_mode": {
    "name": "ipython",
    "version": 3
   },
   "file_extension": ".py",
   "mimetype": "text/x-python",
   "name": "python",
   "nbconvert_exporter": "python",
   "pygments_lexer": "ipython3",
   "version": "3.6.9"
  }
 },
 "nbformat": 4,
 "nbformat_minor": 4
}

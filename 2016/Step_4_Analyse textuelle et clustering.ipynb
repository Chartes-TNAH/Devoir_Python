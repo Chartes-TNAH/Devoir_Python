{
 "cells": [
  {
   "cell_type": "markdown",
   "metadata": {},
   "source": [
    "# TEI Conference 2036 #\n",
    "\n",
    "## Etape 4 : Classification non supervisée ##\n",
    "\n",
    "### Préambule ###\n",
    "\n",
    "Nous allons faire ici de la classification non supervisée grâce au package SKLearn, librairie dédiée au Machine Learning.\n",
    "\n",
    "L'objectif est de soumettre librement le corpus à l'ordinateur et de le laisser créer des clusters, c'est à dire des regroupements de textes. Pour cela, l'ordinateur va vectoriser chaque terme de chaque abstract du corpus, permettant d'attribuer à chaque mot une valeur unique pondérée. Grâce à ces calculs, nous obtenons une représentation des textes dans l'espace, que l'ordinateur peut ensuite réunir en calculant la proximité de chacun des vecteurs / textes depuis certains points (les centroids) disposés aléatoirement. La répétition de cette expérience aléatoire permet de définir une classification supposée objective.\n",
    "\n",
    "Pour la vectorisation, nous utilisons la méthode TF-IDF de SKLearn. La TF-IDF (Term Frequency-Inverse Document Frequency) est une méthode de calcul de la valeur attribuée à chaque mot qui se différencie d'abord de la fréquence brut (compte du nombre d'occurence) et de la fréquence relative (compte du nombre d'occurence divisé par le nombre de mots du texte) **en divisant la fréquence d'un mot par le nombre de corpus où ce mot est présent**.\n",
    "Cette méthode a l'avantage de pouvoir résoudre un problème dans la fouille de texte : il a été effectivement remarqué qu'un terme fréquent dans un texte est généralement fréquent également dans les autres documents du corpus. Ainsi, **la TF-IDF permet de relever des termes qui sont fréquents distinctement dans un texte au regard des autres textes du corpus**, et non plus simplement des termes fréquents dans un texte. Nous pouvons alors distinguer un texte des autres, et rassembler des textes ensemble.\n",
    "\n",
    "La classification que nous obtiendrons nous permettra de comparer avec le plan déterminé par le programme de la conférence TEI 2016, par exemple.\n",
    "\n",
    "### Les packages ### \n"
   ]
  },
  {
   "cell_type": "markdown",
   "metadata": {},
   "source": [
    "Il faut lancer la cellule ci-dessous pour importer les packages dédiés.\n",
    "\n",
    "La librairie SKLearn permet, grâce à la TF-IDF, de vectoriser les textes, c'est à dire d'attribuer à chaque mot un vecteur unique le caractérisant dans l'espaces. KMeans permet en outre de définir des clusters.\n",
    "\n",
    "La librairie spaCy permet de lemmatiser, tandis que la librairie PorterStemmer de NLTK permet de stemmer.\n",
    "\n",
    "Les librairies Pandas, Numpy et Scipy permettent de traiter la donnée et de produire des tableaux à partir des textes vectorisés."
   ]
  },
  {
   "cell_type": "code",
   "execution_count": 1,
   "metadata": {},
   "outputs": [],
   "source": [
    "import os\n",
    "import csv\n",
    "import sys\n",
    "\n",
    "# Vectorisation\n",
    "import sklearn\n",
    "from sklearn.feature_extraction.text import CountVectorizer, TfidfTransformer\n",
    "from sklearn.cluster import KMeans\n",
    "from sklearn.feature_extraction.text import TfidfVectorizer\n",
    "\n",
    "\n",
    "#Pour la représentation des clusters dans la partie graphique\n",
    "import pandas as pd\n",
    "import numpy as np\n",
    "import scipy as sp\n",
    "\n",
    "#Pour une ébauche de topic modeling à partir de NMF\n",
    "from sklearn.decomposition import NMF\n",
    "from sklearn.preprocessing import normalize"
   ]
  },
  {
   "cell_type": "markdown",
   "metadata": {},
   "source": [
    "### Choisir son corpus de travail ###\n",
    "\n",
    "Ensuite, il faut choisir quel set sera loadé et analysé entre les abstracts lemmatisés et les abstracts loadés. Le résultat change entre les deux versions. Pour un premier essai, il est premier de travailler avec la version lemmatisée."
   ]
  },
  {
   "cell_type": "code",
   "execution_count": 2,
   "metadata": {},
   "outputs": [],
   "source": [
    "#Pour utiliser les textes stemmés, c'est ici\n",
    "\n",
    "documents = []\n",
    "Path = \"./cache2016/cacheSTEM/\"\n",
    "filelist = os.listdir(Path) #filelist est une liste regroupant tous les chemins vers les différents abstracts.\n",
    "\n",
    "for abstract in filelist:\n",
    "    with open(Path + abstract, \"r\", encoding=\"UTF-8\") as y:\n",
    "        texte = y.read()\n",
    "        documents.append(texte)"
   ]
  },
  {
   "cell_type": "code",
   "execution_count": 3,
   "metadata": {},
   "outputs": [],
   "source": [
    "#Pour utiliser les textes lemmatisés, c'est ici\n",
    "\n",
    "documents = []\n",
    "Path = \"./cache2016/cacheLEM/\"\n",
    "filelist = os.listdir(Path) #filelist est une liste regroupant tous les chemins vers les différents abstracts.\n",
    "\n",
    "for abstract in filelist:\n",
    "    with open(Path + abstract, \"r\", encoding=\"UTF-8\") as y:\n",
    "        texte = y.read()\n",
    "        documents.append(texte)"
   ]
  },
  {
   "cell_type": "markdown",
   "metadata": {},
   "source": [
    "\n",
    "\n",
    "\n",
    "\n",
    "## Définir les clusters ##\n",
    "\n",
    "Après avoir tokennisé et lemmatisé/stemmé nos abstracts, nous allons maintenant les vectoriser (représenter chaque mot sous la forme d'un vecteur sur un plan ordonné en deux dimensions) puis ensuite nous allons laisser la machine définir des clusters, c'est à dire des groupes de mots qui ont un sens commun.\n",
    "\n",
    "Ici, on associe à chaque mot de tous les abstracts une coordonnée unique à chaque mot utilisé, pour ensuite pouvoir les placer sur un plan en 2D et ainsi relever des ressemblances."
   ]
  },
  {
   "cell_type": "code",
   "execution_count": 4,
   "metadata": {},
   "outputs": [],
   "source": [
    "#vectorise le texte, c'est à dire transforme chaque terme du texte en vecteur\n",
    "vectorizer = TfidfVectorizer(stop_words='english')\n",
    "X = vectorizer.fit_transform(documents)"
   ]
  },
  {
   "cell_type": "markdown",
   "metadata": {},
   "source": [
    "Ensuite, on réunit les termes vectorisés en cluster, c'est à dire en groupe de ressemblance."
   ]
  },
  {
   "cell_type": "code",
   "execution_count": 5,
   "metadata": {},
   "outputs": [
    {
     "data": {
      "text/plain": [
       "KMeans(algorithm='auto', copy_x=True, init='k-means++', max_iter=100,\n",
       "       n_clusters=8, n_init=1, n_jobs=None, precompute_distances='auto',\n",
       "       random_state=None, tol=0.0001, verbose=0)"
      ]
     },
     "execution_count": 5,
     "metadata": {},
     "output_type": "execute_result"
    }
   ],
   "source": [
    "#clusterise les documents, ici 8 clusters\n",
    "true_k = 8\n",
    "model = KMeans(n_clusters=true_k, init='k-means++', max_iter=100, n_init=1)\n",
    "model.fit(X)"
   ]
  },
  {
   "cell_type": "markdown",
   "metadata": {},
   "source": [
    "Enfin, on montre les termes que l'ordinateur a pu rassembler ensemble."
   ]
  },
  {
   "cell_type": "code",
   "execution_count": 6,
   "metadata": {
    "scrolled": true
   },
   "outputs": [
    {
     "name": "stdout",
     "output_type": "stream",
     "text": [
      "Top terms per cluster:\n",
      "Cluster 0:\n",
      " pron\n",
      " tei\n",
      " text\n",
      " metadata\n",
      " literary\n",
      " use\n",
      " work\n",
      " sense\n",
      " repository\n",
      " manuscript\n",
      "Cluster 1:\n",
      " pron\n",
      " tei\n",
      " tool\n",
      " mozart\n",
      " text\n",
      " acdh\n",
      " use\n",
      " xml\n",
      " license\n",
      " project\n",
      "Cluster 2:\n",
      " pron\n",
      " existdb\n",
      " application\n",
      " tei\n",
      " wikipedias\n",
      " database\n",
      " crowd\n",
      " project\n",
      " xml\n",
      " source\n",
      "Cluster 3:\n",
      " code\n",
      " pron\n",
      " pm\n",
      " single\n",
      " chicken\n",
      " tei\n",
      " requirement\n",
      " scholarship\n",
      " interpretation\n",
      " thing\n",
      "Cluster 4:\n",
      " dialect\n",
      " database\n",
      " tei\n",
      " pron\n",
      " datum\n",
      " entry\n",
      " dictionary\n",
      " bread\n",
      " lexical\n",
      " uk\n",
      "Cluster 5:\n",
      " annotation\n",
      " iso\n",
      " tei\n",
      " pron\n",
      " standoff\n",
      " github\n",
      " serialization\n",
      " component\n",
      " metadata\n",
      " new\n",
      "Cluster 6:\n",
      " edition\n",
      " digital\n",
      " textgrid\n",
      " blog\n",
      " support\n",
      " library\n",
      " catalogue\n",
      " readux\n",
      " web\n",
      " tei\n",
      "Cluster 7:\n",
      " text\n",
      " pron\n",
      " tag\n",
      " encode\n",
      " image\n",
      " step\n",
      " transcriptor\n",
      " complex\n",
      " method\n",
      " tei\n"
     ]
    }
   ],
   "source": [
    "#montre le top 10 des mot-clés les plus représentatifs de chaque cluster\n",
    "print(\"Top terms per cluster:\")\n",
    "order_centroids = model.cluster_centers_.argsort()[:, ::-1]\n",
    "terms = vectorizer.get_feature_names()\n",
    "for i in range(true_k):\n",
    "    print(\"Cluster %d:\" % i)\n",
    "    for ind in order_centroids[i, :10]:\n",
    "        print(' %s' % terms[ind])\n",
    "        \n",
    "\n",
    "        \n"
   ]
  },
  {
   "cell_type": "markdown",
   "metadata": {},
   "source": [
    "## Cluster de documents ##\n",
    "\n",
    "Grâce à un système de prédiction découlant de l'apprentissage et de l'entraînement sur les termes des abstracts, nous pouvons classifier les abstracts en 8 catégories. Nous pourrons ensuite les comparer avec le classement déjà fait par les organisateurs de la conférence TEI 2019."
   ]
  },
  {
   "cell_type": "code",
   "execution_count": 7,
   "metadata": {},
   "outputs": [
    {
     "name": "stdout",
     "output_type": "stream",
     "text": [
      "Dans le groupe 1, il y a :\n",
      "\t CETEIcean, a JavaScript library for isomorphic TEI to HTML transformation\n",
      "\t Automating the validation of TEI metadata processing\n",
      "\t Towards a Repository of Senses for Use in TEI encoded Dictionaries\n",
      "\t The Authoritative Bibliography for the Chymistry of Isaac Newton\n",
      "\t Islamic Manuscripts in Cambridge Digital Library & the German-French virtual library project Paleocoran\n",
      "\t Móricz Digital Edition — Possibilities and connections of a correspondence material\n",
      "\t Writing under the Magnifying Glass. Encoding the Text in Progress\n",
      "\t Andreas Okopenko: diaries from the poet’s estate (hybrid edition)\n",
      "\t Encoding crime and punishment: A digital collection of historic broadsheets\n",
      "\t Bibliography in the Inscriptions of Israel / Palestine Epigraphic Project\n",
      "\t Purifying and Simplifying: Advanced TEI Customization\n",
      "\t Encoding Text about Things\n",
      "\t TEI markup for the 90-volume edition of Leo Tolstoy’s complete works\n",
      "\t Does this shoe fit? Applying the TEI guidelines to Sanskrit philosophical texts\n",
      "\t From DOCX via TEI to Literature Map\n",
      "\t TEI in the Archives: Unfolding the Bookshops in Paul’s Cross Churchyard\n",
      "\t msDesc\n",
      "\t Modeling a Body of Literature in TEI: Bibliotheca Hagiographica Syriaca Electronica\n",
      "\n",
      " Dans le groupe 2, il y a :\n",
      "\t Wienerisches Diarium Digital: Unlocking a historic newspaper for interdisciplinary studies with the TEI Guidelines\n",
      "\t ACDH Tool Gallery 2.2: TEI Basics – A gentle introduction to Text Encoding\n",
      "\t Converting and Representing Social Media Corpora into TEI: Schema and best practices from CLARIN-D\n",
      "\t Applying Standard Formats and Tools:\n",
      "\t Biography as compilation: How to edit Georg Nikolaus Nissen’s\n",
      "\t TEI2German Translatathon\n",
      "\t T³ – Typesetting TEI Using TeX. A Plea for High-quality Typesetting in the Humanities\n",
      "\t Documenting Transmission: The Analysis of the Folk Process using Versioning Machine 5.0\n",
      "\t TEI document and schema visualization and modeling using mindmaps\n",
      "\t Common Creativity international. CC-licensing and other options for TEI-based digital editions in an international context\n",
      "\n",
      " Dans le groupe 3, il y a :\n",
      "\t TEI Processing Model Toolbox\n",
      "\t Database of Belarusian Periodicals\n",
      "\t Wiki2TEI: Wikipedias as sources for language research\n",
      "\t Building a collaborative editorial workbench for legal texts with complex structures\n",
      "\t eXistdb: more than a database\n",
      "\t TEIScribe: A graphic tool for composing and testing TEI documents in the context of the EVI-LINHD environment\n",
      "\t Capturing the crowd-sourcing process: storing different stages of crowd-sourced transcriptions in TEI\n",
      "\t Upconversion and Migration: Generating a TEI-EpiDoc Corpus of Sicilian Inscriptions\n",
      "\n",
      " Dans le groupe 4, il y a :\n",
      "\t Freeing our Texts from their (Digital Tool) chains\n",
      "\t Bringing TEI PM to Foggy Bottom\n",
      "\t Creating a maintainable cataloging workflow and infrastructure using TEI\n",
      "\t Encoding Text as a Nexus of Perspective Hierarchies: Case Studies in XML, LMNL, and RDF\n",
      "\n",
      " Dans le groupe 5, il y a :\n",
      "\t EuRED: XML-TEI in database structure\n",
      "\t Encoding a Dictionary of Russian Dialects in TEI and linking to LOD Resources\n",
      "\t TEI and lemon: a comparative study on the lexical encoding and interoperability\n",
      "\t Exploring data models for heterogenous dialect data: the case of explore.bread.AT!\n",
      "\t The BVH in Tours and the\n",
      "\n",
      " Dans le groupe 6, il y a :\n",
      "\t Early Print: annotation module for TEI\n",
      "\t We are TEI. You will be assimilated!\n",
      "\t Wake up, standOff!\n",
      "\t Lexical information in the TEI: modeling and markup\n",
      "\n",
      " Dans le groupe 7, il y a :\n",
      "\t Cantus Network — a semantically enriched digital edition of libri ordinarii of the Salzburg metropolitan province\n",
      "\t Support for TEI editions in academic libraries. An upcoming study of the Library Publishing Coalition\n",
      "\t Around the world in a TextGrid day. Edit, manage, publish, and explore your TEI data with TextGrid and DARIAH-DE\n",
      "\t The Digital Editions Catalogue App: A web application to browse, curate and analyze digital editions\n",
      "\t HowTo create your own digital edition web app — A blog\n",
      "\t Creating Digital Critical Editions with Readux\n",
      "\n",
      " Dans le groupe 8, il y a :\n",
      "\t Tagging on Buddhist Images via IIIF and TEI encoding\n",
      "\t STEP Transcriptor and STEP Text Comparator\n",
      "\t Shakespeare's N-grams at 400: Comparing Content Themes With Four Contemporaries\n",
      "\t STEP Transcriptor: a comprehensive TEI-XML compliant transcription app\n",
      "\t Hyperdonat, digital edition project\n",
      "\t The Elwood Markup & Text Analyzer (TEMTA)\n",
      "\t Tomayto, tomahto? Encoding variant taxonomies in TEI\n",
      "\t Early Modern Slovenian Manuscripts Between Description, Critical Edition and Lexicon\n"
     ]
    }
   ],
   "source": [
    "Path = \"./cache2016/cacheLEM/\" #On peut remplacer le cache STEM par LEM à la place, pour ainsi comparer les deux sorties.\n",
    "filelist = os.listdir(Path) #filelist est une liste regroupant tous les chemins vers les différents abstracts.\n",
    "liste_triee = [] #c'est la liste contenant les infos triées de tous les abstracts\n",
    "\n",
    "\n",
    "for abstract in filelist:\n",
    "    reference = abstract.replace('.txt', '') #je normalise le nom du texte pour le faire correpondre avec celui indiqué dans le tableau csv réunissant toutes les informations\n",
    "    with open(Path + abstract, \"r\", encoding=\"UTF-8\") as y:\n",
    "        liste_resultat_unitaire = [] #j'instancie la liste des infos propres à chaque abstract\n",
    "        texte = y.read()\n",
    "        X = vectorizer.transform([texte]) #je vectorise le texte de l'abstract\n",
    "        predicted = model.predict(X)  #j'attribue l'abstract à un cluster. predicted est de la classe numpy array : c'est un vecteur\n",
    "        with open('./cache2016/TEI2016.csv', 'r') as csvfile:\n",
    "            read = csv.reader(csvfile, delimiter = ',')\n",
    "            titre = ''\n",
    "            auteurs = ''\n",
    "            for row in read:\n",
    "                if row[4] == reference:\n",
    "                    titre = row[1]\n",
    "                    auteurs = row[0]\n",
    "        liste_resultat_unitaire.append(titre)\n",
    "        liste_resultat_unitaire.append(auteurs)\n",
    "        liste_resultat_unitaire.append(int(predicted))\n",
    "        liste_triee.append(liste_resultat_unitaire)\n",
    "        \n",
    "list_grp1 = []\n",
    "list_grp2 = []\n",
    "list_grp3 = []\n",
    "list_grp4 = []\n",
    "list_grp5 = []\n",
    "list_grp6 = []\n",
    "list_grp7 = []\n",
    "list_grp8 = []\n",
    "\n",
    "print(\"Dans le groupe 1, il y a :\")\n",
    "for elem in liste_triee:\n",
    "    if elem[2] == 0:\n",
    "        list_grp1.append(elem[0]) \n",
    "        print(\"\\t\", elem[0] )\n",
    "        \n",
    "print(\"\\n Dans le groupe 2, il y a :\")\n",
    "for elem in liste_triee:\n",
    "    if elem[2] == 1:\n",
    "        list_grp2.append(elem[0])\n",
    "        print(\"\\t\", elem[0] )\n",
    "        \n",
    "print(\"\\n Dans le groupe 3, il y a :\")\n",
    "for elem in liste_triee:\n",
    "    if elem[2] == 2:\n",
    "        list_grp3.append(elem[0])\n",
    "        print(\"\\t\", elem[0] )\n",
    "\n",
    "print(\"\\n Dans le groupe 4, il y a :\")\n",
    "for elem in liste_triee:\n",
    "    if elem[2] == 3:\n",
    "        list_grp4.append(elem[0])\n",
    "        print(\"\\t\", elem[0] )\n",
    "\n",
    "print(\"\\n Dans le groupe 5, il y a :\")\n",
    "for elem in liste_triee:\n",
    "    if elem[2] == 4:\n",
    "        list_grp5.append(elem[0])\n",
    "        print(\"\\t\", elem[0] )\n",
    "        \n",
    "print(\"\\n Dans le groupe 6, il y a :\")\n",
    "for elem in liste_triee:\n",
    "    if elem[2] == 5:\n",
    "        list_grp6.append(elem[0])\n",
    "        print(\"\\t\", elem[0] )\n",
    "        \n",
    "print(\"\\n Dans le groupe 7, il y a :\")\n",
    "for elem in liste_triee:\n",
    "    if elem[2] == 6:\n",
    "        list_grp7.append(elem[0])\n",
    "        print(\"\\t\", elem[0] )\n",
    "        \n",
    "print(\"\\n Dans le groupe 8, il y a :\")\n",
    "for elem in liste_triee:\n",
    "    if elem[2] == 7:\n",
    "        list_grp8.append(elem[0])\n",
    "        print(\"\\t\", elem[0] )\n"
   ]
  },
  {
   "cell_type": "markdown",
   "metadata": {},
   "source": [
    "Voici le plan et l'agencement des conférences tel qu'il est indiqué ici : http://tei2016.acdh.oeaw.ac.at/sites/default/files/TEI%20Session%20Overview%202016_A0.pdf\n",
    "\n",
    "Tools :\n",
    "- TEIScribe: A graphic tool for composing and testing TEI documents in the context of the EVI-LINHD environment\n",
    "- Building a collaborative editorial workbench for legal texts with complex structures\n",
    "- Automating the validation of TEI metadata processing\n",
    "- Common Creativity international. CC-licensing and other options for TEI-based digital editions in an international context\n",
    "- T³ – Typesetting TEI Using TeX. A Plea for High-quality Typesetting in the Humanities\n",
    "- TEI Processing Model Toolbox\n",
    "\n",
    "Techniques :\n",
    "- Applying Standard Formats and Tools\n",
    "- Capturing the crowd-sourcing process: storing different stages of crowd-sourced transcriptions in TEI\n",
    "- Wiki2TEI: Wikipedias as sources for language research\n",
    "- Islamic Manuscripts in Cambridge Digital Library & the German-French virtual library project Paleocoran\n",
    "- msDesc at Oxford and Cambridge\n",
    "- Creating a maintainable cataloging workflow and infrastructure using TEI\n",
    "    \n",
    "Tools demonstration session :\n",
    "- CETEIcean, a JavaScript library for isomorphic TEI to HTML transformation\n",
    "- The Elwood Markup & Text Analyzer (TEMTA)\n",
    "- Early Print: annotation module for TEI\n",
    "- STEP Transcriptor: a comprehensive TEI-XML compliant transcription app\n",
    "\n",
    "Methods :\n",
    "- TEI and lemon: a comparative study on the lexical encoding and interoperability\n",
    "- Exploring data models for heterogenous dialect data: the case of explore.bread.AT!\n",
    "- Encoding a Dictionary of Russian Dialects in TEI and linking to LOD Resources\n",
    "- Writing under the Magnifying Glass. Encoding the Text in Progress\n",
    "- Tomayto, tomahto? Encoding variant taxonomies in TEI\n",
    "- Documenting Transmission: The Analysis of the Folk Process using Versioning Machine 5.0\n",
    "\n",
    "Means :\n",
    "- Wake up, standOff!\n",
    "- TEI document and schema visualization and modeling using mindmaps\n",
    "- Purifying and Simplifying: Advanced TEI Customization\n",
    "- Encoding Text as a Nexus of Perspective Hierarchies: Case Studies in XML, LMNL, and RDF\n",
    "- We are TEI. You will be assimilated!\n",
    "- Encoding Text about Things\n",
    "\n",
    "Poster presentation session :\n",
    "- Andreas Okopenko: diaries from the poet’s estate (hybrid edition)\n",
    "- Bibliography in the Inscriptions of Israel / Palestine Epigraphic Project\n",
    "- Bringing TEI PM to Foggy Bottom\n",
    "- Creating Digital Critical Editions with Readux\n",
    "- Database of Belarusian Periodicals\n",
    "- From DOCX via TEI to Literature Map\n",
    "- Hyperdonat, digital edition project\n",
    "- Modeling a Body of Literature in TEI: Bibliotheca Hagiographica Syriaca Electronica\n",
    "- Support for TEI editions in academic libraries. An upcoming study of the Library Publishing Coalition\n",
    "- Tagging on Buddhist Images via IIIF and TEI encoding\n",
    "- TEI in the Archives: Unfolding the Bookshops in Paul’s Cross Churchyard\n",
    "- The Digital Editions Catalogue App: A web application to browse, curate and analyze digital editions\n",
    "- Towards a Repository of Senses for Use in TEI encoded Dictionaries\n",
    "- Wienerisches Diarium Digital: Unlocking a historic newspaper for interdisciplinary studies with the TEI Guidelines\n",
    "- STEP Transcriptor and STEP Text Comparator\n",
    "- EuRED: XML-TEI in database structure\n",
    "- HowTo create your own digital edition web app — A blog\n",
    "\n",
    "Editions :\n",
    "- TEI markup for the 90-volume edition of Leo Tolstoy’s complete works\n",
    "- Shakespeare's N-grams at 400: Comparing Content Themes With Four Contemporaries\n",
    "- The Authoritative Bibliography for the Chymistry of Isaac Newton\n",
    "- Encoding crime and punishment: A digital collection of historic broadsheets\n",
    "- The BVH in Tours and the \"Bibliothèque françoise\" project\n",
    "- Early Modern Slovenian Manuscripts Between Description, Critical Edition and Lexicon\n",
    "\n",
    "Editing :\n",
    "- Converting and Representing Social Media Corpora into TEI: Schema and best practices from CLARIN-D\n",
    "- Móricz Digital Edition — Possibilities and connections of a correspondence material\n",
    "- Biography as compilation: How to edit Georg Nikolaus Nissen’s\n",
    "- Upconversion and Migration: Generating a TEI-EpiDoc Corpus of Sicilian Inscriptions\n",
    "- Cantus Network — a semantically enriched digital edition of libri ordinarii of the Salzburg metropolitan province\n",
    "- Does this shoe fit? Applying the TEI guidelines to Sanskrit philosophical texts"
   ]
  },
  {
   "cell_type": "markdown",
   "metadata": {},
   "source": [
    "J'encode la répartition des titres dans les groupes dans des listes :"
   ]
  },
  {
   "cell_type": "code",
   "execution_count": 15,
   "metadata": {},
   "outputs": [],
   "source": [
    "V_grp1 = ['TEIScribe: A graphic tool for composing and testing TEI documents in the context of the EVI-LINHD environment',\n",
    "'Building a collaborative editorial workbench for legal texts with complex structures',\n",
    "'Automating the validation of TEI metadata processing',\n",
    "'Common Creativity international. CC-licensing and other options for TEI-based digital editions in an international context',\n",
    "'T³ – Typesetting TEI Using TeX. A Plea for High-quality Typesetting in the Humanities',\n",
    "'TEI Processing Model Toolbox']\n",
    "V_grp2 = ['Applying Standard Formats and Tools',\n",
    "'Capturing the crowd-sourcing process: storing different stages of crowd-sourced transcriptions in TEI',\n",
    "'Wiki2TEI: Wikipedias as sources for language research',\n",
    "'Islamic Manuscripts in Cambridge Digital Library & the German-French virtual library project Paleocoran',\n",
    "'msDesc at Oxford and Cambridge',\n",
    "'Creating a maintainable cataloging workflow and infrastructure using TEI']\n",
    "V_grp3 = ['CETEIcean, a JavaScript library for isomorphic TEI to HTML transformation',\n",
    "'The Elwood Markup & Text Analyzer (TEMTA)',\n",
    "'Early Print: annotation module for TEI',\n",
    "'STEP Transcriptor: a comprehensive TEI-XML compliant transcription app']\n",
    "V_grp4 = ['TEI and lemon: a comparative study on the lexical encoding and interoperability',\n",
    "'Exploring data models for heterogenous dialect data: the case of explore.bread.AT!',\n",
    "'Encoding a Dictionary of Russian Dialects in TEI and linking to LOD Resources',\n",
    "'Writing under the Magnifying Glass. Encoding the Text in Progress',\n",
    "'Tomayto, tomahto? Encoding variant taxonomies in TEI',\n",
    "'Documenting Transmission: The Analysis of the Folk Process using Versioning Machine 5.0']\n",
    "V_grp5 = ['Wake up, standOff!',\n",
    "'TEI document and schema visualization and modeling using mindmaps',\n",
    "'Purifying and Simplifying: Advanced TEI Customization',\n",
    "'Encoding Text as a Nexus of Perspective Hierarchies: Case Studies in XML, LMNL, and RDF',\n",
    "'We are TEI. You will be assimilated!',\n",
    "'Encoding Text about Things']\n",
    "V_grp6 = ['Andreas Okopenko: diaries from the poet’s estate (hybrid edition)',\n",
    "'Bibliography in the Inscriptions of Israel / Palestine Epigraphic Project',\n",
    "'Bringing TEI PM to Foggy Bottom',\n",
    "'Creating Digital Critical Editions with Readux',\n",
    "'Database of Belarusian Periodicals',\n",
    "'From DOCX via TEI to Literature Map',\n",
    "'Hyperdonat, digital edition project',\n",
    "'Modeling a Body of Literature in TEI: Bibliotheca Hagiographica Syriaca Electronica',\n",
    "'Support for TEI editions in academic libraries. An upcoming study of the Library Publishing Coalition',\n",
    "'Tagging on Buddhist Images via IIIF and TEI encoding',\n",
    "'TEI in the Archives: Unfolding the Bookshops in Paul’s Cross Churchyard',\n",
    "'The Digital Editions Catalogue App: A web application to browse, curate and analyze digital editions',\n",
    "'Towards a Repository of Senses for Use in TEI encoded Dictionaries',\n",
    "'Wienerisches Diarium Digital: Unlocking a historic newspaper for interdisciplinary studies with the TEI Guidelines',\n",
    "'STEP Transcriptor and STEP Text Comparator',\n",
    "'EuRED: XML-TEI in database structure',\n",
    "'HowTo create your own digital edition web app — A blog']\n",
    "V_grp7 = ['TEI markup for the 90-volume edition of Leo Tolstoy’s complete works',\n",
    "\"Shakespeare's N-grams at 400: Comparing Content Themes With Four Contemporaries\",\n",
    "'The Authoritative Bibliography for the Chymistry of Isaac Newton',\n",
    "'Encoding crime and punishment: A digital collection of historic broadsheets',\n",
    "'The BVH in Tours and the \"Bibliothèque françoise\" project',\n",
    "'Early Modern Slovenian Manuscripts Between Description, Critical Edition and Lexicon']\n",
    "V_grp8 = ['Converting and Representing Social Media Corpora into TEI: Schema and best practices from CLARIN-D',\n",
    "'Móricz Digital Edition — Possibilities and connections of a correspondence material',\n",
    "\"Biography as compilation: How to edit Georg Nikolaus Nissen’s\",\n",
    "'Upconversion and Migration: Generating a TEI-EpiDoc Corpus of Sicilian Inscriptions',\n",
    "\"Cantus Network — a semantically enriched digital edition of libri ordinarii of the Salzburg metropolitan province\",\n",
    "\"Does this shoe fit? Applying the TEI guidelines to Sanskrit philosophical texts\"]"
   ]
  },
  {
   "cell_type": "markdown",
   "metadata": {},
   "source": [
    "## Modélisation et comparaison ##\n",
    "\n",
    "En utilisant la librairie MatPlotLib, nous pouvons faire des graphiques permettant de mieux comprendre ce que nous avons créé. Nous comparerons les résultats obtenus avec les \" clusters \" créés par les organisateurs.\n",
    "\n",
    "### Un tableau ###\n",
    "\n",
    "Tout d'abord, nous allons représenter la liste des attributions sous forme d'un tableau pour comparer les clusters de l'ordinateur et les groupes faits par les organisateurs."
   ]
  },
  {
   "cell_type": "code",
   "execution_count": 16,
   "metadata": {},
   "outputs": [
    {
     "data": {
      "application/vnd.plotly.v1+json": {
       "config": {
        "plotlyServerURL": "https://plot.ly"
       },
       "data": [
        {
         "cells": {
          "align": [
           "center"
          ],
          "fill": {
           "color": [
            [
             "white",
             "lightgrey",
             "white",
             "lightgrey",
             "white",
             "white",
             "lightgrey",
             "white",
             "lightgrey",
             "white",
             "white",
             "lightgrey",
             "white",
             "lightgrey",
             "white",
             "white",
             "lightgrey",
             "white",
             "lightgrey",
             "white",
             "white",
             "lightgrey",
             "white",
             "lightgrey",
             "white"
            ]
           ]
          },
          "font": {
           "color": "darkslategray",
           "size": 9
          },
          "line": {
           "color": "darkslategray"
          },
          "values": [
           [
            "CETEIcean, a JavaScript library for isomorphic TEI to HTML transformation",
            "Automating the validation of TEI metadata processing",
            "Towards a Repository of Senses for Use in TEI encoded Dictionaries",
            "The Authoritative Bibliography for the Chymistry of Isaac Newton",
            "Islamic Manuscripts in Cambridge Digital Library & the German-French virtual library project Paleocoran",
            "Móricz Digital Edition — Possibilities and connections of a correspondence material",
            "Writing under the Magnifying Glass. Encoding the Text in Progress",
            "Andreas Okopenko: diaries from the poet’s estate (hybrid edition)",
            "Encoding crime and punishment: A digital collection of historic broadsheets",
            "Bibliography in the Inscriptions of Israel / Palestine Epigraphic Project",
            "Purifying and Simplifying: Advanced TEI Customization",
            "Encoding Text about Things",
            "TEI markup for the 90-volume edition of Leo Tolstoy’s complete works",
            "Does this shoe fit? Applying the TEI guidelines to Sanskrit philosophical texts",
            "From DOCX via TEI to Literature Map",
            "TEI in the Archives: Unfolding the Bookshops in Paul’s Cross Churchyard",
            "msDesc",
            "Modeling a Body of Literature in TEI: Bibliotheca Hagiographica Syriaca Electronica"
           ],
           [
            "Wienerisches Diarium Digital: Unlocking a historic newspaper for interdisciplinary studies with the TEI Guidelines",
            "ACDH Tool Gallery 2.2: TEI Basics – A gentle introduction to Text Encoding",
            "Converting and Representing Social Media Corpora into TEI: Schema and best practices from CLARIN-D",
            "Applying Standard Formats and Tools:",
            "Biography as compilation: How to edit Georg Nikolaus Nissen’s",
            "TEI2German Translatathon",
            "T³ – Typesetting TEI Using TeX. A Plea for High-quality Typesetting in the Humanities",
            "Documenting Transmission: The Analysis of the Folk Process using Versioning Machine 5.0",
            "TEI document and schema visualization and modeling using mindmaps",
            "Common Creativity international. CC-licensing and other options for TEI-based digital editions in an international context"
           ],
           [
            "TEI Processing Model Toolbox",
            "Database of Belarusian Periodicals",
            "Wiki2TEI: Wikipedias as sources for language research",
            "Building a collaborative editorial workbench for legal texts with complex structures",
            "eXistdb: more than a database",
            "TEIScribe: A graphic tool for composing and testing TEI documents in the context of the EVI-LINHD environment",
            "Capturing the crowd-sourcing process: storing different stages of crowd-sourced transcriptions in TEI",
            "Upconversion and Migration: Generating a TEI-EpiDoc Corpus of Sicilian Inscriptions"
           ],
           [
            "Freeing our Texts from their (Digital Tool) chains",
            "Bringing TEI PM to Foggy Bottom",
            "Creating a maintainable cataloging workflow and infrastructure using TEI",
            "Encoding Text as a Nexus of Perspective Hierarchies: Case Studies in XML, LMNL, and RDF"
           ],
           [
            "EuRED: XML-TEI in database structure",
            "Encoding a Dictionary of Russian Dialects in TEI and linking to LOD Resources",
            "TEI and lemon: a comparative study on the lexical encoding and interoperability",
            "Exploring data models for heterogenous dialect data: the case of explore.bread.AT!",
            "The BVH in Tours and the"
           ],
           [
            "Early Print: annotation module for TEI",
            "We are TEI. You will be assimilated!",
            "Wake up, standOff!",
            "Lexical information in the TEI: modeling and markup"
           ],
           [
            "Cantus Network — a semantically enriched digital edition of libri ordinarii of the Salzburg metropolitan province",
            "Support for TEI editions in academic libraries. An upcoming study of the Library Publishing Coalition",
            "Around the world in a TextGrid day. Edit, manage, publish, and explore your TEI data with TextGrid and DARIAH-DE",
            "The Digital Editions Catalogue App: A web application to browse, curate and analyze digital editions",
            "HowTo create your own digital edition web app — A blog",
            "Creating Digital Critical Editions with Readux"
           ],
           [
            "Tagging on Buddhist Images via IIIF and TEI encoding",
            "STEP Transcriptor and STEP Text Comparator",
            "Shakespeare's N-grams at 400: Comparing Content Themes With Four Contemporaries",
            "STEP Transcriptor: a comprehensive TEI-XML compliant transcription app",
            "Hyperdonat, digital edition project",
            "The Elwood Markup & Text Analyzer (TEMTA)",
            "Tomayto, tomahto? Encoding variant taxonomies in TEI",
            "Early Modern Slovenian Manuscripts Between Description, Critical Edition and Lexicon"
           ]
          ]
         },
         "header": {
          "align": [
           "center"
          ],
          "fill": {
           "color": "grey"
          },
          "font": {
           "color": "white",
           "size": 12
          },
          "line": {
           "color": "darkslategray"
          },
          "values": [
           "<b>Groupe 1</b>",
           "<b>Groupe 2</b>",
           "<b>Groupe 3</b>",
           "<b>Groupe 4</b>",
           "<b>Groupe 5</b>",
           "<b>Groupe 6</b>",
           "<b>Groupe 7</b>",
           "<b>Groupe 8</b>"
          ]
         },
         "type": "table"
        }
       ],
       "layout": {
        "template": {
         "data": {
          "bar": [
           {
            "error_x": {
             "color": "#2a3f5f"
            },
            "error_y": {
             "color": "#2a3f5f"
            },
            "marker": {
             "line": {
              "color": "#E5ECF6",
              "width": 0.5
             }
            },
            "type": "bar"
           }
          ],
          "barpolar": [
           {
            "marker": {
             "line": {
              "color": "#E5ECF6",
              "width": 0.5
             }
            },
            "type": "barpolar"
           }
          ],
          "carpet": [
           {
            "aaxis": {
             "endlinecolor": "#2a3f5f",
             "gridcolor": "white",
             "linecolor": "white",
             "minorgridcolor": "white",
             "startlinecolor": "#2a3f5f"
            },
            "baxis": {
             "endlinecolor": "#2a3f5f",
             "gridcolor": "white",
             "linecolor": "white",
             "minorgridcolor": "white",
             "startlinecolor": "#2a3f5f"
            },
            "type": "carpet"
           }
          ],
          "choropleth": [
           {
            "colorbar": {
             "outlinewidth": 0,
             "ticks": ""
            },
            "type": "choropleth"
           }
          ],
          "contour": [
           {
            "colorbar": {
             "outlinewidth": 0,
             "ticks": ""
            },
            "colorscale": [
             [
              0,
              "#0d0887"
             ],
             [
              0.1111111111111111,
              "#46039f"
             ],
             [
              0.2222222222222222,
              "#7201a8"
             ],
             [
              0.3333333333333333,
              "#9c179e"
             ],
             [
              0.4444444444444444,
              "#bd3786"
             ],
             [
              0.5555555555555556,
              "#d8576b"
             ],
             [
              0.6666666666666666,
              "#ed7953"
             ],
             [
              0.7777777777777778,
              "#fb9f3a"
             ],
             [
              0.8888888888888888,
              "#fdca26"
             ],
             [
              1,
              "#f0f921"
             ]
            ],
            "type": "contour"
           }
          ],
          "contourcarpet": [
           {
            "colorbar": {
             "outlinewidth": 0,
             "ticks": ""
            },
            "type": "contourcarpet"
           }
          ],
          "heatmap": [
           {
            "colorbar": {
             "outlinewidth": 0,
             "ticks": ""
            },
            "colorscale": [
             [
              0,
              "#0d0887"
             ],
             [
              0.1111111111111111,
              "#46039f"
             ],
             [
              0.2222222222222222,
              "#7201a8"
             ],
             [
              0.3333333333333333,
              "#9c179e"
             ],
             [
              0.4444444444444444,
              "#bd3786"
             ],
             [
              0.5555555555555556,
              "#d8576b"
             ],
             [
              0.6666666666666666,
              "#ed7953"
             ],
             [
              0.7777777777777778,
              "#fb9f3a"
             ],
             [
              0.8888888888888888,
              "#fdca26"
             ],
             [
              1,
              "#f0f921"
             ]
            ],
            "type": "heatmap"
           }
          ],
          "heatmapgl": [
           {
            "colorbar": {
             "outlinewidth": 0,
             "ticks": ""
            },
            "colorscale": [
             [
              0,
              "#0d0887"
             ],
             [
              0.1111111111111111,
              "#46039f"
             ],
             [
              0.2222222222222222,
              "#7201a8"
             ],
             [
              0.3333333333333333,
              "#9c179e"
             ],
             [
              0.4444444444444444,
              "#bd3786"
             ],
             [
              0.5555555555555556,
              "#d8576b"
             ],
             [
              0.6666666666666666,
              "#ed7953"
             ],
             [
              0.7777777777777778,
              "#fb9f3a"
             ],
             [
              0.8888888888888888,
              "#fdca26"
             ],
             [
              1,
              "#f0f921"
             ]
            ],
            "type": "heatmapgl"
           }
          ],
          "histogram": [
           {
            "marker": {
             "colorbar": {
              "outlinewidth": 0,
              "ticks": ""
             }
            },
            "type": "histogram"
           }
          ],
          "histogram2d": [
           {
            "colorbar": {
             "outlinewidth": 0,
             "ticks": ""
            },
            "colorscale": [
             [
              0,
              "#0d0887"
             ],
             [
              0.1111111111111111,
              "#46039f"
             ],
             [
              0.2222222222222222,
              "#7201a8"
             ],
             [
              0.3333333333333333,
              "#9c179e"
             ],
             [
              0.4444444444444444,
              "#bd3786"
             ],
             [
              0.5555555555555556,
              "#d8576b"
             ],
             [
              0.6666666666666666,
              "#ed7953"
             ],
             [
              0.7777777777777778,
              "#fb9f3a"
             ],
             [
              0.8888888888888888,
              "#fdca26"
             ],
             [
              1,
              "#f0f921"
             ]
            ],
            "type": "histogram2d"
           }
          ],
          "histogram2dcontour": [
           {
            "colorbar": {
             "outlinewidth": 0,
             "ticks": ""
            },
            "colorscale": [
             [
              0,
              "#0d0887"
             ],
             [
              0.1111111111111111,
              "#46039f"
             ],
             [
              0.2222222222222222,
              "#7201a8"
             ],
             [
              0.3333333333333333,
              "#9c179e"
             ],
             [
              0.4444444444444444,
              "#bd3786"
             ],
             [
              0.5555555555555556,
              "#d8576b"
             ],
             [
              0.6666666666666666,
              "#ed7953"
             ],
             [
              0.7777777777777778,
              "#fb9f3a"
             ],
             [
              0.8888888888888888,
              "#fdca26"
             ],
             [
              1,
              "#f0f921"
             ]
            ],
            "type": "histogram2dcontour"
           }
          ],
          "mesh3d": [
           {
            "colorbar": {
             "outlinewidth": 0,
             "ticks": ""
            },
            "type": "mesh3d"
           }
          ],
          "parcoords": [
           {
            "line": {
             "colorbar": {
              "outlinewidth": 0,
              "ticks": ""
             }
            },
            "type": "parcoords"
           }
          ],
          "pie": [
           {
            "automargin": true,
            "type": "pie"
           }
          ],
          "scatter": [
           {
            "marker": {
             "colorbar": {
              "outlinewidth": 0,
              "ticks": ""
             }
            },
            "type": "scatter"
           }
          ],
          "scatter3d": [
           {
            "line": {
             "colorbar": {
              "outlinewidth": 0,
              "ticks": ""
             }
            },
            "marker": {
             "colorbar": {
              "outlinewidth": 0,
              "ticks": ""
             }
            },
            "type": "scatter3d"
           }
          ],
          "scattercarpet": [
           {
            "marker": {
             "colorbar": {
              "outlinewidth": 0,
              "ticks": ""
             }
            },
            "type": "scattercarpet"
           }
          ],
          "scattergeo": [
           {
            "marker": {
             "colorbar": {
              "outlinewidth": 0,
              "ticks": ""
             }
            },
            "type": "scattergeo"
           }
          ],
          "scattergl": [
           {
            "marker": {
             "colorbar": {
              "outlinewidth": 0,
              "ticks": ""
             }
            },
            "type": "scattergl"
           }
          ],
          "scattermapbox": [
           {
            "marker": {
             "colorbar": {
              "outlinewidth": 0,
              "ticks": ""
             }
            },
            "type": "scattermapbox"
           }
          ],
          "scatterpolar": [
           {
            "marker": {
             "colorbar": {
              "outlinewidth": 0,
              "ticks": ""
             }
            },
            "type": "scatterpolar"
           }
          ],
          "scatterpolargl": [
           {
            "marker": {
             "colorbar": {
              "outlinewidth": 0,
              "ticks": ""
             }
            },
            "type": "scatterpolargl"
           }
          ],
          "scatterternary": [
           {
            "marker": {
             "colorbar": {
              "outlinewidth": 0,
              "ticks": ""
             }
            },
            "type": "scatterternary"
           }
          ],
          "surface": [
           {
            "colorbar": {
             "outlinewidth": 0,
             "ticks": ""
            },
            "colorscale": [
             [
              0,
              "#0d0887"
             ],
             [
              0.1111111111111111,
              "#46039f"
             ],
             [
              0.2222222222222222,
              "#7201a8"
             ],
             [
              0.3333333333333333,
              "#9c179e"
             ],
             [
              0.4444444444444444,
              "#bd3786"
             ],
             [
              0.5555555555555556,
              "#d8576b"
             ],
             [
              0.6666666666666666,
              "#ed7953"
             ],
             [
              0.7777777777777778,
              "#fb9f3a"
             ],
             [
              0.8888888888888888,
              "#fdca26"
             ],
             [
              1,
              "#f0f921"
             ]
            ],
            "type": "surface"
           }
          ],
          "table": [
           {
            "cells": {
             "fill": {
              "color": "#EBF0F8"
             },
             "line": {
              "color": "white"
             }
            },
            "header": {
             "fill": {
              "color": "#C8D4E3"
             },
             "line": {
              "color": "white"
             }
            },
            "type": "table"
           }
          ]
         },
         "layout": {
          "annotationdefaults": {
           "arrowcolor": "#2a3f5f",
           "arrowhead": 0,
           "arrowwidth": 1
          },
          "coloraxis": {
           "colorbar": {
            "outlinewidth": 0,
            "ticks": ""
           }
          },
          "colorscale": {
           "diverging": [
            [
             0,
             "#8e0152"
            ],
            [
             0.1,
             "#c51b7d"
            ],
            [
             0.2,
             "#de77ae"
            ],
            [
             0.3,
             "#f1b6da"
            ],
            [
             0.4,
             "#fde0ef"
            ],
            [
             0.5,
             "#f7f7f7"
            ],
            [
             0.6,
             "#e6f5d0"
            ],
            [
             0.7,
             "#b8e186"
            ],
            [
             0.8,
             "#7fbc41"
            ],
            [
             0.9,
             "#4d9221"
            ],
            [
             1,
             "#276419"
            ]
           ],
           "sequential": [
            [
             0,
             "#0d0887"
            ],
            [
             0.1111111111111111,
             "#46039f"
            ],
            [
             0.2222222222222222,
             "#7201a8"
            ],
            [
             0.3333333333333333,
             "#9c179e"
            ],
            [
             0.4444444444444444,
             "#bd3786"
            ],
            [
             0.5555555555555556,
             "#d8576b"
            ],
            [
             0.6666666666666666,
             "#ed7953"
            ],
            [
             0.7777777777777778,
             "#fb9f3a"
            ],
            [
             0.8888888888888888,
             "#fdca26"
            ],
            [
             1,
             "#f0f921"
            ]
           ],
           "sequentialminus": [
            [
             0,
             "#0d0887"
            ],
            [
             0.1111111111111111,
             "#46039f"
            ],
            [
             0.2222222222222222,
             "#7201a8"
            ],
            [
             0.3333333333333333,
             "#9c179e"
            ],
            [
             0.4444444444444444,
             "#bd3786"
            ],
            [
             0.5555555555555556,
             "#d8576b"
            ],
            [
             0.6666666666666666,
             "#ed7953"
            ],
            [
             0.7777777777777778,
             "#fb9f3a"
            ],
            [
             0.8888888888888888,
             "#fdca26"
            ],
            [
             1,
             "#f0f921"
            ]
           ]
          },
          "colorway": [
           "#636efa",
           "#EF553B",
           "#00cc96",
           "#ab63fa",
           "#FFA15A",
           "#19d3f3",
           "#FF6692",
           "#B6E880",
           "#FF97FF",
           "#FECB52"
          ],
          "font": {
           "color": "#2a3f5f"
          },
          "geo": {
           "bgcolor": "white",
           "lakecolor": "white",
           "landcolor": "#E5ECF6",
           "showlakes": true,
           "showland": true,
           "subunitcolor": "white"
          },
          "hoverlabel": {
           "align": "left"
          },
          "hovermode": "closest",
          "mapbox": {
           "style": "light"
          },
          "paper_bgcolor": "white",
          "plot_bgcolor": "#E5ECF6",
          "polar": {
           "angularaxis": {
            "gridcolor": "white",
            "linecolor": "white",
            "ticks": ""
           },
           "bgcolor": "#E5ECF6",
           "radialaxis": {
            "gridcolor": "white",
            "linecolor": "white",
            "ticks": ""
           }
          },
          "scene": {
           "xaxis": {
            "backgroundcolor": "#E5ECF6",
            "gridcolor": "white",
            "gridwidth": 2,
            "linecolor": "white",
            "showbackground": true,
            "ticks": "",
            "zerolinecolor": "white"
           },
           "yaxis": {
            "backgroundcolor": "#E5ECF6",
            "gridcolor": "white",
            "gridwidth": 2,
            "linecolor": "white",
            "showbackground": true,
            "ticks": "",
            "zerolinecolor": "white"
           },
           "zaxis": {
            "backgroundcolor": "#E5ECF6",
            "gridcolor": "white",
            "gridwidth": 2,
            "linecolor": "white",
            "showbackground": true,
            "ticks": "",
            "zerolinecolor": "white"
           }
          },
          "shapedefaults": {
           "line": {
            "color": "#2a3f5f"
           }
          },
          "ternary": {
           "aaxis": {
            "gridcolor": "white",
            "linecolor": "white",
            "ticks": ""
           },
           "baxis": {
            "gridcolor": "white",
            "linecolor": "white",
            "ticks": ""
           },
           "bgcolor": "#E5ECF6",
           "caxis": {
            "gridcolor": "white",
            "linecolor": "white",
            "ticks": ""
           }
          },
          "title": {
           "x": 0.05
          },
          "xaxis": {
           "automargin": true,
           "gridcolor": "white",
           "linecolor": "white",
           "ticks": "",
           "title": {
            "standoff": 15
           },
           "zerolinecolor": "white",
           "zerolinewidth": 2
          },
          "yaxis": {
           "automargin": true,
           "gridcolor": "white",
           "linecolor": "white",
           "ticks": "",
           "title": {
            "standoff": 15
           },
           "zerolinecolor": "white",
           "zerolinewidth": 2
          }
         }
        }
       }
      },
      "text/html": [
       "<div>\n",
       "        \n",
       "        \n",
       "            <div id=\"c340b05a-00c8-4c5b-9e06-af0dbf40678a\" class=\"plotly-graph-div\" style=\"height:525px; width:100%;\"></div>\n",
       "            <script type=\"text/javascript\">\n",
       "                require([\"plotly\"], function(Plotly) {\n",
       "                    window.PLOTLYENV=window.PLOTLYENV || {};\n",
       "                    \n",
       "                if (document.getElementById(\"c340b05a-00c8-4c5b-9e06-af0dbf40678a\")) {\n",
       "                    Plotly.newPlot(\n",
       "                        'c340b05a-00c8-4c5b-9e06-af0dbf40678a',\n",
       "                        [{\"cells\": {\"align\": [\"center\"], \"fill\": {\"color\": [[\"white\", \"lightgrey\", \"white\", \"lightgrey\", \"white\", \"white\", \"lightgrey\", \"white\", \"lightgrey\", \"white\", \"white\", \"lightgrey\", \"white\", \"lightgrey\", \"white\", \"white\", \"lightgrey\", \"white\", \"lightgrey\", \"white\", \"white\", \"lightgrey\", \"white\", \"lightgrey\", \"white\"]]}, \"font\": {\"color\": \"darkslategray\", \"size\": 9}, \"line\": {\"color\": \"darkslategray\"}, \"values\": [[\"CETEIcean, a JavaScript library for isomorphic TEI to HTML transformation\", \"Automating the validation of TEI metadata processing\", \"Towards a Repository of Senses for Use in TEI encoded Dictionaries\", \"The Authoritative Bibliography for the Chymistry of Isaac Newton\", \"Islamic Manuscripts in Cambridge Digital Library & the German-French virtual library project Paleocoran\", \"M\\u00f3ricz Digital Edition \\u2014 Possibilities and connections of a correspondence material\", \"Writing under the Magnifying Glass. Encoding the Text in Progress\", \"Andreas Okopenko: diaries from the poet\\u2019s estate (hybrid edition)\", \"Encoding crime and punishment: A digital collection of historic broadsheets\", \"Bibliography in the Inscriptions of Israel / Palestine Epigraphic Project\", \"Purifying and Simplifying: Advanced TEI Customization\", \"Encoding Text about Things\", \"TEI markup for the 90-volume edition of Leo Tolstoy\\u2019s complete works\", \"Does this shoe fit? Applying the TEI guidelines to Sanskrit philosophical texts\", \"From DOCX via TEI to Literature Map\", \"TEI in the Archives: Unfolding the Bookshops in Paul\\u2019s Cross Churchyard\", \"msDesc\", \"Modeling a Body of Literature in TEI: Bibliotheca Hagiographica Syriaca Electronica\"], [\"Wienerisches Diarium Digital: Unlocking a historic newspaper for interdisciplinary studies with the TEI Guidelines\", \"ACDH Tool Gallery 2.2: TEI Basics \\u2013 A gentle introduction to Text Encoding\", \"Converting and Representing Social Media Corpora into TEI: Schema and best practices from CLARIN-D\", \"Applying Standard Formats and Tools:\", \"Biography as compilation: How to edit Georg Nikolaus Nissen\\u2019s\", \"TEI2German Translatathon\", \"T\\u00b3 \\u2013 Typesetting TEI Using TeX. A Plea for High-quality Typesetting in the Humanities\", \"Documenting Transmission: The Analysis of the Folk Process using Versioning Machine 5.0\", \"TEI document and schema visualization and modeling using mindmaps\", \"Common Creativity international. CC-licensing and other options for TEI-based digital editions in an international context\"], [\"TEI Processing Model Toolbox\", \"Database of Belarusian Periodicals\", \"Wiki2TEI: Wikipedias as sources for language research\", \"Building a collaborative editorial workbench for legal texts with complex structures\", \"eXistdb: more than a database\", \"TEIScribe: A graphic tool for composing and testing TEI documents in the context of the EVI-LINHD environment\", \"Capturing the crowd-sourcing process: storing different stages of crowd-sourced transcriptions in TEI\", \"Upconversion and Migration: Generating a TEI-EpiDoc Corpus of Sicilian Inscriptions\"], [\"Freeing our Texts from their (Digital Tool) chains\", \"Bringing TEI PM to Foggy Bottom\", \"Creating a maintainable cataloging workflow and infrastructure using TEI\", \"Encoding Text as a Nexus of Perspective Hierarchies: Case Studies in XML, LMNL, and RDF\"], [\"EuRED: XML-TEI in database structure\", \"Encoding a Dictionary of Russian Dialects in TEI and linking to LOD Resources\", \"TEI and lemon: a comparative study on the lexical encoding and interoperability\", \"Exploring data models for heterogenous dialect data: the case of explore.bread.AT!\", \"The BVH in Tours and the\"], [\"Early Print: annotation module for TEI\", \"We are TEI. You will be assimilated!\", \"Wake up, standOff!\", \"Lexical information in the TEI: modeling and markup\"], [\"Cantus Network \\u2014 a semantically enriched digital edition of libri ordinarii of the Salzburg metropolitan province\", \"Support for TEI editions in academic libraries. An upcoming study of the Library Publishing Coalition\", \"Around the world in a TextGrid day. Edit, manage, publish, and explore your TEI data with TextGrid and DARIAH-DE\", \"The Digital Editions Catalogue App: A web application to browse, curate and analyze digital editions\", \"HowTo create your own digital edition web app \\u2014 A blog\", \"Creating Digital Critical Editions with Readux\"], [\"Tagging on Buddhist Images via IIIF and TEI encoding\", \"STEP Transcriptor and STEP Text Comparator\", \"Shakespeare's N-grams at 400: Comparing Content Themes With Four Contemporaries\", \"STEP Transcriptor: a comprehensive TEI-XML compliant transcription app\", \"Hyperdonat, digital edition project\", \"The Elwood Markup & Text Analyzer (TEMTA)\", \"Tomayto, tomahto? Encoding variant taxonomies in TEI\", \"Early Modern Slovenian Manuscripts Between Description, Critical Edition and Lexicon\"]]}, \"header\": {\"align\": [\"center\"], \"fill\": {\"color\": \"grey\"}, \"font\": {\"color\": \"white\", \"size\": 12}, \"line\": {\"color\": \"darkslategray\"}, \"values\": [\"<b>Groupe 1</b>\", \"<b>Groupe 2</b>\", \"<b>Groupe 3</b>\", \"<b>Groupe 4</b>\", \"<b>Groupe 5</b>\", \"<b>Groupe 6</b>\", \"<b>Groupe 7</b>\", \"<b>Groupe 8</b>\"]}, \"type\": \"table\"}],\n",
       "                        {\"template\": {\"data\": {\"bar\": [{\"error_x\": {\"color\": \"#2a3f5f\"}, \"error_y\": {\"color\": \"#2a3f5f\"}, \"marker\": {\"line\": {\"color\": \"#E5ECF6\", \"width\": 0.5}}, \"type\": \"bar\"}], \"barpolar\": [{\"marker\": {\"line\": {\"color\": \"#E5ECF6\", \"width\": 0.5}}, \"type\": \"barpolar\"}], \"carpet\": [{\"aaxis\": {\"endlinecolor\": \"#2a3f5f\", \"gridcolor\": \"white\", \"linecolor\": \"white\", \"minorgridcolor\": \"white\", \"startlinecolor\": \"#2a3f5f\"}, \"baxis\": {\"endlinecolor\": \"#2a3f5f\", \"gridcolor\": \"white\", \"linecolor\": \"white\", \"minorgridcolor\": \"white\", \"startlinecolor\": \"#2a3f5f\"}, \"type\": \"carpet\"}], \"choropleth\": [{\"colorbar\": {\"outlinewidth\": 0, \"ticks\": \"\"}, \"type\": \"choropleth\"}], \"contour\": [{\"colorbar\": {\"outlinewidth\": 0, \"ticks\": \"\"}, \"colorscale\": [[0.0, \"#0d0887\"], [0.1111111111111111, \"#46039f\"], [0.2222222222222222, \"#7201a8\"], [0.3333333333333333, \"#9c179e\"], [0.4444444444444444, \"#bd3786\"], [0.5555555555555556, \"#d8576b\"], [0.6666666666666666, \"#ed7953\"], [0.7777777777777778, \"#fb9f3a\"], [0.8888888888888888, \"#fdca26\"], [1.0, \"#f0f921\"]], \"type\": \"contour\"}], \"contourcarpet\": [{\"colorbar\": {\"outlinewidth\": 0, \"ticks\": \"\"}, \"type\": \"contourcarpet\"}], \"heatmap\": [{\"colorbar\": {\"outlinewidth\": 0, \"ticks\": \"\"}, \"colorscale\": [[0.0, \"#0d0887\"], [0.1111111111111111, \"#46039f\"], [0.2222222222222222, \"#7201a8\"], [0.3333333333333333, \"#9c179e\"], [0.4444444444444444, \"#bd3786\"], [0.5555555555555556, \"#d8576b\"], [0.6666666666666666, \"#ed7953\"], [0.7777777777777778, \"#fb9f3a\"], [0.8888888888888888, \"#fdca26\"], [1.0, \"#f0f921\"]], \"type\": \"heatmap\"}], \"heatmapgl\": [{\"colorbar\": {\"outlinewidth\": 0, \"ticks\": \"\"}, \"colorscale\": [[0.0, \"#0d0887\"], [0.1111111111111111, \"#46039f\"], [0.2222222222222222, \"#7201a8\"], [0.3333333333333333, \"#9c179e\"], [0.4444444444444444, \"#bd3786\"], [0.5555555555555556, \"#d8576b\"], [0.6666666666666666, \"#ed7953\"], [0.7777777777777778, \"#fb9f3a\"], [0.8888888888888888, \"#fdca26\"], [1.0, \"#f0f921\"]], \"type\": \"heatmapgl\"}], \"histogram\": [{\"marker\": {\"colorbar\": {\"outlinewidth\": 0, \"ticks\": \"\"}}, \"type\": \"histogram\"}], \"histogram2d\": [{\"colorbar\": {\"outlinewidth\": 0, \"ticks\": \"\"}, \"colorscale\": [[0.0, \"#0d0887\"], [0.1111111111111111, \"#46039f\"], [0.2222222222222222, \"#7201a8\"], [0.3333333333333333, \"#9c179e\"], [0.4444444444444444, \"#bd3786\"], [0.5555555555555556, \"#d8576b\"], [0.6666666666666666, \"#ed7953\"], [0.7777777777777778, \"#fb9f3a\"], [0.8888888888888888, \"#fdca26\"], [1.0, \"#f0f921\"]], \"type\": \"histogram2d\"}], \"histogram2dcontour\": [{\"colorbar\": {\"outlinewidth\": 0, \"ticks\": \"\"}, \"colorscale\": [[0.0, \"#0d0887\"], [0.1111111111111111, \"#46039f\"], [0.2222222222222222, \"#7201a8\"], [0.3333333333333333, \"#9c179e\"], [0.4444444444444444, \"#bd3786\"], [0.5555555555555556, \"#d8576b\"], [0.6666666666666666, \"#ed7953\"], [0.7777777777777778, \"#fb9f3a\"], [0.8888888888888888, \"#fdca26\"], [1.0, \"#f0f921\"]], \"type\": \"histogram2dcontour\"}], \"mesh3d\": [{\"colorbar\": {\"outlinewidth\": 0, \"ticks\": \"\"}, \"type\": \"mesh3d\"}], \"parcoords\": [{\"line\": {\"colorbar\": {\"outlinewidth\": 0, \"ticks\": \"\"}}, \"type\": \"parcoords\"}], \"pie\": [{\"automargin\": true, \"type\": \"pie\"}], \"scatter\": [{\"marker\": {\"colorbar\": {\"outlinewidth\": 0, \"ticks\": \"\"}}, \"type\": \"scatter\"}], \"scatter3d\": [{\"line\": {\"colorbar\": {\"outlinewidth\": 0, \"ticks\": \"\"}}, \"marker\": {\"colorbar\": {\"outlinewidth\": 0, \"ticks\": \"\"}}, \"type\": \"scatter3d\"}], \"scattercarpet\": [{\"marker\": {\"colorbar\": {\"outlinewidth\": 0, \"ticks\": \"\"}}, \"type\": \"scattercarpet\"}], \"scattergeo\": [{\"marker\": {\"colorbar\": {\"outlinewidth\": 0, \"ticks\": \"\"}}, \"type\": \"scattergeo\"}], \"scattergl\": [{\"marker\": {\"colorbar\": {\"outlinewidth\": 0, \"ticks\": \"\"}}, \"type\": \"scattergl\"}], \"scattermapbox\": [{\"marker\": {\"colorbar\": {\"outlinewidth\": 0, \"ticks\": \"\"}}, \"type\": \"scattermapbox\"}], \"scatterpolar\": [{\"marker\": {\"colorbar\": {\"outlinewidth\": 0, \"ticks\": \"\"}}, \"type\": \"scatterpolar\"}], \"scatterpolargl\": [{\"marker\": {\"colorbar\": {\"outlinewidth\": 0, \"ticks\": \"\"}}, \"type\": \"scatterpolargl\"}], \"scatterternary\": [{\"marker\": {\"colorbar\": {\"outlinewidth\": 0, \"ticks\": \"\"}}, \"type\": \"scatterternary\"}], \"surface\": [{\"colorbar\": {\"outlinewidth\": 0, \"ticks\": \"\"}, \"colorscale\": [[0.0, \"#0d0887\"], [0.1111111111111111, \"#46039f\"], [0.2222222222222222, \"#7201a8\"], [0.3333333333333333, \"#9c179e\"], [0.4444444444444444, \"#bd3786\"], [0.5555555555555556, \"#d8576b\"], [0.6666666666666666, \"#ed7953\"], [0.7777777777777778, \"#fb9f3a\"], [0.8888888888888888, \"#fdca26\"], [1.0, \"#f0f921\"]], \"type\": \"surface\"}], \"table\": [{\"cells\": {\"fill\": {\"color\": \"#EBF0F8\"}, \"line\": {\"color\": \"white\"}}, \"header\": {\"fill\": {\"color\": \"#C8D4E3\"}, \"line\": {\"color\": \"white\"}}, \"type\": \"table\"}]}, \"layout\": {\"annotationdefaults\": {\"arrowcolor\": \"#2a3f5f\", \"arrowhead\": 0, \"arrowwidth\": 1}, \"coloraxis\": {\"colorbar\": {\"outlinewidth\": 0, \"ticks\": \"\"}}, \"colorscale\": {\"diverging\": [[0, \"#8e0152\"], [0.1, \"#c51b7d\"], [0.2, \"#de77ae\"], [0.3, \"#f1b6da\"], [0.4, \"#fde0ef\"], [0.5, \"#f7f7f7\"], [0.6, \"#e6f5d0\"], [0.7, \"#b8e186\"], [0.8, \"#7fbc41\"], [0.9, \"#4d9221\"], [1, \"#276419\"]], \"sequential\": [[0.0, \"#0d0887\"], [0.1111111111111111, \"#46039f\"], [0.2222222222222222, \"#7201a8\"], [0.3333333333333333, \"#9c179e\"], [0.4444444444444444, \"#bd3786\"], [0.5555555555555556, \"#d8576b\"], [0.6666666666666666, \"#ed7953\"], [0.7777777777777778, \"#fb9f3a\"], [0.8888888888888888, \"#fdca26\"], [1.0, \"#f0f921\"]], \"sequentialminus\": [[0.0, \"#0d0887\"], [0.1111111111111111, \"#46039f\"], [0.2222222222222222, \"#7201a8\"], [0.3333333333333333, \"#9c179e\"], [0.4444444444444444, \"#bd3786\"], [0.5555555555555556, \"#d8576b\"], [0.6666666666666666, \"#ed7953\"], [0.7777777777777778, \"#fb9f3a\"], [0.8888888888888888, \"#fdca26\"], [1.0, \"#f0f921\"]]}, \"colorway\": [\"#636efa\", \"#EF553B\", \"#00cc96\", \"#ab63fa\", \"#FFA15A\", \"#19d3f3\", \"#FF6692\", \"#B6E880\", \"#FF97FF\", \"#FECB52\"], \"font\": {\"color\": \"#2a3f5f\"}, \"geo\": {\"bgcolor\": \"white\", \"lakecolor\": \"white\", \"landcolor\": \"#E5ECF6\", \"showlakes\": true, \"showland\": true, \"subunitcolor\": \"white\"}, \"hoverlabel\": {\"align\": \"left\"}, \"hovermode\": \"closest\", \"mapbox\": {\"style\": \"light\"}, \"paper_bgcolor\": \"white\", \"plot_bgcolor\": \"#E5ECF6\", \"polar\": {\"angularaxis\": {\"gridcolor\": \"white\", \"linecolor\": \"white\", \"ticks\": \"\"}, \"bgcolor\": \"#E5ECF6\", \"radialaxis\": {\"gridcolor\": \"white\", \"linecolor\": \"white\", \"ticks\": \"\"}}, \"scene\": {\"xaxis\": {\"backgroundcolor\": \"#E5ECF6\", \"gridcolor\": \"white\", \"gridwidth\": 2, \"linecolor\": \"white\", \"showbackground\": true, \"ticks\": \"\", \"zerolinecolor\": \"white\"}, \"yaxis\": {\"backgroundcolor\": \"#E5ECF6\", \"gridcolor\": \"white\", \"gridwidth\": 2, \"linecolor\": \"white\", \"showbackground\": true, \"ticks\": \"\", \"zerolinecolor\": \"white\"}, \"zaxis\": {\"backgroundcolor\": \"#E5ECF6\", \"gridcolor\": \"white\", \"gridwidth\": 2, \"linecolor\": \"white\", \"showbackground\": true, \"ticks\": \"\", \"zerolinecolor\": \"white\"}}, \"shapedefaults\": {\"line\": {\"color\": \"#2a3f5f\"}}, \"ternary\": {\"aaxis\": {\"gridcolor\": \"white\", \"linecolor\": \"white\", \"ticks\": \"\"}, \"baxis\": {\"gridcolor\": \"white\", \"linecolor\": \"white\", \"ticks\": \"\"}, \"bgcolor\": \"#E5ECF6\", \"caxis\": {\"gridcolor\": \"white\", \"linecolor\": \"white\", \"ticks\": \"\"}}, \"title\": {\"x\": 0.05}, \"xaxis\": {\"automargin\": true, \"gridcolor\": \"white\", \"linecolor\": \"white\", \"ticks\": \"\", \"title\": {\"standoff\": 15}, \"zerolinecolor\": \"white\", \"zerolinewidth\": 2}, \"yaxis\": {\"automargin\": true, \"gridcolor\": \"white\", \"linecolor\": \"white\", \"ticks\": \"\", \"title\": {\"standoff\": 15}, \"zerolinecolor\": \"white\", \"zerolinewidth\": 2}}}},\n",
       "                        {\"responsive\": true}\n",
       "                    ).then(function(){\n",
       "                            \n",
       "var gd = document.getElementById('c340b05a-00c8-4c5b-9e06-af0dbf40678a');\n",
       "var x = new MutationObserver(function (mutations, observer) {{\n",
       "        var display = window.getComputedStyle(gd).display;\n",
       "        if (!display || display === 'none') {{\n",
       "            console.log([gd, 'removed!']);\n",
       "            Plotly.purge(gd);\n",
       "            observer.disconnect();\n",
       "        }}\n",
       "}});\n",
       "\n",
       "// Listen for the removal of the full notebook cells\n",
       "var notebookContainer = gd.closest('#notebook-container');\n",
       "if (notebookContainer) {{\n",
       "    x.observe(notebookContainer, {childList: true});\n",
       "}}\n",
       "\n",
       "// Listen for the clearing of the current output cell\n",
       "var outputEl = gd.closest('.output');\n",
       "if (outputEl) {{\n",
       "    x.observe(outputEl, {childList: true});\n",
       "}}\n",
       "\n",
       "                        })\n",
       "                };\n",
       "                });\n",
       "            </script>\n",
       "        </div>"
      ]
     },
     "metadata": {},
     "output_type": "display_data"
    },
    {
     "data": {
      "application/vnd.plotly.v1+json": {
       "config": {
        "plotlyServerURL": "https://plot.ly"
       },
       "data": [
        {
         "cells": {
          "align": [
           "center"
          ],
          "fill": {
           "color": [
            [
             "white",
             "lightgrey",
             "white",
             "lightgrey",
             "white",
             "white",
             "lightgrey",
             "white",
             "lightgrey",
             "white",
             "white",
             "lightgrey",
             "white",
             "lightgrey",
             "white",
             "white",
             "lightgrey",
             "white",
             "lightgrey",
             "white",
             "white",
             "lightgrey",
             "white",
             "lightgrey",
             "white"
            ]
           ]
          },
          "font": {
           "color": "darkslategray",
           "size": 9
          },
          "line": {
           "color": "darkslategray"
          },
          "values": [
           [
            "TEIScribe: A graphic tool for composing and testing TEI documents in the context of the EVI-LINHD environment",
            "Building a collaborative editorial workbench for legal texts with complex structures",
            "Automating the validation of TEI metadata processing",
            "Common Creativity international. CC-licensing and other options for TEI-based digital editions in an international context",
            "T³ – Typesetting TEI Using TeX. A Plea for High-quality Typesetting in the Humanities",
            "TEI Processing Model Toolbox"
           ],
           [
            "Applying Standard Formats and Tools",
            "Capturing the crowd-sourcing process: storing different stages of crowd-sourced transcriptions in TEI",
            "Wiki2TEI: Wikipedias as sources for language research",
            "Islamic Manuscripts in Cambridge Digital Library & the German-French virtual library project Paleocoran",
            "msDesc at Oxford and Cambridge",
            "Creating a maintainable cataloging workflow and infrastructure using TEI"
           ],
           [
            "CETEIcean, a JavaScript library for isomorphic TEI to HTML transformation",
            "The Elwood Markup & Text Analyzer (TEMTA)",
            "Early Print: annotation module for TEI",
            "STEP Transcriptor: a comprehensive TEI-XML compliant transcription app"
           ],
           [
            "TEI and lemon: a comparative study on the lexical encoding and interoperability",
            "Exploring data models for heterogenous dialect data: the case of explore.bread.AT!",
            "Encoding a Dictionary of Russian Dialects in TEI and linking to LOD Resources",
            "Writing under the Magnifying Glass. Encoding the Text in Progress",
            "Tomayto, tomahto? Encoding variant taxonomies in TEI",
            "Documenting Transmission: The Analysis of the Folk Process using Versioning Machine 5.0"
           ],
           [
            "Wake up, standOff!",
            "TEI document and schema visualization and modeling using mindmaps",
            "Purifying and Simplifying: Advanced TEI Customization",
            "Encoding Text as a Nexus of Perspective Hierarchies: Case Studies in XML, LMNL, and RDF",
            "We are TEI. You will be assimilated!",
            "Encoding Text about Things"
           ],
           [
            "Andreas Okopenko: diaries from the poet’s estate (hybrid edition)",
            "Bibliography in the Inscriptions of Israel / Palestine Epigraphic Project",
            "Bringing TEI PM to Foggy Bottom",
            "Creating Digital Critical Editions with Readux",
            "Database of Belarusian Periodicals",
            "From DOCX via TEI to Literature Map",
            "Hyperdonat, digital edition project",
            "Modeling a Body of Literature in TEI: Bibliotheca Hagiographica Syriaca Electronica",
            "Support for TEI editions in academic libraries. An upcoming study of the Library Publishing Coalition",
            "Tagging on Buddhist Images via IIIF and TEI encoding",
            "TEI in the Archives: Unfolding the Bookshops in Paul’s Cross Churchyard",
            "The Digital Editions Catalogue App: A web application to browse, curate and analyze digital editions",
            "Towards a Repository of Senses for Use in TEI encoded Dictionaries",
            "Wienerisches Diarium Digital: Unlocking a historic newspaper for interdisciplinary studies with the TEI Guidelines",
            "STEP Transcriptor and STEP Text Comparator",
            "EuRED: XML-TEI in database structure",
            "HowTo create your own digital edition web app — A blog"
           ],
           [
            "TEI markup for the 90-volume edition of Leo Tolstoy’s complete works",
            "Shakespeare's N-grams at 400: Comparing Content Themes With Four Contemporaries",
            "The Authoritative Bibliography for the Chymistry of Isaac Newton",
            "Encoding crime and punishment: A digital collection of historic broadsheets",
            "The BVH in Tours and the \"Bibliothèque françoise\" project",
            "Early Modern Slovenian Manuscripts Between Description, Critical Edition and Lexicon"
           ],
           [
            "Converting and Representing Social Media Corpora into TEI: Schema and best practices from CLARIN-D",
            "Móricz Digital Edition — Possibilities and connections of a correspondence material",
            "Biography as compilation: How to edit Georg Nikolaus Nissen’s",
            "Upconversion and Migration: Generating a TEI-EpiDoc Corpus of Sicilian Inscriptions",
            "Cantus Network — a semantically enriched digital edition of libri ordinarii of the Salzburg metropolitan province",
            "Does this shoe fit? Applying the TEI guidelines to Sanskrit philosophical texts"
           ]
          ]
         },
         "header": {
          "align": [
           "center"
          ],
          "fill": {
           "color": "grey"
          },
          "font": {
           "color": "white",
           "size": 12
          },
          "line": {
           "color": "darkslategray"
          },
          "values": [
           "<b>Groupe 1</b>",
           "<b>Groupe 2</b>",
           "<b>Groupe 3</b>",
           "<b>Groupe 4</b>",
           "<b>Groupe 5</b>",
           "<b>Groupe 6</b>",
           "<b>Groupe 7</b>",
           "<b>Groupe 8</b>"
          ]
         },
         "type": "table"
        }
       ],
       "layout": {
        "template": {
         "data": {
          "bar": [
           {
            "error_x": {
             "color": "#2a3f5f"
            },
            "error_y": {
             "color": "#2a3f5f"
            },
            "marker": {
             "line": {
              "color": "#E5ECF6",
              "width": 0.5
             }
            },
            "type": "bar"
           }
          ],
          "barpolar": [
           {
            "marker": {
             "line": {
              "color": "#E5ECF6",
              "width": 0.5
             }
            },
            "type": "barpolar"
           }
          ],
          "carpet": [
           {
            "aaxis": {
             "endlinecolor": "#2a3f5f",
             "gridcolor": "white",
             "linecolor": "white",
             "minorgridcolor": "white",
             "startlinecolor": "#2a3f5f"
            },
            "baxis": {
             "endlinecolor": "#2a3f5f",
             "gridcolor": "white",
             "linecolor": "white",
             "minorgridcolor": "white",
             "startlinecolor": "#2a3f5f"
            },
            "type": "carpet"
           }
          ],
          "choropleth": [
           {
            "colorbar": {
             "outlinewidth": 0,
             "ticks": ""
            },
            "type": "choropleth"
           }
          ],
          "contour": [
           {
            "colorbar": {
             "outlinewidth": 0,
             "ticks": ""
            },
            "colorscale": [
             [
              0,
              "#0d0887"
             ],
             [
              0.1111111111111111,
              "#46039f"
             ],
             [
              0.2222222222222222,
              "#7201a8"
             ],
             [
              0.3333333333333333,
              "#9c179e"
             ],
             [
              0.4444444444444444,
              "#bd3786"
             ],
             [
              0.5555555555555556,
              "#d8576b"
             ],
             [
              0.6666666666666666,
              "#ed7953"
             ],
             [
              0.7777777777777778,
              "#fb9f3a"
             ],
             [
              0.8888888888888888,
              "#fdca26"
             ],
             [
              1,
              "#f0f921"
             ]
            ],
            "type": "contour"
           }
          ],
          "contourcarpet": [
           {
            "colorbar": {
             "outlinewidth": 0,
             "ticks": ""
            },
            "type": "contourcarpet"
           }
          ],
          "heatmap": [
           {
            "colorbar": {
             "outlinewidth": 0,
             "ticks": ""
            },
            "colorscale": [
             [
              0,
              "#0d0887"
             ],
             [
              0.1111111111111111,
              "#46039f"
             ],
             [
              0.2222222222222222,
              "#7201a8"
             ],
             [
              0.3333333333333333,
              "#9c179e"
             ],
             [
              0.4444444444444444,
              "#bd3786"
             ],
             [
              0.5555555555555556,
              "#d8576b"
             ],
             [
              0.6666666666666666,
              "#ed7953"
             ],
             [
              0.7777777777777778,
              "#fb9f3a"
             ],
             [
              0.8888888888888888,
              "#fdca26"
             ],
             [
              1,
              "#f0f921"
             ]
            ],
            "type": "heatmap"
           }
          ],
          "heatmapgl": [
           {
            "colorbar": {
             "outlinewidth": 0,
             "ticks": ""
            },
            "colorscale": [
             [
              0,
              "#0d0887"
             ],
             [
              0.1111111111111111,
              "#46039f"
             ],
             [
              0.2222222222222222,
              "#7201a8"
             ],
             [
              0.3333333333333333,
              "#9c179e"
             ],
             [
              0.4444444444444444,
              "#bd3786"
             ],
             [
              0.5555555555555556,
              "#d8576b"
             ],
             [
              0.6666666666666666,
              "#ed7953"
             ],
             [
              0.7777777777777778,
              "#fb9f3a"
             ],
             [
              0.8888888888888888,
              "#fdca26"
             ],
             [
              1,
              "#f0f921"
             ]
            ],
            "type": "heatmapgl"
           }
          ],
          "histogram": [
           {
            "marker": {
             "colorbar": {
              "outlinewidth": 0,
              "ticks": ""
             }
            },
            "type": "histogram"
           }
          ],
          "histogram2d": [
           {
            "colorbar": {
             "outlinewidth": 0,
             "ticks": ""
            },
            "colorscale": [
             [
              0,
              "#0d0887"
             ],
             [
              0.1111111111111111,
              "#46039f"
             ],
             [
              0.2222222222222222,
              "#7201a8"
             ],
             [
              0.3333333333333333,
              "#9c179e"
             ],
             [
              0.4444444444444444,
              "#bd3786"
             ],
             [
              0.5555555555555556,
              "#d8576b"
             ],
             [
              0.6666666666666666,
              "#ed7953"
             ],
             [
              0.7777777777777778,
              "#fb9f3a"
             ],
             [
              0.8888888888888888,
              "#fdca26"
             ],
             [
              1,
              "#f0f921"
             ]
            ],
            "type": "histogram2d"
           }
          ],
          "histogram2dcontour": [
           {
            "colorbar": {
             "outlinewidth": 0,
             "ticks": ""
            },
            "colorscale": [
             [
              0,
              "#0d0887"
             ],
             [
              0.1111111111111111,
              "#46039f"
             ],
             [
              0.2222222222222222,
              "#7201a8"
             ],
             [
              0.3333333333333333,
              "#9c179e"
             ],
             [
              0.4444444444444444,
              "#bd3786"
             ],
             [
              0.5555555555555556,
              "#d8576b"
             ],
             [
              0.6666666666666666,
              "#ed7953"
             ],
             [
              0.7777777777777778,
              "#fb9f3a"
             ],
             [
              0.8888888888888888,
              "#fdca26"
             ],
             [
              1,
              "#f0f921"
             ]
            ],
            "type": "histogram2dcontour"
           }
          ],
          "mesh3d": [
           {
            "colorbar": {
             "outlinewidth": 0,
             "ticks": ""
            },
            "type": "mesh3d"
           }
          ],
          "parcoords": [
           {
            "line": {
             "colorbar": {
              "outlinewidth": 0,
              "ticks": ""
             }
            },
            "type": "parcoords"
           }
          ],
          "pie": [
           {
            "automargin": true,
            "type": "pie"
           }
          ],
          "scatter": [
           {
            "marker": {
             "colorbar": {
              "outlinewidth": 0,
              "ticks": ""
             }
            },
            "type": "scatter"
           }
          ],
          "scatter3d": [
           {
            "line": {
             "colorbar": {
              "outlinewidth": 0,
              "ticks": ""
             }
            },
            "marker": {
             "colorbar": {
              "outlinewidth": 0,
              "ticks": ""
             }
            },
            "type": "scatter3d"
           }
          ],
          "scattercarpet": [
           {
            "marker": {
             "colorbar": {
              "outlinewidth": 0,
              "ticks": ""
             }
            },
            "type": "scattercarpet"
           }
          ],
          "scattergeo": [
           {
            "marker": {
             "colorbar": {
              "outlinewidth": 0,
              "ticks": ""
             }
            },
            "type": "scattergeo"
           }
          ],
          "scattergl": [
           {
            "marker": {
             "colorbar": {
              "outlinewidth": 0,
              "ticks": ""
             }
            },
            "type": "scattergl"
           }
          ],
          "scattermapbox": [
           {
            "marker": {
             "colorbar": {
              "outlinewidth": 0,
              "ticks": ""
             }
            },
            "type": "scattermapbox"
           }
          ],
          "scatterpolar": [
           {
            "marker": {
             "colorbar": {
              "outlinewidth": 0,
              "ticks": ""
             }
            },
            "type": "scatterpolar"
           }
          ],
          "scatterpolargl": [
           {
            "marker": {
             "colorbar": {
              "outlinewidth": 0,
              "ticks": ""
             }
            },
            "type": "scatterpolargl"
           }
          ],
          "scatterternary": [
           {
            "marker": {
             "colorbar": {
              "outlinewidth": 0,
              "ticks": ""
             }
            },
            "type": "scatterternary"
           }
          ],
          "surface": [
           {
            "colorbar": {
             "outlinewidth": 0,
             "ticks": ""
            },
            "colorscale": [
             [
              0,
              "#0d0887"
             ],
             [
              0.1111111111111111,
              "#46039f"
             ],
             [
              0.2222222222222222,
              "#7201a8"
             ],
             [
              0.3333333333333333,
              "#9c179e"
             ],
             [
              0.4444444444444444,
              "#bd3786"
             ],
             [
              0.5555555555555556,
              "#d8576b"
             ],
             [
              0.6666666666666666,
              "#ed7953"
             ],
             [
              0.7777777777777778,
              "#fb9f3a"
             ],
             [
              0.8888888888888888,
              "#fdca26"
             ],
             [
              1,
              "#f0f921"
             ]
            ],
            "type": "surface"
           }
          ],
          "table": [
           {
            "cells": {
             "fill": {
              "color": "#EBF0F8"
             },
             "line": {
              "color": "white"
             }
            },
            "header": {
             "fill": {
              "color": "#C8D4E3"
             },
             "line": {
              "color": "white"
             }
            },
            "type": "table"
           }
          ]
         },
         "layout": {
          "annotationdefaults": {
           "arrowcolor": "#2a3f5f",
           "arrowhead": 0,
           "arrowwidth": 1
          },
          "coloraxis": {
           "colorbar": {
            "outlinewidth": 0,
            "ticks": ""
           }
          },
          "colorscale": {
           "diverging": [
            [
             0,
             "#8e0152"
            ],
            [
             0.1,
             "#c51b7d"
            ],
            [
             0.2,
             "#de77ae"
            ],
            [
             0.3,
             "#f1b6da"
            ],
            [
             0.4,
             "#fde0ef"
            ],
            [
             0.5,
             "#f7f7f7"
            ],
            [
             0.6,
             "#e6f5d0"
            ],
            [
             0.7,
             "#b8e186"
            ],
            [
             0.8,
             "#7fbc41"
            ],
            [
             0.9,
             "#4d9221"
            ],
            [
             1,
             "#276419"
            ]
           ],
           "sequential": [
            [
             0,
             "#0d0887"
            ],
            [
             0.1111111111111111,
             "#46039f"
            ],
            [
             0.2222222222222222,
             "#7201a8"
            ],
            [
             0.3333333333333333,
             "#9c179e"
            ],
            [
             0.4444444444444444,
             "#bd3786"
            ],
            [
             0.5555555555555556,
             "#d8576b"
            ],
            [
             0.6666666666666666,
             "#ed7953"
            ],
            [
             0.7777777777777778,
             "#fb9f3a"
            ],
            [
             0.8888888888888888,
             "#fdca26"
            ],
            [
             1,
             "#f0f921"
            ]
           ],
           "sequentialminus": [
            [
             0,
             "#0d0887"
            ],
            [
             0.1111111111111111,
             "#46039f"
            ],
            [
             0.2222222222222222,
             "#7201a8"
            ],
            [
             0.3333333333333333,
             "#9c179e"
            ],
            [
             0.4444444444444444,
             "#bd3786"
            ],
            [
             0.5555555555555556,
             "#d8576b"
            ],
            [
             0.6666666666666666,
             "#ed7953"
            ],
            [
             0.7777777777777778,
             "#fb9f3a"
            ],
            [
             0.8888888888888888,
             "#fdca26"
            ],
            [
             1,
             "#f0f921"
            ]
           ]
          },
          "colorway": [
           "#636efa",
           "#EF553B",
           "#00cc96",
           "#ab63fa",
           "#FFA15A",
           "#19d3f3",
           "#FF6692",
           "#B6E880",
           "#FF97FF",
           "#FECB52"
          ],
          "font": {
           "color": "#2a3f5f"
          },
          "geo": {
           "bgcolor": "white",
           "lakecolor": "white",
           "landcolor": "#E5ECF6",
           "showlakes": true,
           "showland": true,
           "subunitcolor": "white"
          },
          "hoverlabel": {
           "align": "left"
          },
          "hovermode": "closest",
          "mapbox": {
           "style": "light"
          },
          "paper_bgcolor": "white",
          "plot_bgcolor": "#E5ECF6",
          "polar": {
           "angularaxis": {
            "gridcolor": "white",
            "linecolor": "white",
            "ticks": ""
           },
           "bgcolor": "#E5ECF6",
           "radialaxis": {
            "gridcolor": "white",
            "linecolor": "white",
            "ticks": ""
           }
          },
          "scene": {
           "xaxis": {
            "backgroundcolor": "#E5ECF6",
            "gridcolor": "white",
            "gridwidth": 2,
            "linecolor": "white",
            "showbackground": true,
            "ticks": "",
            "zerolinecolor": "white"
           },
           "yaxis": {
            "backgroundcolor": "#E5ECF6",
            "gridcolor": "white",
            "gridwidth": 2,
            "linecolor": "white",
            "showbackground": true,
            "ticks": "",
            "zerolinecolor": "white"
           },
           "zaxis": {
            "backgroundcolor": "#E5ECF6",
            "gridcolor": "white",
            "gridwidth": 2,
            "linecolor": "white",
            "showbackground": true,
            "ticks": "",
            "zerolinecolor": "white"
           }
          },
          "shapedefaults": {
           "line": {
            "color": "#2a3f5f"
           }
          },
          "ternary": {
           "aaxis": {
            "gridcolor": "white",
            "linecolor": "white",
            "ticks": ""
           },
           "baxis": {
            "gridcolor": "white",
            "linecolor": "white",
            "ticks": ""
           },
           "bgcolor": "#E5ECF6",
           "caxis": {
            "gridcolor": "white",
            "linecolor": "white",
            "ticks": ""
           }
          },
          "title": {
           "x": 0.05
          },
          "xaxis": {
           "automargin": true,
           "gridcolor": "white",
           "linecolor": "white",
           "ticks": "",
           "title": {
            "standoff": 15
           },
           "zerolinecolor": "white",
           "zerolinewidth": 2
          },
          "yaxis": {
           "automargin": true,
           "gridcolor": "white",
           "linecolor": "white",
           "ticks": "",
           "title": {
            "standoff": 15
           },
           "zerolinecolor": "white",
           "zerolinewidth": 2
          }
         }
        }
       }
      },
      "text/html": [
       "<div>\n",
       "        \n",
       "        \n",
       "            <div id=\"012e80cd-9021-433d-a371-23590fe3f65e\" class=\"plotly-graph-div\" style=\"height:525px; width:100%;\"></div>\n",
       "            <script type=\"text/javascript\">\n",
       "                require([\"plotly\"], function(Plotly) {\n",
       "                    window.PLOTLYENV=window.PLOTLYENV || {};\n",
       "                    \n",
       "                if (document.getElementById(\"012e80cd-9021-433d-a371-23590fe3f65e\")) {\n",
       "                    Plotly.newPlot(\n",
       "                        '012e80cd-9021-433d-a371-23590fe3f65e',\n",
       "                        [{\"cells\": {\"align\": [\"center\"], \"fill\": {\"color\": [[\"white\", \"lightgrey\", \"white\", \"lightgrey\", \"white\", \"white\", \"lightgrey\", \"white\", \"lightgrey\", \"white\", \"white\", \"lightgrey\", \"white\", \"lightgrey\", \"white\", \"white\", \"lightgrey\", \"white\", \"lightgrey\", \"white\", \"white\", \"lightgrey\", \"white\", \"lightgrey\", \"white\"]]}, \"font\": {\"color\": \"darkslategray\", \"size\": 9}, \"line\": {\"color\": \"darkslategray\"}, \"values\": [[\"TEIScribe: A graphic tool for composing and testing TEI documents in the context of the EVI-LINHD environment\", \"Building a collaborative editorial workbench for legal texts with complex structures\", \"Automating the validation of TEI metadata processing\", \"Common Creativity international. CC-licensing and other options for TEI-based digital editions in an international context\", \"T\\u00b3 \\u2013 Typesetting TEI Using TeX. A Plea for High-quality Typesetting in the Humanities\", \"TEI Processing Model Toolbox\"], [\"Applying Standard Formats and Tools\", \"Capturing the crowd-sourcing process: storing different stages of crowd-sourced transcriptions in TEI\", \"Wiki2TEI: Wikipedias as sources for language research\", \"Islamic Manuscripts in Cambridge Digital Library & the German-French virtual library project Paleocoran\", \"msDesc at Oxford and Cambridge\", \"Creating a maintainable cataloging workflow and infrastructure using TEI\"], [\"CETEIcean, a JavaScript library for isomorphic TEI to HTML transformation\", \"The Elwood Markup & Text Analyzer (TEMTA)\", \"Early Print: annotation module for TEI\", \"STEP Transcriptor: a comprehensive TEI-XML compliant transcription app\"], [\"TEI and lemon: a comparative study on the lexical encoding and interoperability\", \"Exploring data models for heterogenous dialect data: the case of explore.bread.AT!\", \"Encoding a Dictionary of Russian Dialects in TEI and linking to LOD Resources\", \"Writing under the Magnifying Glass. Encoding the Text in Progress\", \"Tomayto, tomahto? Encoding variant taxonomies in TEI\", \"Documenting Transmission: The Analysis of the Folk Process using Versioning Machine 5.0\"], [\"Wake up, standOff!\", \"TEI document and schema visualization and modeling using mindmaps\", \"Purifying and Simplifying: Advanced TEI Customization\", \"Encoding Text as a Nexus of Perspective Hierarchies: Case Studies in XML, LMNL, and RDF\", \"We are TEI. You will be assimilated!\", \"Encoding Text about Things\"], [\"Andreas Okopenko: diaries from the poet\\u2019s estate (hybrid edition)\", \"Bibliography in the Inscriptions of Israel / Palestine Epigraphic Project\", \"Bringing TEI PM to Foggy Bottom\", \"Creating Digital Critical Editions with Readux\", \"Database of Belarusian Periodicals\", \"From DOCX via TEI to Literature Map\", \"Hyperdonat, digital edition project\", \"Modeling a Body of Literature in TEI: Bibliotheca Hagiographica Syriaca Electronica\", \"Support for TEI editions in academic libraries. An upcoming study of the Library Publishing Coalition\", \"Tagging on Buddhist Images via IIIF and TEI encoding\", \"TEI in the Archives: Unfolding the Bookshops in Paul\\u2019s Cross Churchyard\", \"The Digital Editions Catalogue App: A web application to browse, curate and analyze digital editions\", \"Towards a Repository of Senses for Use in TEI encoded Dictionaries\", \"Wienerisches Diarium Digital: Unlocking a historic newspaper for interdisciplinary studies with the TEI Guidelines\", \"STEP Transcriptor and STEP Text Comparator\", \"EuRED: XML-TEI in database structure\", \"HowTo create your own digital edition web app \\u2014 A blog\"], [\"TEI markup for the 90-volume edition of Leo Tolstoy\\u2019s complete works\", \"Shakespeare's N-grams at 400: Comparing Content Themes With Four Contemporaries\", \"The Authoritative Bibliography for the Chymistry of Isaac Newton\", \"Encoding crime and punishment: A digital collection of historic broadsheets\", \"The BVH in Tours and the \\\"Biblioth\\u00e8que fran\\u00e7oise\\\" project\", \"Early Modern Slovenian Manuscripts Between Description, Critical Edition and Lexicon\"], [\"Converting and Representing Social Media Corpora into TEI: Schema and best practices from CLARIN-D\", \"M\\u00f3ricz Digital Edition \\u2014 Possibilities and connections of a correspondence material\", \"Biography as compilation: How to edit Georg Nikolaus Nissen\\u2019s\", \"Upconversion and Migration: Generating a TEI-EpiDoc Corpus of Sicilian Inscriptions\", \"Cantus Network \\u2014 a semantically enriched digital edition of libri ordinarii of the Salzburg metropolitan province\", \"Does this shoe fit? Applying the TEI guidelines to Sanskrit philosophical texts\"]]}, \"header\": {\"align\": [\"center\"], \"fill\": {\"color\": \"grey\"}, \"font\": {\"color\": \"white\", \"size\": 12}, \"line\": {\"color\": \"darkslategray\"}, \"values\": [\"<b>Groupe 1</b>\", \"<b>Groupe 2</b>\", \"<b>Groupe 3</b>\", \"<b>Groupe 4</b>\", \"<b>Groupe 5</b>\", \"<b>Groupe 6</b>\", \"<b>Groupe 7</b>\", \"<b>Groupe 8</b>\"]}, \"type\": \"table\"}],\n",
       "                        {\"template\": {\"data\": {\"bar\": [{\"error_x\": {\"color\": \"#2a3f5f\"}, \"error_y\": {\"color\": \"#2a3f5f\"}, \"marker\": {\"line\": {\"color\": \"#E5ECF6\", \"width\": 0.5}}, \"type\": \"bar\"}], \"barpolar\": [{\"marker\": {\"line\": {\"color\": \"#E5ECF6\", \"width\": 0.5}}, \"type\": \"barpolar\"}], \"carpet\": [{\"aaxis\": {\"endlinecolor\": \"#2a3f5f\", \"gridcolor\": \"white\", \"linecolor\": \"white\", \"minorgridcolor\": \"white\", \"startlinecolor\": \"#2a3f5f\"}, \"baxis\": {\"endlinecolor\": \"#2a3f5f\", \"gridcolor\": \"white\", \"linecolor\": \"white\", \"minorgridcolor\": \"white\", \"startlinecolor\": \"#2a3f5f\"}, \"type\": \"carpet\"}], \"choropleth\": [{\"colorbar\": {\"outlinewidth\": 0, \"ticks\": \"\"}, \"type\": \"choropleth\"}], \"contour\": [{\"colorbar\": {\"outlinewidth\": 0, \"ticks\": \"\"}, \"colorscale\": [[0.0, \"#0d0887\"], [0.1111111111111111, \"#46039f\"], [0.2222222222222222, \"#7201a8\"], [0.3333333333333333, \"#9c179e\"], [0.4444444444444444, \"#bd3786\"], [0.5555555555555556, \"#d8576b\"], [0.6666666666666666, \"#ed7953\"], [0.7777777777777778, \"#fb9f3a\"], [0.8888888888888888, \"#fdca26\"], [1.0, \"#f0f921\"]], \"type\": \"contour\"}], \"contourcarpet\": [{\"colorbar\": {\"outlinewidth\": 0, \"ticks\": \"\"}, \"type\": \"contourcarpet\"}], \"heatmap\": [{\"colorbar\": {\"outlinewidth\": 0, \"ticks\": \"\"}, \"colorscale\": [[0.0, \"#0d0887\"], [0.1111111111111111, \"#46039f\"], [0.2222222222222222, \"#7201a8\"], [0.3333333333333333, \"#9c179e\"], [0.4444444444444444, \"#bd3786\"], [0.5555555555555556, \"#d8576b\"], [0.6666666666666666, \"#ed7953\"], [0.7777777777777778, \"#fb9f3a\"], [0.8888888888888888, \"#fdca26\"], [1.0, \"#f0f921\"]], \"type\": \"heatmap\"}], \"heatmapgl\": [{\"colorbar\": {\"outlinewidth\": 0, \"ticks\": \"\"}, \"colorscale\": [[0.0, \"#0d0887\"], [0.1111111111111111, \"#46039f\"], [0.2222222222222222, \"#7201a8\"], [0.3333333333333333, \"#9c179e\"], [0.4444444444444444, \"#bd3786\"], [0.5555555555555556, \"#d8576b\"], [0.6666666666666666, \"#ed7953\"], [0.7777777777777778, \"#fb9f3a\"], [0.8888888888888888, \"#fdca26\"], [1.0, \"#f0f921\"]], \"type\": \"heatmapgl\"}], \"histogram\": [{\"marker\": {\"colorbar\": {\"outlinewidth\": 0, \"ticks\": \"\"}}, \"type\": \"histogram\"}], \"histogram2d\": [{\"colorbar\": {\"outlinewidth\": 0, \"ticks\": \"\"}, \"colorscale\": [[0.0, \"#0d0887\"], [0.1111111111111111, \"#46039f\"], [0.2222222222222222, \"#7201a8\"], [0.3333333333333333, \"#9c179e\"], [0.4444444444444444, \"#bd3786\"], [0.5555555555555556, \"#d8576b\"], [0.6666666666666666, \"#ed7953\"], [0.7777777777777778, \"#fb9f3a\"], [0.8888888888888888, \"#fdca26\"], [1.0, \"#f0f921\"]], \"type\": \"histogram2d\"}], \"histogram2dcontour\": [{\"colorbar\": {\"outlinewidth\": 0, \"ticks\": \"\"}, \"colorscale\": [[0.0, \"#0d0887\"], [0.1111111111111111, \"#46039f\"], [0.2222222222222222, \"#7201a8\"], [0.3333333333333333, \"#9c179e\"], [0.4444444444444444, \"#bd3786\"], [0.5555555555555556, \"#d8576b\"], [0.6666666666666666, \"#ed7953\"], [0.7777777777777778, \"#fb9f3a\"], [0.8888888888888888, \"#fdca26\"], [1.0, \"#f0f921\"]], \"type\": \"histogram2dcontour\"}], \"mesh3d\": [{\"colorbar\": {\"outlinewidth\": 0, \"ticks\": \"\"}, \"type\": \"mesh3d\"}], \"parcoords\": [{\"line\": {\"colorbar\": {\"outlinewidth\": 0, \"ticks\": \"\"}}, \"type\": \"parcoords\"}], \"pie\": [{\"automargin\": true, \"type\": \"pie\"}], \"scatter\": [{\"marker\": {\"colorbar\": {\"outlinewidth\": 0, \"ticks\": \"\"}}, \"type\": \"scatter\"}], \"scatter3d\": [{\"line\": {\"colorbar\": {\"outlinewidth\": 0, \"ticks\": \"\"}}, \"marker\": {\"colorbar\": {\"outlinewidth\": 0, \"ticks\": \"\"}}, \"type\": \"scatter3d\"}], \"scattercarpet\": [{\"marker\": {\"colorbar\": {\"outlinewidth\": 0, \"ticks\": \"\"}}, \"type\": \"scattercarpet\"}], \"scattergeo\": [{\"marker\": {\"colorbar\": {\"outlinewidth\": 0, \"ticks\": \"\"}}, \"type\": \"scattergeo\"}], \"scattergl\": [{\"marker\": {\"colorbar\": {\"outlinewidth\": 0, \"ticks\": \"\"}}, \"type\": \"scattergl\"}], \"scattermapbox\": [{\"marker\": {\"colorbar\": {\"outlinewidth\": 0, \"ticks\": \"\"}}, \"type\": \"scattermapbox\"}], \"scatterpolar\": [{\"marker\": {\"colorbar\": {\"outlinewidth\": 0, \"ticks\": \"\"}}, \"type\": \"scatterpolar\"}], \"scatterpolargl\": [{\"marker\": {\"colorbar\": {\"outlinewidth\": 0, \"ticks\": \"\"}}, \"type\": \"scatterpolargl\"}], \"scatterternary\": [{\"marker\": {\"colorbar\": {\"outlinewidth\": 0, \"ticks\": \"\"}}, \"type\": \"scatterternary\"}], \"surface\": [{\"colorbar\": {\"outlinewidth\": 0, \"ticks\": \"\"}, \"colorscale\": [[0.0, \"#0d0887\"], [0.1111111111111111, \"#46039f\"], [0.2222222222222222, \"#7201a8\"], [0.3333333333333333, \"#9c179e\"], [0.4444444444444444, \"#bd3786\"], [0.5555555555555556, \"#d8576b\"], [0.6666666666666666, \"#ed7953\"], [0.7777777777777778, \"#fb9f3a\"], [0.8888888888888888, \"#fdca26\"], [1.0, \"#f0f921\"]], \"type\": \"surface\"}], \"table\": [{\"cells\": {\"fill\": {\"color\": \"#EBF0F8\"}, \"line\": {\"color\": \"white\"}}, \"header\": {\"fill\": {\"color\": \"#C8D4E3\"}, \"line\": {\"color\": \"white\"}}, \"type\": \"table\"}]}, \"layout\": {\"annotationdefaults\": {\"arrowcolor\": \"#2a3f5f\", \"arrowhead\": 0, \"arrowwidth\": 1}, \"coloraxis\": {\"colorbar\": {\"outlinewidth\": 0, \"ticks\": \"\"}}, \"colorscale\": {\"diverging\": [[0, \"#8e0152\"], [0.1, \"#c51b7d\"], [0.2, \"#de77ae\"], [0.3, \"#f1b6da\"], [0.4, \"#fde0ef\"], [0.5, \"#f7f7f7\"], [0.6, \"#e6f5d0\"], [0.7, \"#b8e186\"], [0.8, \"#7fbc41\"], [0.9, \"#4d9221\"], [1, \"#276419\"]], \"sequential\": [[0.0, \"#0d0887\"], [0.1111111111111111, \"#46039f\"], [0.2222222222222222, \"#7201a8\"], [0.3333333333333333, \"#9c179e\"], [0.4444444444444444, \"#bd3786\"], [0.5555555555555556, \"#d8576b\"], [0.6666666666666666, \"#ed7953\"], [0.7777777777777778, \"#fb9f3a\"], [0.8888888888888888, \"#fdca26\"], [1.0, \"#f0f921\"]], \"sequentialminus\": [[0.0, \"#0d0887\"], [0.1111111111111111, \"#46039f\"], [0.2222222222222222, \"#7201a8\"], [0.3333333333333333, \"#9c179e\"], [0.4444444444444444, \"#bd3786\"], [0.5555555555555556, \"#d8576b\"], [0.6666666666666666, \"#ed7953\"], [0.7777777777777778, \"#fb9f3a\"], [0.8888888888888888, \"#fdca26\"], [1.0, \"#f0f921\"]]}, \"colorway\": [\"#636efa\", \"#EF553B\", \"#00cc96\", \"#ab63fa\", \"#FFA15A\", \"#19d3f3\", \"#FF6692\", \"#B6E880\", \"#FF97FF\", \"#FECB52\"], \"font\": {\"color\": \"#2a3f5f\"}, \"geo\": {\"bgcolor\": \"white\", \"lakecolor\": \"white\", \"landcolor\": \"#E5ECF6\", \"showlakes\": true, \"showland\": true, \"subunitcolor\": \"white\"}, \"hoverlabel\": {\"align\": \"left\"}, \"hovermode\": \"closest\", \"mapbox\": {\"style\": \"light\"}, \"paper_bgcolor\": \"white\", \"plot_bgcolor\": \"#E5ECF6\", \"polar\": {\"angularaxis\": {\"gridcolor\": \"white\", \"linecolor\": \"white\", \"ticks\": \"\"}, \"bgcolor\": \"#E5ECF6\", \"radialaxis\": {\"gridcolor\": \"white\", \"linecolor\": \"white\", \"ticks\": \"\"}}, \"scene\": {\"xaxis\": {\"backgroundcolor\": \"#E5ECF6\", \"gridcolor\": \"white\", \"gridwidth\": 2, \"linecolor\": \"white\", \"showbackground\": true, \"ticks\": \"\", \"zerolinecolor\": \"white\"}, \"yaxis\": {\"backgroundcolor\": \"#E5ECF6\", \"gridcolor\": \"white\", \"gridwidth\": 2, \"linecolor\": \"white\", \"showbackground\": true, \"ticks\": \"\", \"zerolinecolor\": \"white\"}, \"zaxis\": {\"backgroundcolor\": \"#E5ECF6\", \"gridcolor\": \"white\", \"gridwidth\": 2, \"linecolor\": \"white\", \"showbackground\": true, \"ticks\": \"\", \"zerolinecolor\": \"white\"}}, \"shapedefaults\": {\"line\": {\"color\": \"#2a3f5f\"}}, \"ternary\": {\"aaxis\": {\"gridcolor\": \"white\", \"linecolor\": \"white\", \"ticks\": \"\"}, \"baxis\": {\"gridcolor\": \"white\", \"linecolor\": \"white\", \"ticks\": \"\"}, \"bgcolor\": \"#E5ECF6\", \"caxis\": {\"gridcolor\": \"white\", \"linecolor\": \"white\", \"ticks\": \"\"}}, \"title\": {\"x\": 0.05}, \"xaxis\": {\"automargin\": true, \"gridcolor\": \"white\", \"linecolor\": \"white\", \"ticks\": \"\", \"title\": {\"standoff\": 15}, \"zerolinecolor\": \"white\", \"zerolinewidth\": 2}, \"yaxis\": {\"automargin\": true, \"gridcolor\": \"white\", \"linecolor\": \"white\", \"ticks\": \"\", \"title\": {\"standoff\": 15}, \"zerolinecolor\": \"white\", \"zerolinewidth\": 2}}}},\n",
       "                        {\"responsive\": true}\n",
       "                    ).then(function(){\n",
       "                            \n",
       "var gd = document.getElementById('012e80cd-9021-433d-a371-23590fe3f65e');\n",
       "var x = new MutationObserver(function (mutations, observer) {{\n",
       "        var display = window.getComputedStyle(gd).display;\n",
       "        if (!display || display === 'none') {{\n",
       "            console.log([gd, 'removed!']);\n",
       "            Plotly.purge(gd);\n",
       "            observer.disconnect();\n",
       "        }}\n",
       "}});\n",
       "\n",
       "// Listen for the removal of the full notebook cells\n",
       "var notebookContainer = gd.closest('#notebook-container');\n",
       "if (notebookContainer) {{\n",
       "    x.observe(notebookContainer, {childList: true});\n",
       "}}\n",
       "\n",
       "// Listen for the clearing of the current output cell\n",
       "var outputEl = gd.closest('.output');\n",
       "if (outputEl) {{\n",
       "    x.observe(outputEl, {childList: true});\n",
       "}}\n",
       "\n",
       "                        })\n",
       "                };\n",
       "                });\n",
       "            </script>\n",
       "        </div>"
      ]
     },
     "metadata": {},
     "output_type": "display_data"
    }
   ],
   "source": [
    "import plotly.graph_objects as go\n",
    "\n",
    "headerColor = 'grey'\n",
    "rowEvenColor = 'lightgrey'\n",
    "rowOddColor = 'white'\n",
    "\n",
    "fig = go.Figure(data=[go.Table(\n",
    "  header=dict(\n",
    "    values=['<b>Groupe 1</b>','<b>Groupe 2</b>','<b>Groupe 3</b>','<b>Groupe 4</b>','<b>Groupe 5</b>','<b>Groupe 6</b>','<b>Groupe 7</b>','<b>Groupe 8</b>'],\n",
    "    line_color='darkslategray',\n",
    "    fill_color=headerColor,\n",
    "    align=['center'],\n",
    "    font=dict(color='white', size=12)\n",
    "  ),\n",
    "  cells=dict(\n",
    "    values=[\n",
    "      list_grp1,\n",
    "      list_grp2,\n",
    "      list_grp3,\n",
    "      list_grp4,\n",
    "      list_grp5,\n",
    "      list_grp6,\n",
    "      list_grp7,\n",
    "      list_grp8],\n",
    "    line_color='darkslategray',\n",
    "    # 2-D list of colors for alternating rows\n",
    "    fill_color = [[rowOddColor,rowEvenColor,rowOddColor, rowEvenColor,rowOddColor]*5],\n",
    "    align = ['center'],\n",
    "    font = dict(color = 'darkslategray', size = 9)\n",
    "    ))\n",
    "])\n",
    "\n",
    "fig.show()\n",
    "\n",
    "fig = go.Figure(data=[go.Table(\n",
    "  header=dict(\n",
    "    values=['<b>Groupe 1</b>','<b>Groupe 2</b>','<b>Groupe 3</b>','<b>Groupe 4</b>','<b>Groupe 5</b>','<b>Groupe 6</b>','<b>Groupe 7</b>','<b>Groupe 8</b>'],\n",
    "    line_color='darkslategray',\n",
    "    fill_color=headerColor,\n",
    "    align=['center'],\n",
    "    font=dict(color='white', size=12)\n",
    "  ),\n",
    "  cells=dict(\n",
    "    values=[\n",
    "      V_grp1,\n",
    "      V_grp2,\n",
    "      V_grp3,\n",
    "      V_grp4,\n",
    "      V_grp5,\n",
    "      V_grp6,\n",
    "      V_grp7,\n",
    "      V_grp8],\n",
    "    line_color='darkslategray',\n",
    "    # 2-D list of colors for alternating rows\n",
    "    fill_color = [[rowOddColor,rowEvenColor,rowOddColor, rowEvenColor,rowOddColor]*5],\n",
    "    align = ['center'],\n",
    "    font = dict(color = 'darkslategray', size = 9)\n",
    "    ))\n",
    "])\n",
    "\n",
    "fig.show()"
   ]
  },
  {
   "cell_type": "markdown",
   "metadata": {},
   "source": [
    "### Distribution à l'intérieur des clusters  ###\n",
    "\n",
    "Nous représentons la distribution des conférences dans un camembert."
   ]
  },
  {
   "cell_type": "code",
   "execution_count": 17,
   "metadata": {
    "scrolled": true
   },
   "outputs": [
    {
     "data": {
      "image/png": "[encoded data removed]",
      "text/plain": [
       "<Figure size 432x288 with 1 Axes>"
      ]
     },
     "metadata": {},
     "output_type": "display_data"
    },
    {
     "data": {
      "image/png": "[encoded data removed]",
      "text/plain": [
       "<Figure size 432x288 with 1 Axes>"
      ]
     },
     "metadata": {},
     "output_type": "display_data"
    }
   ],
   "source": [
    "import matplotlib.pyplot as plt\n",
    "\n",
    "labels = 'Groupe 1', 'Groupe 2', 'Groupe 3', 'Groupe 4', 'Groupe 5', 'Groupe 6', 'Groupe 7', 'Groupe 8'\n",
    "sizes = [len(list_grp1), len(list_grp2), len(list_grp3), len(list_grp4), len(list_grp5), len(list_grp6), len(list_grp7), len(list_grp8)]\n",
    "colors = ['yellowgreen', 'gold', 'lightskyblue', 'lightcoral', 'blue', 'yellow', 'green', 'red']\n",
    "explode = (0.2, 0.2, 0.2, 0.2, 0.2, 0.2, 0.2, 0.2)\n",
    "plt.pie(sizes, explode=explode, labels=labels, colors=colors, autopct='%1.1f%%', shadow=True, startangle=90)\n",
    "plt.axis('equal')\n",
    "plt.title(\"Regroupement des abstracts de la Conference TEI 2016 par thème selon l'ordinateur\")\n",
    "plt.show()\n",
    "\n",
    "labels = 'Groupe 1', 'Groupe 2', 'Groupe 3', 'Groupe 4', 'Groupe 5', 'Groupe 6', 'Groupe 7', 'Groupe 8'\n",
    "sizes = [len(V_grp1), len(V_grp2), len(V_grp3), len(V_grp4), len(V_grp5), len(V_grp6), len(V_grp7), len(V_grp8)]\n",
    "colors = ['yellowgreen', 'gold', 'lightskyblue', 'lightcoral', 'blue', 'yellow', 'green', 'red']\n",
    "explode = (0.2, 0.2, 0.2, 0.2, 0.2, 0.2, 0.2, 0.2)\n",
    "plt.pie(sizes, explode=explode, labels=labels, colors=colors, autopct='%1.1f%%', shadow=True, startangle=90)\n",
    "plt.axis('equal')\n",
    "plt.title(\"Regroupement des abstracts de la Conference TEI 2016 par thème selon les organisateurs\")\n",
    "plt.show()"
   ]
  },
  {
   "cell_type": "markdown",
   "metadata": {},
   "source": [
    "Les résultats obtenus, notamment via le camembert, sont très intéressants : globalement, la taille des clusters est identique de manière relative entre les groupes faits par la machine et ceux faits par les ordinateurs.\n",
    "\n",
    "Cependant, quand nous regardons les deux tableaux, nous voyons que sauf exception, ce ne sont pas les mêmes textes qui sont mis ensemble."
   ]
  },
  {
   "cell_type": "markdown",
   "metadata": {},
   "source": [
    "### Comprendre ses clusters avec NMF ###\n",
    "\n",
    "Grâce à la librairie NMF (Factorisation Matricielle Non-négative), je peux essayer de comprendre les clusters produits pour la machine en lui demandant de sortir les mots les plus représentatifs de chaque cluster. \n",
    "\n",
    "Nous allons donc pouvoir utiliser la librairie NMF qui se base sur la vectorisation de SKLearn pour reconstruire les clusters, mais cette fois-ci en sortant les mot-clés les plus utilisés."
   ]
  },
  {
   "cell_type": "code",
   "execution_count": 11,
   "metadata": {},
   "outputs": [],
   "source": [
    "transformer = TfidfTransformer(smooth_idf=True)\n",
    "x_tfidf = transformer.fit_transform(X) #j'insère X, c'est à dire les documents vectorisés\n",
    "xtfidf_norm = normalize(x_tfidf, norm='l1', axis=1) #normalisation des vecteurs pour rentrer dans la matrice"
   ]
  },
  {
   "cell_type": "code",
   "execution_count": 12,
   "metadata": {},
   "outputs": [
    {
     "data": {
      "text/plain": [
       "NMF(alpha=0.0, beta_loss='frobenius', init=None, l1_ratio=0.0, max_iter=200,\n",
       "    n_components=8, random_state=None, shuffle=False, solver='cd', tol=0.0001,\n",
       "    verbose=0)"
      ]
     },
     "execution_count": 12,
     "metadata": {},
     "output_type": "execute_result"
    }
   ],
   "source": [
    "num_topics = 8\n",
    "model = NMF(n_components=num_topics) #Je construis l'algorithme de NMF\n",
    "model.fit(xtfidf_norm) #J'entre mes vecteurs normalisés dans l'algorithme de NMF"
   ]
  },
  {
   "cell_type": "code",
   "execution_count": 13,
   "metadata": {},
   "outputs": [],
   "source": [
    "def get_nmf_topics(model, n_top_words):\n",
    "    \n",
    "    # Je récupère ici un dictionnaire avec le mot en clé et son vecteur en valeur. Permet de récupérer les mots.\n",
    "    feat_names = vectorizer.get_feature_names()\n",
    "    \n",
    "    word_dict = {}\n",
    "    for i in range(num_topics):\n",
    "        \n",
    "        #Pour chaque cluster j'obtiens les plus gros vecteurs, et j'ajoute les mots dans le dictionnaires initialisés \"word_dict\".\n",
    "        words_ids = model.components_[i].argsort()[:-20 - 1:-1]\n",
    "        words = [feat_names[key] for key in words_ids]\n",
    "        word_dict['Cluster n° ' + '{:02d}'.format(i+1)] = words\n",
    "    \n",
    "    return pd.DataFrame(word_dict);"
   ]
  },
  {
   "cell_type": "code",
   "execution_count": 14,
   "metadata": {},
   "outputs": [
    {
     "data": {
      "text/html": [
       "<div>\n",
       "<style scoped>\n",
       "    .dataframe tbody tr th:only-of-type {\n",
       "        vertical-align: middle;\n",
       "    }\n",
       "\n",
       "    .dataframe tbody tr th {\n",
       "        vertical-align: top;\n",
       "    }\n",
       "\n",
       "    .dataframe thead th {\n",
       "        text-align: right;\n",
       "    }\n",
       "</style>\n",
       "<table border=\"1\" class=\"dataframe\">\n",
       "  <thead>\n",
       "    <tr style=\"text-align: right;\">\n",
       "      <th></th>\n",
       "      <th>Cluster n° 01</th>\n",
       "      <th>Cluster n° 02</th>\n",
       "      <th>Cluster n° 03</th>\n",
       "      <th>Cluster n° 04</th>\n",
       "      <th>Cluster n° 05</th>\n",
       "      <th>Cluster n° 06</th>\n",
       "      <th>Cluster n° 07</th>\n",
       "      <th>Cluster n° 08</th>\n",
       "    </tr>\n",
       "  </thead>\n",
       "  <tbody>\n",
       "    <tr>\n",
       "      <th>0</th>\n",
       "      <td>syriaca</td>\n",
       "      <td>digital</td>\n",
       "      <td>express</td>\n",
       "      <td>specific</td>\n",
       "      <td>responsibility</td>\n",
       "      <td>bibliotheca</td>\n",
       "      <td>decision</td>\n",
       "      <td>create</td>\n",
       "    </tr>\n",
       "    <tr>\n",
       "      <th>1</th>\n",
       "      <td>literature</td>\n",
       "      <td>suggestion</td>\n",
       "      <td>vii</td>\n",
       "      <td>different</td>\n",
       "      <td>number</td>\n",
       "      <td>description</td>\n",
       "      <td>map</td>\n",
       "      <td>metadata</td>\n",
       "    </tr>\n",
       "    <tr>\n",
       "      <th>2</th>\n",
       "      <td>tei</td>\n",
       "      <td>genuine</td>\n",
       "      <td>particularly</td>\n",
       "      <td>content</td>\n",
       "      <td>content</td>\n",
       "      <td>tabular</td>\n",
       "      <td>life</td>\n",
       "      <td>archive</td>\n",
       "    </tr>\n",
       "    <tr>\n",
       "      <th>3</th>\n",
       "      <td>relationship</td>\n",
       "      <td>description</td>\n",
       "      <td>bibliotheca</td>\n",
       "      <td>publish</td>\n",
       "      <td>bhse</td>\n",
       "      <td>metadata</td>\n",
       "      <td>dataset</td>\n",
       "      <td>record</td>\n",
       "    </tr>\n",
       "    <tr>\n",
       "      <th>4</th>\n",
       "      <td>metadata</td>\n",
       "      <td>editorial</td>\n",
       "      <td>pseudonymous</td>\n",
       "      <td>bhse</td>\n",
       "      <td>edition</td>\n",
       "      <td>legacy</td>\n",
       "      <td>express</td>\n",
       "      <td>format</td>\n",
       "    </tr>\n",
       "    <tr>\n",
       "      <th>5</th>\n",
       "      <td>model</td>\n",
       "      <td>work</td>\n",
       "      <td>map</td>\n",
       "      <td>metadata</td>\n",
       "      <td>corpus</td>\n",
       "      <td>decision</td>\n",
       "      <td>frequently</td>\n",
       "      <td>relationship</td>\n",
       "    </tr>\n",
       "    <tr>\n",
       "      <th>6</th>\n",
       "      <td>work</td>\n",
       "      <td>authorial</td>\n",
       "      <td>corpus</td>\n",
       "      <td>textbearing</td>\n",
       "      <td>recension</td>\n",
       "      <td>poster</td>\n",
       "      <td>encode</td>\n",
       "      <td>apply</td>\n",
       "    </tr>\n",
       "    <tr>\n",
       "      <th>7</th>\n",
       "      <td>org</td>\n",
       "      <td>core</td>\n",
       "      <td>syriac</td>\n",
       "      <td>person</td>\n",
       "      <td>pron</td>\n",
       "      <td>author</td>\n",
       "      <td>language</td>\n",
       "      <td>attribute</td>\n",
       "    </tr>\n",
       "    <tr>\n",
       "      <th>8</th>\n",
       "      <td>body</td>\n",
       "      <td>previous</td>\n",
       "      <td>particular</td>\n",
       "      <td>core</td>\n",
       "      <td>sense</td>\n",
       "      <td>electronica</td>\n",
       "      <td>edition</td>\n",
       "      <td>frbrhttp</td>\n",
       "    </tr>\n",
       "    <tr>\n",
       "      <th>9</th>\n",
       "      <td>syriac</td>\n",
       "      <td>expand</td>\n",
       "      <td>genuine</td>\n",
       "      <td>revise</td>\n",
       "      <td>expand</td>\n",
       "      <td>marc</td>\n",
       "      <td>classification</td>\n",
       "      <td>editorial</td>\n",
       "    </tr>\n",
       "    <tr>\n",
       "      <th>10</th>\n",
       "      <td>hagiographica</td>\n",
       "      <td>express</td>\n",
       "      <td>allege</td>\n",
       "      <td>use</td>\n",
       "      <td>publish</td>\n",
       "      <td>publish</td>\n",
       "      <td>little</td>\n",
       "      <td>bibliotheca</td>\n",
       "    </tr>\n",
       "    <tr>\n",
       "      <th>11</th>\n",
       "      <td>bibliotheca</td>\n",
       "      <td>life</td>\n",
       "      <td>transform</td>\n",
       "      <td>follow</td>\n",
       "      <td>schema</td>\n",
       "      <td>language</td>\n",
       "      <td>write</td>\n",
       "      <td>object</td>\n",
       "    </tr>\n",
       "    <tr>\n",
       "      <th>12</th>\n",
       "      <td>schema</td>\n",
       "      <td>pseudonymous</td>\n",
       "      <td>relationship</td>\n",
       "      <td>schema</td>\n",
       "      <td>vii</td>\n",
       "      <td>follow</td>\n",
       "      <td>particular</td>\n",
       "      <td>body</td>\n",
       "    </tr>\n",
       "    <tr>\n",
       "      <th>13</th>\n",
       "      <td>bear</td>\n",
       "      <td>frbrhttp</td>\n",
       "      <td>s13</td>\n",
       "      <td>guideline</td>\n",
       "      <td>relationship</td>\n",
       "      <td>suggestion</td>\n",
       "      <td>literature</td>\n",
       "      <td>similar</td>\n",
       "    </tr>\n",
       "    <tr>\n",
       "      <th>14</th>\n",
       "      <td>pron</td>\n",
       "      <td>literature</td>\n",
       "      <td>suggestion</td>\n",
       "      <td>attribute</td>\n",
       "      <td>tabular</td>\n",
       "      <td>electronicahttp</td>\n",
       "      <td>genuine</td>\n",
       "      <td>person</td>\n",
       "    </tr>\n",
       "    <tr>\n",
       "      <th>15</th>\n",
       "      <td>decision</td>\n",
       "      <td>present</td>\n",
       "      <td>format</td>\n",
       "      <td>project</td>\n",
       "      <td>present</td>\n",
       "      <td>literary</td>\n",
       "      <td>marc</td>\n",
       "      <td>pron</td>\n",
       "    </tr>\n",
       "    <tr>\n",
       "      <th>16</th>\n",
       "      <td>use</td>\n",
       "      <td>methodological</td>\n",
       "      <td>encode</td>\n",
       "      <td>literature</td>\n",
       "      <td>body</td>\n",
       "      <td>format</td>\n",
       "      <td>frbr</td>\n",
       "      <td>recension</td>\n",
       "    </tr>\n",
       "    <tr>\n",
       "      <th>17</th>\n",
       "      <td>number</td>\n",
       "      <td>feedback</td>\n",
       "      <td>specific</td>\n",
       "      <td>marc</td>\n",
       "      <td>frbrhttp</td>\n",
       "      <td>interested</td>\n",
       "      <td>anonymous</td>\n",
       "      <td>pseudonymous</td>\n",
       "    </tr>\n",
       "    <tr>\n",
       "      <th>18</th>\n",
       "      <td>express</td>\n",
       "      <td>manuscript</td>\n",
       "      <td>bhse</td>\n",
       "      <td>work</td>\n",
       "      <td>actively</td>\n",
       "      <td>recension</td>\n",
       "      <td>pron</td>\n",
       "      <td>description</td>\n",
       "    </tr>\n",
       "    <tr>\n",
       "      <th>19</th>\n",
       "      <td>poster</td>\n",
       "      <td>project</td>\n",
       "      <td>use</td>\n",
       "      <td>particularly</td>\n",
       "      <td>model</td>\n",
       "      <td>canon</td>\n",
       "      <td>s13</td>\n",
       "      <td>allege</td>\n",
       "    </tr>\n",
       "  </tbody>\n",
       "</table>\n",
       "</div>"
      ],
      "text/plain": [
       "    Cluster n° 01   Cluster n° 02 Cluster n° 03 Cluster n° 04   Cluster n° 05  \\\n",
       "0         syriaca         digital       express      specific  responsibility   \n",
       "1      literature      suggestion           vii     different          number   \n",
       "2             tei         genuine  particularly       content         content   \n",
       "3    relationship     description   bibliotheca       publish            bhse   \n",
       "4        metadata       editorial  pseudonymous          bhse         edition   \n",
       "5           model            work           map      metadata          corpus   \n",
       "6            work       authorial        corpus   textbearing       recension   \n",
       "7             org            core        syriac        person            pron   \n",
       "8            body        previous    particular          core           sense   \n",
       "9          syriac          expand       genuine        revise          expand   \n",
       "10  hagiographica         express        allege           use         publish   \n",
       "11    bibliotheca            life     transform        follow          schema   \n",
       "12         schema    pseudonymous  relationship        schema             vii   \n",
       "13           bear        frbrhttp           s13     guideline    relationship   \n",
       "14           pron      literature    suggestion     attribute         tabular   \n",
       "15       decision         present        format       project         present   \n",
       "16            use  methodological        encode    literature            body   \n",
       "17         number        feedback      specific          marc        frbrhttp   \n",
       "18        express      manuscript          bhse          work        actively   \n",
       "19         poster         project           use  particularly           model   \n",
       "\n",
       "      Cluster n° 06   Cluster n° 07 Cluster n° 08  \n",
       "0       bibliotheca        decision        create  \n",
       "1       description             map      metadata  \n",
       "2           tabular            life       archive  \n",
       "3          metadata         dataset        record  \n",
       "4            legacy         express        format  \n",
       "5          decision      frequently  relationship  \n",
       "6            poster          encode         apply  \n",
       "7            author        language     attribute  \n",
       "8       electronica         edition      frbrhttp  \n",
       "9              marc  classification     editorial  \n",
       "10          publish          little   bibliotheca  \n",
       "11         language           write        object  \n",
       "12           follow      particular          body  \n",
       "13       suggestion      literature       similar  \n",
       "14  electronicahttp         genuine        person  \n",
       "15         literary            marc          pron  \n",
       "16           format            frbr     recension  \n",
       "17       interested       anonymous  pseudonymous  \n",
       "18        recension            pron   description  \n",
       "19            canon             s13        allege  "
      ]
     },
     "execution_count": 14,
     "metadata": {},
     "output_type": "execute_result"
    }
   ],
   "source": [
    "get_nmf_topics(model, 10)"
   ]
  },
  {
   "cell_type": "markdown",
   "metadata": {},
   "source": [
    "Les clusters ainsi formés ont, comme on aurait pu l'imaginer, aucun sens pour un être humain malheureusement."
   ]
  }
 ],
 "metadata": {
  "kernelspec": {
   "display_name": "Python 3",
   "language": "python",
   "name": "python3"
  },
  "language_info": {
   "codemirror_mode": {
    "name": "ipython",
    "version": 3
   },
   "file_extension": ".py",
   "mimetype": "text/x-python",
   "name": "python",
   "nbconvert_exporter": "python",
   "pygments_lexer": "ipython3",
   "version": "3.6.9"
  }
 },
 "nbformat": 4,
 "nbformat_minor": 2
}

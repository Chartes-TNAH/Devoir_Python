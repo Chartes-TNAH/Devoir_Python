{
 "cells": [
  {
   "cell_type": "markdown",
   "metadata": {},
   "source": [
    "# TEI Conference 2016 #\n",
    "\n",
    "Nous allons ici analyser la conférence TEI 2016.\n",
    "\n",
    "## Etape 1 : le téléchargement ##\n",
    "\n",
    "Tout d'abord, il faut télécharger les fichiers. Il se trouve qu'un dépôt git accueillant les abstracts encodés en TEI a été mis en place. Nous allons donc cloner le dépôt git dans le cache puis le supprimer (il contient bon nombre d'éléments peu intéressants pour nous) et conserver seulement le dossier qui nous intéresse, afin d'avoir une navigation plus facile dans le cache."
   ]
  },
  {
   "cell_type": "markdown",
   "metadata": {},
   "source": [
    "## Les packages ##\n",
    "\n",
    "Nous utilisons le package git pour cloner le dépôt git.\n",
    "\n",
    "Le package Os permet de naviguer dans les fichiers du cache, et le package shutil permet de manipuler plus facilement les fichiers."
   ]
  },
  {
   "cell_type": "code",
   "execution_count": 1,
   "metadata": {},
   "outputs": [],
   "source": [
    "import git\n",
    "import os\n",
    "import shutil"
   ]
  },
  {
   "cell_type": "markdown",
   "metadata": {},
   "source": [
    "## Cloner le dépôt git ##\n",
    "\n",
    "Je crée le cache et je clone le dépôt en local."
   ]
  },
  {
   "cell_type": "code",
   "execution_count": 7,
   "metadata": {},
   "outputs": [],
   "source": [
    "if not os.path.exists(\"./cache2016\"):\n",
    "    os.makedirs(\"./cache2016\")"
   ]
  },
  {
   "cell_type": "code",
   "execution_count": 8,
   "metadata": {},
   "outputs": [
    {
     "data": {
      "text/plain": [
       "''"
      ]
     },
     "execution_count": 8,
     "metadata": {},
     "output_type": "execute_result"
    }
   ],
   "source": [
    "git.Git(\"./cache2016\").clone(\"https://github.com/acdh-oeaw/TEI2016abstracts\")"
   ]
  },
  {
   "cell_type": "markdown",
   "metadata": {},
   "source": [
    "## Nettoyage et mise en ordre du cache ##\n",
    "\n",
    "Je copie le fichier contenant les abstracts dans le dépôt git dans un fichier renommé et normalisé."
   ]
  },
  {
   "cell_type": "code",
   "execution_count": 9,
   "metadata": {},
   "outputs": [],
   "source": [
    "if not os.path.exists(\"./cache2016/cacheXML\"):\n",
    "    os.makedirs(\"./cache2016/cacheXML\")"
   ]
  },
  {
   "cell_type": "code",
   "execution_count": 10,
   "metadata": {},
   "outputs": [],
   "source": [
    "os.rename('./cache2016/TEI2016abstracts/TEI', './cache2016/cacheXML')"
   ]
  },
  {
   "cell_type": "markdown",
   "metadata": {},
   "source": [
    "Je supprime le dépôt git et je supprime du dossier accueillant les abstracts un dossier d'image que nous n'utiliserons pas."
   ]
  },
  {
   "cell_type": "code",
   "execution_count": 11,
   "metadata": {},
   "outputs": [],
   "source": [
    "if os.path.exists(\"./cache2016/TEI2016abstracts\"):\n",
    "    shutil.rmtree('./cache2016/TEI2016abstracts')\n",
    "if os.path.exists(\"./cache2016/cacheXML/imgs\"):\n",
    "    shutil.rmtree('./cache2016/cacheXML/imgs')"
   ]
  }
 ],
 "metadata": {
  "kernelspec": {
   "display_name": "Python 3",
   "language": "python",
   "name": "python3"
  },
  "language_info": {
   "codemirror_mode": {
    "name": "ipython",
    "version": 3
   },
   "file_extension": ".py",
   "mimetype": "text/x-python",
   "name": "python",
   "nbconvert_exporter": "python",
   "pygments_lexer": "ipython3",
   "version": "3.6.9"
  }
 },
 "nbformat": 4,
 "nbformat_minor": 4
}
